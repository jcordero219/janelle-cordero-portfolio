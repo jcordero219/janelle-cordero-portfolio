{
 "cells": [
  {
   "cell_type": "markdown",
   "metadata": {},
   "source": [
    "# **The Simpsons Through the Data**"
   ]
  },
  {
   "cell_type": "markdown",
   "metadata": {},
   "source": [
    "#### There is much to be learned from the popular and timeless series, The Simpsons. When deviating from the standard quantitative metrics like ratings and reach, we can find meaningful groups and topics within the data looking at characters, locations, and spoken lines within all 600 episodes of the Simpsons."
   ]
  },
  {
   "cell_type": "markdown",
   "metadata": {},
   "source": [
    "#### Working in the world of television, the main attribute to determine the success of an episode is often a rating or reach. What if we took the innate creative features of a program that are closer to a viewer’s knowledge and more salient. “Which of my favorite characters are in this episode?” “I laugh whenever Bart gets in trouble at Springfield Elementary School.” Homer’s lines are iconic.” We can take these attributes to classify the kinds of episodes that come out of the Simpsons. With the episode clusters, how well are they voted for on IMDB? How are they viewed?"
   ]
  },
  {
   "cell_type": "markdown",
   "metadata": {},
   "source": [
    "#### Using a comprehensive dataset of 27 seasons of the Simpsons, what groups of episodes using creative attributes like characters, locations, and lines, can we find based on viewers, and which groups perform the best to inform creative content creators?"
   ]
  },
  {
   "cell_type": "markdown",
   "metadata": {},
   "source": [
    "#### I expect to see clusters each with similar information. I believe the episodes with the most imdb views will likely be seasonal episodes. These episodes may also have fewer characters, since they often focus on the main cast. Since The Treehouse of Horror episodes are more topical and often based on real-world horror stories, more unusual locations may be present. I expect older episodes with a greater amount of characters to have the highest amounts of views. Creating interesting segments of Simpsons episodes that are similar and adequately different from other groups of episodes will be a success. I expect to see differing imdb scores for each cluster. To help add features to my dataset that can better show the success of an episode, I can match Nielsen data with each of the episode numbers to see a better representation of the success of an episode using each of the features."
   ]
  },
  {
   "cell_type": "code",
   "execution_count": 2,
   "metadata": {
    "collapsed": false
   },
   "outputs": [],
   "source": [
    "# Unicode Handling\n",
    "from __future__ import unicode_literals\n",
    "\n",
    "import pandas as pd\n",
    "import json\n",
    "import numpy as np\n",
    "from sklearn.preprocessing import StandardScaler\n",
    "from sklearn.cluster import KMeans\n",
    "from sklearn.feature_extraction.text import TfidfVectorizer\n",
    "from gensim.models.ldamodel import LdaModel\n",
    "from gensim.matutils import Sparse2Corpus\n",
    "import nltk.classify.util\n",
    "from nltk.classify import NaiveBayesClassifier\n",
    "import matplotlib.pyplot as plt\n",
    "%matplotlib inline  \n",
    "\n",
    "lines = pd.read_csv('simpsons_script_lines.csv')\n",
    "eps = pd.read_csv('simpsons_episodes.csv').fillna(0)\n",
    "chars = pd.read_csv('simpsons_characters.csv')\n",
    "locs = pd.read_csv('simpsons_locations.csv')"
   ]
  },
  {
   "cell_type": "markdown",
   "metadata": {},
   "source": [
    "#  <span style=\"color:blue\"> Cleaning/Merging Datasets </span>"
   ]
  },
  {
   "cell_type": "code",
   "execution_count": 3,
   "metadata": {
    "collapsed": true
   },
   "outputs": [],
   "source": [
    "merged_df = pd.merge(eps, lines, left_on='id', right_on='episode_id')"
   ]
  },
  {
   "cell_type": "code",
   "execution_count": 4,
   "metadata": {
    "collapsed": true
   },
   "outputs": [],
   "source": [
    "epslineschars = pd.merge(merged_df, chars, left_on='raw_character_text', right_on='name')"
   ]
  },
  {
   "cell_type": "code",
   "execution_count": 5,
   "metadata": {
    "collapsed": true
   },
   "outputs": [],
   "source": [
    "data = epslineschars"
   ]
  },
  {
   "cell_type": "code",
   "execution_count": 6,
   "metadata": {
    "collapsed": false
   },
   "outputs": [
    {
     "data": {
      "text/html": [
       "<div>\n",
       "<table border=\"1\" class=\"dataframe\">\n",
       "  <thead>\n",
       "    <tr style=\"text-align: right;\">\n",
       "      <th></th>\n",
       "      <th>id_x</th>\n",
       "      <th>title</th>\n",
       "      <th>original_air_date</th>\n",
       "      <th>production_code</th>\n",
       "      <th>season</th>\n",
       "      <th>number_in_season</th>\n",
       "      <th>number_in_series</th>\n",
       "      <th>us_viewers_in_millions</th>\n",
       "      <th>views</th>\n",
       "      <th>imdb_rating</th>\n",
       "      <th>...</th>\n",
       "      <th>location_id</th>\n",
       "      <th>raw_character_text</th>\n",
       "      <th>raw_location_text</th>\n",
       "      <th>spoken_words</th>\n",
       "      <th>normalized_text</th>\n",
       "      <th>word_count</th>\n",
       "      <th>id</th>\n",
       "      <th>name</th>\n",
       "      <th>normalized_name</th>\n",
       "      <th>gender</th>\n",
       "    </tr>\n",
       "  </thead>\n",
       "  <tbody>\n",
       "    <tr>\n",
       "      <th>0</th>\n",
       "      <td>10</td>\n",
       "      <td>Homer's Night Out</td>\n",
       "      <td>3/25/1990</td>\n",
       "      <td>7G10</td>\n",
       "      <td>1</td>\n",
       "      <td>10</td>\n",
       "      <td>10</td>\n",
       "      <td>30.3</td>\n",
       "      <td>50816.0</td>\n",
       "      <td>7.4</td>\n",
       "      <td>...</td>\n",
       "      <td>154.0</td>\n",
       "      <td>Eugene Fisk</td>\n",
       "      <td>PARTY ROOM</td>\n",
       "      <td>I love you, Dad.</td>\n",
       "      <td>i love you dad</td>\n",
       "      <td>4.0</td>\n",
       "      <td>169</td>\n",
       "      <td>Eugene Fisk</td>\n",
       "      <td>eugene fisk</td>\n",
       "      <td>NaN</td>\n",
       "    </tr>\n",
       "    <tr>\n",
       "      <th>1</th>\n",
       "      <td>10</td>\n",
       "      <td>Homer's Night Out</td>\n",
       "      <td>3/25/1990</td>\n",
       "      <td>7G10</td>\n",
       "      <td>1</td>\n",
       "      <td>10</td>\n",
       "      <td>10</td>\n",
       "      <td>30.3</td>\n",
       "      <td>50816.0</td>\n",
       "      <td>7.4</td>\n",
       "      <td>...</td>\n",
       "      <td>154.0</td>\n",
       "      <td>Mr. Fisk</td>\n",
       "      <td>PARTY ROOM</td>\n",
       "      <td>I love you, son.</td>\n",
       "      <td>i love you son</td>\n",
       "      <td>4.0</td>\n",
       "      <td>168</td>\n",
       "      <td>Mr. Fisk</td>\n",
       "      <td>mr fisk</td>\n",
       "      <td>NaN</td>\n",
       "    </tr>\n",
       "    <tr>\n",
       "      <th>2</th>\n",
       "      <td>10</td>\n",
       "      <td>Homer's Night Out</td>\n",
       "      <td>3/25/1990</td>\n",
       "      <td>7G10</td>\n",
       "      <td>1</td>\n",
       "      <td>10</td>\n",
       "      <td>10</td>\n",
       "      <td>30.3</td>\n",
       "      <td>50816.0</td>\n",
       "      <td>7.4</td>\n",
       "      <td>...</td>\n",
       "      <td>154.0</td>\n",
       "      <td>Mr. Fisk</td>\n",
       "      <td>PARTY ROOM</td>\n",
       "      <td>And just as I was asking myself, \"Where did my...</td>\n",
       "      <td>and just as i was asking myself where did my s...</td>\n",
       "      <td>77.0</td>\n",
       "      <td>168</td>\n",
       "      <td>Mr. Fisk</td>\n",
       "      <td>mr fisk</td>\n",
       "      <td>NaN</td>\n",
       "    </tr>\n",
       "    <tr>\n",
       "      <th>3</th>\n",
       "      <td>10</td>\n",
       "      <td>Homer's Night Out</td>\n",
       "      <td>3/25/1990</td>\n",
       "      <td>7G10</td>\n",
       "      <td>1</td>\n",
       "      <td>10</td>\n",
       "      <td>10</td>\n",
       "      <td>30.3</td>\n",
       "      <td>50816.0</td>\n",
       "      <td>7.4</td>\n",
       "      <td>...</td>\n",
       "      <td>154.0</td>\n",
       "      <td>Mr. Fisk</td>\n",
       "      <td>PARTY ROOM</td>\n",
       "      <td>How do I tell you this, my boy? We're in hell.</td>\n",
       "      <td>how do i tell you this my boy were in hell</td>\n",
       "      <td>11.0</td>\n",
       "      <td>168</td>\n",
       "      <td>Mr. Fisk</td>\n",
       "      <td>mr fisk</td>\n",
       "      <td>NaN</td>\n",
       "    </tr>\n",
       "    <tr>\n",
       "      <th>4</th>\n",
       "      <td>10</td>\n",
       "      <td>Homer's Night Out</td>\n",
       "      <td>3/25/1990</td>\n",
       "      <td>7G10</td>\n",
       "      <td>1</td>\n",
       "      <td>10</td>\n",
       "      <td>10</td>\n",
       "      <td>30.3</td>\n",
       "      <td>50816.0</td>\n",
       "      <td>7.4</td>\n",
       "      <td>...</td>\n",
       "      <td>91.0</td>\n",
       "      <td>Marge Simpson</td>\n",
       "      <td>Simpson Bathroom</td>\n",
       "      <td>So how was the office birthday party?</td>\n",
       "      <td>so how was the office birthday party</td>\n",
       "      <td>7.0</td>\n",
       "      <td>1</td>\n",
       "      <td>Marge Simpson</td>\n",
       "      <td>marge simpson</td>\n",
       "      <td>f</td>\n",
       "    </tr>\n",
       "  </tbody>\n",
       "</table>\n",
       "<p>5 rows × 32 columns</p>\n",
       "</div>"
      ],
      "text/plain": [
       "   id_x              title original_air_date production_code  season  \\\n",
       "0    10  Homer's Night Out         3/25/1990            7G10       1   \n",
       "1    10  Homer's Night Out         3/25/1990            7G10       1   \n",
       "2    10  Homer's Night Out         3/25/1990            7G10       1   \n",
       "3    10  Homer's Night Out         3/25/1990            7G10       1   \n",
       "4    10  Homer's Night Out         3/25/1990            7G10       1   \n",
       "\n",
       "   number_in_season  number_in_series  us_viewers_in_millions    views  \\\n",
       "0                10                10                    30.3  50816.0   \n",
       "1                10                10                    30.3  50816.0   \n",
       "2                10                10                    30.3  50816.0   \n",
       "3                10                10                    30.3  50816.0   \n",
       "4                10                10                    30.3  50816.0   \n",
       "\n",
       "   imdb_rating  ...    location_id raw_character_text raw_location_text  \\\n",
       "0          7.4  ...          154.0        Eugene Fisk        PARTY ROOM   \n",
       "1          7.4  ...          154.0           Mr. Fisk        PARTY ROOM   \n",
       "2          7.4  ...          154.0           Mr. Fisk        PARTY ROOM   \n",
       "3          7.4  ...          154.0           Mr. Fisk        PARTY ROOM   \n",
       "4          7.4  ...           91.0      Marge Simpson  Simpson Bathroom   \n",
       "\n",
       "                                        spoken_words  \\\n",
       "0                                   I love you, Dad.   \n",
       "1                                   I love you, son.   \n",
       "2  And just as I was asking myself, \"Where did my...   \n",
       "3     How do I tell you this, my boy? We're in hell.   \n",
       "4              So how was the office birthday party?   \n",
       "\n",
       "                                     normalized_text  word_count   id  \\\n",
       "0                                     i love you dad         4.0  169   \n",
       "1                                     i love you son         4.0  168   \n",
       "2  and just as i was asking myself where did my s...        77.0  168   \n",
       "3         how do i tell you this my boy were in hell        11.0  168   \n",
       "4               so how was the office birthday party         7.0    1   \n",
       "\n",
       "            name normalized_name gender  \n",
       "0    Eugene Fisk     eugene fisk    NaN  \n",
       "1       Mr. Fisk         mr fisk    NaN  \n",
       "2       Mr. Fisk         mr fisk    NaN  \n",
       "3       Mr. Fisk         mr fisk    NaN  \n",
       "4  Marge Simpson   marge simpson      f  \n",
       "\n",
       "[5 rows x 32 columns]"
      ]
     },
     "execution_count": 6,
     "metadata": {},
     "output_type": "execute_result"
    }
   ],
   "source": [
    "data.head()"
   ]
  },
  {
   "cell_type": "code",
   "execution_count": 7,
   "metadata": {
    "collapsed": false
   },
   "outputs": [
    {
     "data": {
      "text/plain": [
       "(139442, 32)"
      ]
     },
     "execution_count": 7,
     "metadata": {},
     "output_type": "execute_result"
    }
   ],
   "source": [
    "data.shape"
   ]
  },
  {
   "cell_type": "code",
   "execution_count": 8,
   "metadata": {
    "collapsed": false
   },
   "outputs": [
    {
     "data": {
      "text/plain": [
       "Index([u'id_x', u'title', u'original_air_date', u'production_code', u'season',\n",
       "       u'number_in_season', u'number_in_series', u'us_viewers_in_millions',\n",
       "       u'views', u'imdb_rating', u'imdb_votes', u'image_url', u'video_url',\n",
       "       u'month', u'month_avg', u'id_y', u'episode_id', u'number', u'raw_text',\n",
       "       u'timestamp_in_ms', u'speaking_line', u'character_id', u'location_id',\n",
       "       u'raw_character_text', u'raw_location_text', u'spoken_words',\n",
       "       u'normalized_text', u'word_count', u'id', u'name', u'normalized_name',\n",
       "       u'gender'],\n",
       "      dtype='object')"
      ]
     },
     "execution_count": 8,
     "metadata": {},
     "output_type": "execute_result"
    }
   ],
   "source": [
    "data.columns"
   ]
  },
  {
   "cell_type": "markdown",
   "metadata": {},
   "source": [
    "#  <span style=\"color:blue\"> Feature Engineering </span>"
   ]
  },
  {
   "cell_type": "markdown",
   "metadata": {},
   "source": [
    "### Separate characters into primary and secondary characters based on number of lines per episode"
   ]
  },
  {
   "cell_type": "code",
   "execution_count": 9,
   "metadata": {
    "collapsed": false
   },
   "outputs": [],
   "source": [
    "main_chars = data.groupby(\"name\").count()[\"id\"].sort_values(ascending=False)[0:4]/600"
   ]
  },
  {
   "cell_type": "code",
   "execution_count": 10,
   "metadata": {
    "collapsed": false
   },
   "outputs": [],
   "source": [
    "sec_chars = data.groupby(\"name\").count()[\"id\"].sort_values(ascending=False)[4:10]/600"
   ]
  },
  {
   "cell_type": "code",
   "execution_count": 11,
   "metadata": {
    "collapsed": false
   },
   "outputs": [],
   "source": [
    "def char_tier(row):\n",
    "    if row['name'] in main_chars:\n",
    "        return 'main_character'\n",
    "    if row['name'] in sec_chars:\n",
    "        return 'secondary_character'\n",
    "    else:\n",
    "        return 'tertiary_character'\n",
    "\n",
    "data['char_tier'] = data.apply(lambda row: char_tier (row),axis=1)"
   ]
  },
  {
   "cell_type": "markdown",
   "metadata": {},
   "source": [
    "### Separate locations into primary and secondary characters based on number of appearances per episode"
   ]
  },
  {
   "cell_type": "code",
   "execution_count": 12,
   "metadata": {
    "collapsed": true
   },
   "outputs": [],
   "source": [
    "main_locs = data.groupby(\"raw_location_text\").count()[\"id\"].sort_values(ascending=False)[0:1]/600"
   ]
  },
  {
   "cell_type": "code",
   "execution_count": 13,
   "metadata": {
    "collapsed": false
   },
   "outputs": [],
   "source": [
    "sec_locs = data.groupby(\"raw_location_text\").count()[\"id\"].sort_values(ascending=False)[1:5]/600"
   ]
  },
  {
   "cell_type": "code",
   "execution_count": 14,
   "metadata": {
    "collapsed": false
   },
   "outputs": [],
   "source": [
    "def loc_tier(row):\n",
    "    if row['raw_location_text'] in main_locs:\n",
    "        return 'main_location'\n",
    "    if row['raw_location_text'] in sec_locs:\n",
    "        return 'secondary_location'\n",
    "    else:\n",
    "        return 'tertiary_location'\n",
    "\n",
    "data['loc_tier'] = data.apply(lambda row: loc_tier (row),axis=1)"
   ]
  },
  {
   "cell_type": "code",
   "execution_count": 15,
   "metadata": {
    "collapsed": false
   },
   "outputs": [
    {
     "data": {
      "text/html": [
       "<div>\n",
       "<table border=\"1\" class=\"dataframe\">\n",
       "  <thead>\n",
       "    <tr style=\"text-align: right;\">\n",
       "      <th></th>\n",
       "      <th>id_x</th>\n",
       "      <th>title</th>\n",
       "      <th>original_air_date</th>\n",
       "      <th>production_code</th>\n",
       "      <th>season</th>\n",
       "      <th>number_in_season</th>\n",
       "      <th>number_in_series</th>\n",
       "      <th>us_viewers_in_millions</th>\n",
       "      <th>views</th>\n",
       "      <th>imdb_rating</th>\n",
       "      <th>...</th>\n",
       "      <th>raw_location_text</th>\n",
       "      <th>spoken_words</th>\n",
       "      <th>normalized_text</th>\n",
       "      <th>word_count</th>\n",
       "      <th>id</th>\n",
       "      <th>name</th>\n",
       "      <th>normalized_name</th>\n",
       "      <th>gender</th>\n",
       "      <th>char_tier</th>\n",
       "      <th>loc_tier</th>\n",
       "    </tr>\n",
       "  </thead>\n",
       "  <tbody>\n",
       "    <tr>\n",
       "      <th>0</th>\n",
       "      <td>10</td>\n",
       "      <td>Homer's Night Out</td>\n",
       "      <td>3/25/1990</td>\n",
       "      <td>7G10</td>\n",
       "      <td>1</td>\n",
       "      <td>10</td>\n",
       "      <td>10</td>\n",
       "      <td>30.3</td>\n",
       "      <td>50816.0</td>\n",
       "      <td>7.4</td>\n",
       "      <td>...</td>\n",
       "      <td>PARTY ROOM</td>\n",
       "      <td>I love you, Dad.</td>\n",
       "      <td>i love you dad</td>\n",
       "      <td>4.0</td>\n",
       "      <td>169</td>\n",
       "      <td>Eugene Fisk</td>\n",
       "      <td>eugene fisk</td>\n",
       "      <td>NaN</td>\n",
       "      <td>tertiary_character</td>\n",
       "      <td>tertiary_location</td>\n",
       "    </tr>\n",
       "    <tr>\n",
       "      <th>1</th>\n",
       "      <td>10</td>\n",
       "      <td>Homer's Night Out</td>\n",
       "      <td>3/25/1990</td>\n",
       "      <td>7G10</td>\n",
       "      <td>1</td>\n",
       "      <td>10</td>\n",
       "      <td>10</td>\n",
       "      <td>30.3</td>\n",
       "      <td>50816.0</td>\n",
       "      <td>7.4</td>\n",
       "      <td>...</td>\n",
       "      <td>PARTY ROOM</td>\n",
       "      <td>I love you, son.</td>\n",
       "      <td>i love you son</td>\n",
       "      <td>4.0</td>\n",
       "      <td>168</td>\n",
       "      <td>Mr. Fisk</td>\n",
       "      <td>mr fisk</td>\n",
       "      <td>NaN</td>\n",
       "      <td>tertiary_character</td>\n",
       "      <td>tertiary_location</td>\n",
       "    </tr>\n",
       "    <tr>\n",
       "      <th>2</th>\n",
       "      <td>10</td>\n",
       "      <td>Homer's Night Out</td>\n",
       "      <td>3/25/1990</td>\n",
       "      <td>7G10</td>\n",
       "      <td>1</td>\n",
       "      <td>10</td>\n",
       "      <td>10</td>\n",
       "      <td>30.3</td>\n",
       "      <td>50816.0</td>\n",
       "      <td>7.4</td>\n",
       "      <td>...</td>\n",
       "      <td>PARTY ROOM</td>\n",
       "      <td>And just as I was asking myself, \"Where did my...</td>\n",
       "      <td>and just as i was asking myself where did my s...</td>\n",
       "      <td>77.0</td>\n",
       "      <td>168</td>\n",
       "      <td>Mr. Fisk</td>\n",
       "      <td>mr fisk</td>\n",
       "      <td>NaN</td>\n",
       "      <td>tertiary_character</td>\n",
       "      <td>tertiary_location</td>\n",
       "    </tr>\n",
       "    <tr>\n",
       "      <th>3</th>\n",
       "      <td>10</td>\n",
       "      <td>Homer's Night Out</td>\n",
       "      <td>3/25/1990</td>\n",
       "      <td>7G10</td>\n",
       "      <td>1</td>\n",
       "      <td>10</td>\n",
       "      <td>10</td>\n",
       "      <td>30.3</td>\n",
       "      <td>50816.0</td>\n",
       "      <td>7.4</td>\n",
       "      <td>...</td>\n",
       "      <td>PARTY ROOM</td>\n",
       "      <td>How do I tell you this, my boy? We're in hell.</td>\n",
       "      <td>how do i tell you this my boy were in hell</td>\n",
       "      <td>11.0</td>\n",
       "      <td>168</td>\n",
       "      <td>Mr. Fisk</td>\n",
       "      <td>mr fisk</td>\n",
       "      <td>NaN</td>\n",
       "      <td>tertiary_character</td>\n",
       "      <td>tertiary_location</td>\n",
       "    </tr>\n",
       "    <tr>\n",
       "      <th>4</th>\n",
       "      <td>10</td>\n",
       "      <td>Homer's Night Out</td>\n",
       "      <td>3/25/1990</td>\n",
       "      <td>7G10</td>\n",
       "      <td>1</td>\n",
       "      <td>10</td>\n",
       "      <td>10</td>\n",
       "      <td>30.3</td>\n",
       "      <td>50816.0</td>\n",
       "      <td>7.4</td>\n",
       "      <td>...</td>\n",
       "      <td>Simpson Bathroom</td>\n",
       "      <td>So how was the office birthday party?</td>\n",
       "      <td>so how was the office birthday party</td>\n",
       "      <td>7.0</td>\n",
       "      <td>1</td>\n",
       "      <td>Marge Simpson</td>\n",
       "      <td>marge simpson</td>\n",
       "      <td>f</td>\n",
       "      <td>main_character</td>\n",
       "      <td>tertiary_location</td>\n",
       "    </tr>\n",
       "  </tbody>\n",
       "</table>\n",
       "<p>5 rows × 34 columns</p>\n",
       "</div>"
      ],
      "text/plain": [
       "   id_x              title original_air_date production_code  season  \\\n",
       "0    10  Homer's Night Out         3/25/1990            7G10       1   \n",
       "1    10  Homer's Night Out         3/25/1990            7G10       1   \n",
       "2    10  Homer's Night Out         3/25/1990            7G10       1   \n",
       "3    10  Homer's Night Out         3/25/1990            7G10       1   \n",
       "4    10  Homer's Night Out         3/25/1990            7G10       1   \n",
       "\n",
       "   number_in_season  number_in_series  us_viewers_in_millions    views  \\\n",
       "0                10                10                    30.3  50816.0   \n",
       "1                10                10                    30.3  50816.0   \n",
       "2                10                10                    30.3  50816.0   \n",
       "3                10                10                    30.3  50816.0   \n",
       "4                10                10                    30.3  50816.0   \n",
       "\n",
       "   imdb_rating        ...          raw_location_text  \\\n",
       "0          7.4        ...                 PARTY ROOM   \n",
       "1          7.4        ...                 PARTY ROOM   \n",
       "2          7.4        ...                 PARTY ROOM   \n",
       "3          7.4        ...                 PARTY ROOM   \n",
       "4          7.4        ...           Simpson Bathroom   \n",
       "\n",
       "                                        spoken_words  \\\n",
       "0                                   I love you, Dad.   \n",
       "1                                   I love you, son.   \n",
       "2  And just as I was asking myself, \"Where did my...   \n",
       "3     How do I tell you this, my boy? We're in hell.   \n",
       "4              So how was the office birthday party?   \n",
       "\n",
       "                                     normalized_text  word_count   id  \\\n",
       "0                                     i love you dad         4.0  169   \n",
       "1                                     i love you son         4.0  168   \n",
       "2  and just as i was asking myself where did my s...        77.0  168   \n",
       "3         how do i tell you this my boy were in hell        11.0  168   \n",
       "4               so how was the office birthday party         7.0    1   \n",
       "\n",
       "            name  normalized_name  gender           char_tier  \\\n",
       "0    Eugene Fisk      eugene fisk     NaN  tertiary_character   \n",
       "1       Mr. Fisk          mr fisk     NaN  tertiary_character   \n",
       "2       Mr. Fisk          mr fisk     NaN  tertiary_character   \n",
       "3       Mr. Fisk          mr fisk     NaN  tertiary_character   \n",
       "4  Marge Simpson    marge simpson       f      main_character   \n",
       "\n",
       "            loc_tier  \n",
       "0  tertiary_location  \n",
       "1  tertiary_location  \n",
       "2  tertiary_location  \n",
       "3  tertiary_location  \n",
       "4  tertiary_location  \n",
       "\n",
       "[5 rows x 34 columns]"
      ]
     },
     "execution_count": 15,
     "metadata": {},
     "output_type": "execute_result"
    }
   ],
   "source": [
    "data.head()"
   ]
  },
  {
   "cell_type": "code",
   "execution_count": 16,
   "metadata": {
    "collapsed": false
   },
   "outputs": [
    {
     "data": {
      "text/html": [
       "<div>\n",
       "<table border=\"1\" class=\"dataframe\">\n",
       "  <thead>\n",
       "    <tr style=\"text-align: right;\">\n",
       "      <th></th>\n",
       "      <th>id_x</th>\n",
       "      <th>title</th>\n",
       "      <th>original_air_date</th>\n",
       "      <th>production_code</th>\n",
       "      <th>season</th>\n",
       "      <th>number_in_season</th>\n",
       "      <th>number_in_series</th>\n",
       "      <th>us_viewers_in_millions</th>\n",
       "      <th>views</th>\n",
       "      <th>imdb_rating</th>\n",
       "      <th>...</th>\n",
       "      <th>word_count</th>\n",
       "      <th>id</th>\n",
       "      <th>name</th>\n",
       "      <th>normalized_name</th>\n",
       "      <th>gender</th>\n",
       "      <th>char_tier</th>\n",
       "      <th>loc_tier</th>\n",
       "      <th>main_character</th>\n",
       "      <th>secondary_character</th>\n",
       "      <th>tertiary_character</th>\n",
       "    </tr>\n",
       "  </thead>\n",
       "  <tbody>\n",
       "    <tr>\n",
       "      <th>0</th>\n",
       "      <td>10</td>\n",
       "      <td>Homer's Night Out</td>\n",
       "      <td>3/25/1990</td>\n",
       "      <td>7G10</td>\n",
       "      <td>1</td>\n",
       "      <td>10</td>\n",
       "      <td>10</td>\n",
       "      <td>30.3</td>\n",
       "      <td>50816.0</td>\n",
       "      <td>7.4</td>\n",
       "      <td>...</td>\n",
       "      <td>4.0</td>\n",
       "      <td>169</td>\n",
       "      <td>Eugene Fisk</td>\n",
       "      <td>eugene fisk</td>\n",
       "      <td>NaN</td>\n",
       "      <td>tertiary_character</td>\n",
       "      <td>tertiary_location</td>\n",
       "      <td>0.0</td>\n",
       "      <td>0.0</td>\n",
       "      <td>1.0</td>\n",
       "    </tr>\n",
       "    <tr>\n",
       "      <th>1</th>\n",
       "      <td>10</td>\n",
       "      <td>Homer's Night Out</td>\n",
       "      <td>3/25/1990</td>\n",
       "      <td>7G10</td>\n",
       "      <td>1</td>\n",
       "      <td>10</td>\n",
       "      <td>10</td>\n",
       "      <td>30.3</td>\n",
       "      <td>50816.0</td>\n",
       "      <td>7.4</td>\n",
       "      <td>...</td>\n",
       "      <td>4.0</td>\n",
       "      <td>168</td>\n",
       "      <td>Mr. Fisk</td>\n",
       "      <td>mr fisk</td>\n",
       "      <td>NaN</td>\n",
       "      <td>tertiary_character</td>\n",
       "      <td>tertiary_location</td>\n",
       "      <td>0.0</td>\n",
       "      <td>0.0</td>\n",
       "      <td>1.0</td>\n",
       "    </tr>\n",
       "    <tr>\n",
       "      <th>2</th>\n",
       "      <td>10</td>\n",
       "      <td>Homer's Night Out</td>\n",
       "      <td>3/25/1990</td>\n",
       "      <td>7G10</td>\n",
       "      <td>1</td>\n",
       "      <td>10</td>\n",
       "      <td>10</td>\n",
       "      <td>30.3</td>\n",
       "      <td>50816.0</td>\n",
       "      <td>7.4</td>\n",
       "      <td>...</td>\n",
       "      <td>77.0</td>\n",
       "      <td>168</td>\n",
       "      <td>Mr. Fisk</td>\n",
       "      <td>mr fisk</td>\n",
       "      <td>NaN</td>\n",
       "      <td>tertiary_character</td>\n",
       "      <td>tertiary_location</td>\n",
       "      <td>0.0</td>\n",
       "      <td>0.0</td>\n",
       "      <td>1.0</td>\n",
       "    </tr>\n",
       "    <tr>\n",
       "      <th>3</th>\n",
       "      <td>10</td>\n",
       "      <td>Homer's Night Out</td>\n",
       "      <td>3/25/1990</td>\n",
       "      <td>7G10</td>\n",
       "      <td>1</td>\n",
       "      <td>10</td>\n",
       "      <td>10</td>\n",
       "      <td>30.3</td>\n",
       "      <td>50816.0</td>\n",
       "      <td>7.4</td>\n",
       "      <td>...</td>\n",
       "      <td>11.0</td>\n",
       "      <td>168</td>\n",
       "      <td>Mr. Fisk</td>\n",
       "      <td>mr fisk</td>\n",
       "      <td>NaN</td>\n",
       "      <td>tertiary_character</td>\n",
       "      <td>tertiary_location</td>\n",
       "      <td>0.0</td>\n",
       "      <td>0.0</td>\n",
       "      <td>1.0</td>\n",
       "    </tr>\n",
       "    <tr>\n",
       "      <th>4</th>\n",
       "      <td>10</td>\n",
       "      <td>Homer's Night Out</td>\n",
       "      <td>3/25/1990</td>\n",
       "      <td>7G10</td>\n",
       "      <td>1</td>\n",
       "      <td>10</td>\n",
       "      <td>10</td>\n",
       "      <td>30.3</td>\n",
       "      <td>50816.0</td>\n",
       "      <td>7.4</td>\n",
       "      <td>...</td>\n",
       "      <td>7.0</td>\n",
       "      <td>1</td>\n",
       "      <td>Marge Simpson</td>\n",
       "      <td>marge simpson</td>\n",
       "      <td>f</td>\n",
       "      <td>main_character</td>\n",
       "      <td>tertiary_location</td>\n",
       "      <td>1.0</td>\n",
       "      <td>0.0</td>\n",
       "      <td>0.0</td>\n",
       "    </tr>\n",
       "  </tbody>\n",
       "</table>\n",
       "<p>5 rows × 37 columns</p>\n",
       "</div>"
      ],
      "text/plain": [
       "   id_x              title original_air_date production_code  season  \\\n",
       "0    10  Homer's Night Out         3/25/1990            7G10       1   \n",
       "1    10  Homer's Night Out         3/25/1990            7G10       1   \n",
       "2    10  Homer's Night Out         3/25/1990            7G10       1   \n",
       "3    10  Homer's Night Out         3/25/1990            7G10       1   \n",
       "4    10  Homer's Night Out         3/25/1990            7G10       1   \n",
       "\n",
       "   number_in_season  number_in_series  us_viewers_in_millions    views  \\\n",
       "0                10                10                    30.3  50816.0   \n",
       "1                10                10                    30.3  50816.0   \n",
       "2                10                10                    30.3  50816.0   \n",
       "3                10                10                    30.3  50816.0   \n",
       "4                10                10                    30.3  50816.0   \n",
       "\n",
       "   imdb_rating        ...          word_count   id           name  \\\n",
       "0          7.4        ...                 4.0  169    Eugene Fisk   \n",
       "1          7.4        ...                 4.0  168       Mr. Fisk   \n",
       "2          7.4        ...                77.0  168       Mr. Fisk   \n",
       "3          7.4        ...                11.0  168       Mr. Fisk   \n",
       "4          7.4        ...                 7.0    1  Marge Simpson   \n",
       "\n",
       "   normalized_name  gender           char_tier           loc_tier  \\\n",
       "0      eugene fisk     NaN  tertiary_character  tertiary_location   \n",
       "1          mr fisk     NaN  tertiary_character  tertiary_location   \n",
       "2          mr fisk     NaN  tertiary_character  tertiary_location   \n",
       "3          mr fisk     NaN  tertiary_character  tertiary_location   \n",
       "4    marge simpson       f      main_character  tertiary_location   \n",
       "\n",
       "   main_character secondary_character tertiary_character  \n",
       "0             0.0                 0.0                1.0  \n",
       "1             0.0                 0.0                1.0  \n",
       "2             0.0                 0.0                1.0  \n",
       "3             0.0                 0.0                1.0  \n",
       "4             1.0                 0.0                0.0  \n",
       "\n",
       "[5 rows x 37 columns]"
      ]
     },
     "execution_count": 16,
     "metadata": {},
     "output_type": "execute_result"
    }
   ],
   "source": [
    "data = pd.concat([data, pd.get_dummies(data['char_tier'])], axis=1)\n",
    "data.head(5)"
   ]
  },
  {
   "cell_type": "code",
   "execution_count": 17,
   "metadata": {
    "collapsed": false
   },
   "outputs": [
    {
     "data": {
      "text/html": [
       "<div>\n",
       "<table border=\"1\" class=\"dataframe\">\n",
       "  <thead>\n",
       "    <tr style=\"text-align: right;\">\n",
       "      <th></th>\n",
       "      <th>id_x</th>\n",
       "      <th>title</th>\n",
       "      <th>original_air_date</th>\n",
       "      <th>production_code</th>\n",
       "      <th>season</th>\n",
       "      <th>number_in_season</th>\n",
       "      <th>number_in_series</th>\n",
       "      <th>us_viewers_in_millions</th>\n",
       "      <th>views</th>\n",
       "      <th>imdb_rating</th>\n",
       "      <th>...</th>\n",
       "      <th>normalized_name</th>\n",
       "      <th>gender</th>\n",
       "      <th>char_tier</th>\n",
       "      <th>loc_tier</th>\n",
       "      <th>main_character</th>\n",
       "      <th>secondary_character</th>\n",
       "      <th>tertiary_character</th>\n",
       "      <th>main_location</th>\n",
       "      <th>secondary_location</th>\n",
       "      <th>tertiary_location</th>\n",
       "    </tr>\n",
       "  </thead>\n",
       "  <tbody>\n",
       "    <tr>\n",
       "      <th>0</th>\n",
       "      <td>10</td>\n",
       "      <td>Homer's Night Out</td>\n",
       "      <td>3/25/1990</td>\n",
       "      <td>7G10</td>\n",
       "      <td>1</td>\n",
       "      <td>10</td>\n",
       "      <td>10</td>\n",
       "      <td>30.3</td>\n",
       "      <td>50816.0</td>\n",
       "      <td>7.4</td>\n",
       "      <td>...</td>\n",
       "      <td>eugene fisk</td>\n",
       "      <td>NaN</td>\n",
       "      <td>tertiary_character</td>\n",
       "      <td>tertiary_location</td>\n",
       "      <td>0.0</td>\n",
       "      <td>0.0</td>\n",
       "      <td>1.0</td>\n",
       "      <td>0.0</td>\n",
       "      <td>0.0</td>\n",
       "      <td>1.0</td>\n",
       "    </tr>\n",
       "    <tr>\n",
       "      <th>1</th>\n",
       "      <td>10</td>\n",
       "      <td>Homer's Night Out</td>\n",
       "      <td>3/25/1990</td>\n",
       "      <td>7G10</td>\n",
       "      <td>1</td>\n",
       "      <td>10</td>\n",
       "      <td>10</td>\n",
       "      <td>30.3</td>\n",
       "      <td>50816.0</td>\n",
       "      <td>7.4</td>\n",
       "      <td>...</td>\n",
       "      <td>mr fisk</td>\n",
       "      <td>NaN</td>\n",
       "      <td>tertiary_character</td>\n",
       "      <td>tertiary_location</td>\n",
       "      <td>0.0</td>\n",
       "      <td>0.0</td>\n",
       "      <td>1.0</td>\n",
       "      <td>0.0</td>\n",
       "      <td>0.0</td>\n",
       "      <td>1.0</td>\n",
       "    </tr>\n",
       "    <tr>\n",
       "      <th>2</th>\n",
       "      <td>10</td>\n",
       "      <td>Homer's Night Out</td>\n",
       "      <td>3/25/1990</td>\n",
       "      <td>7G10</td>\n",
       "      <td>1</td>\n",
       "      <td>10</td>\n",
       "      <td>10</td>\n",
       "      <td>30.3</td>\n",
       "      <td>50816.0</td>\n",
       "      <td>7.4</td>\n",
       "      <td>...</td>\n",
       "      <td>mr fisk</td>\n",
       "      <td>NaN</td>\n",
       "      <td>tertiary_character</td>\n",
       "      <td>tertiary_location</td>\n",
       "      <td>0.0</td>\n",
       "      <td>0.0</td>\n",
       "      <td>1.0</td>\n",
       "      <td>0.0</td>\n",
       "      <td>0.0</td>\n",
       "      <td>1.0</td>\n",
       "    </tr>\n",
       "    <tr>\n",
       "      <th>3</th>\n",
       "      <td>10</td>\n",
       "      <td>Homer's Night Out</td>\n",
       "      <td>3/25/1990</td>\n",
       "      <td>7G10</td>\n",
       "      <td>1</td>\n",
       "      <td>10</td>\n",
       "      <td>10</td>\n",
       "      <td>30.3</td>\n",
       "      <td>50816.0</td>\n",
       "      <td>7.4</td>\n",
       "      <td>...</td>\n",
       "      <td>mr fisk</td>\n",
       "      <td>NaN</td>\n",
       "      <td>tertiary_character</td>\n",
       "      <td>tertiary_location</td>\n",
       "      <td>0.0</td>\n",
       "      <td>0.0</td>\n",
       "      <td>1.0</td>\n",
       "      <td>0.0</td>\n",
       "      <td>0.0</td>\n",
       "      <td>1.0</td>\n",
       "    </tr>\n",
       "    <tr>\n",
       "      <th>4</th>\n",
       "      <td>10</td>\n",
       "      <td>Homer's Night Out</td>\n",
       "      <td>3/25/1990</td>\n",
       "      <td>7G10</td>\n",
       "      <td>1</td>\n",
       "      <td>10</td>\n",
       "      <td>10</td>\n",
       "      <td>30.3</td>\n",
       "      <td>50816.0</td>\n",
       "      <td>7.4</td>\n",
       "      <td>...</td>\n",
       "      <td>marge simpson</td>\n",
       "      <td>f</td>\n",
       "      <td>main_character</td>\n",
       "      <td>tertiary_location</td>\n",
       "      <td>1.0</td>\n",
       "      <td>0.0</td>\n",
       "      <td>0.0</td>\n",
       "      <td>0.0</td>\n",
       "      <td>0.0</td>\n",
       "      <td>1.0</td>\n",
       "    </tr>\n",
       "  </tbody>\n",
       "</table>\n",
       "<p>5 rows × 40 columns</p>\n",
       "</div>"
      ],
      "text/plain": [
       "   id_x              title original_air_date production_code  season  \\\n",
       "0    10  Homer's Night Out         3/25/1990            7G10       1   \n",
       "1    10  Homer's Night Out         3/25/1990            7G10       1   \n",
       "2    10  Homer's Night Out         3/25/1990            7G10       1   \n",
       "3    10  Homer's Night Out         3/25/1990            7G10       1   \n",
       "4    10  Homer's Night Out         3/25/1990            7G10       1   \n",
       "\n",
       "   number_in_season  number_in_series  us_viewers_in_millions    views  \\\n",
       "0                10                10                    30.3  50816.0   \n",
       "1                10                10                    30.3  50816.0   \n",
       "2                10                10                    30.3  50816.0   \n",
       "3                10                10                    30.3  50816.0   \n",
       "4                10                10                    30.3  50816.0   \n",
       "\n",
       "   imdb_rating        ...         normalized_name gender           char_tier  \\\n",
       "0          7.4        ...             eugene fisk    NaN  tertiary_character   \n",
       "1          7.4        ...                 mr fisk    NaN  tertiary_character   \n",
       "2          7.4        ...                 mr fisk    NaN  tertiary_character   \n",
       "3          7.4        ...                 mr fisk    NaN  tertiary_character   \n",
       "4          7.4        ...           marge simpson      f      main_character   \n",
       "\n",
       "            loc_tier  main_character  secondary_character  tertiary_character  \\\n",
       "0  tertiary_location             0.0                  0.0                 1.0   \n",
       "1  tertiary_location             0.0                  0.0                 1.0   \n",
       "2  tertiary_location             0.0                  0.0                 1.0   \n",
       "3  tertiary_location             0.0                  0.0                 1.0   \n",
       "4  tertiary_location             1.0                  0.0                 0.0   \n",
       "\n",
       "   main_location secondary_location tertiary_location  \n",
       "0            0.0                0.0               1.0  \n",
       "1            0.0                0.0               1.0  \n",
       "2            0.0                0.0               1.0  \n",
       "3            0.0                0.0               1.0  \n",
       "4            0.0                0.0               1.0  \n",
       "\n",
       "[5 rows x 40 columns]"
      ]
     },
     "execution_count": 17,
     "metadata": {},
     "output_type": "execute_result"
    }
   ],
   "source": [
    "data = pd.concat([data, pd.get_dummies(data['loc_tier'])], axis=1)\n",
    "data.head()"
   ]
  },
  {
   "cell_type": "code",
   "execution_count": 18,
   "metadata": {
    "collapsed": false
   },
   "outputs": [],
   "source": [
    "data = pd.concat([data, pd.get_dummies(data['gender'])], axis=1)"
   ]
  },
  {
   "cell_type": "markdown",
   "metadata": {},
   "source": [
    "### Average views per month"
   ]
  },
  {
   "cell_type": "markdown",
   "metadata": {},
   "source": [
    "#### Episodes around Holiday months like December and October should have more viewers than other months. Annually, The Simpsons airs its Halloween Special: Treehouse of Horror, which grabs the attention of more viewers."
   ]
  },
  {
   "cell_type": "markdown",
   "metadata": {},
   "source": [
    "(Manipulation done in Excel)"
   ]
  },
  {
   "cell_type": "markdown",
   "metadata": {},
   "source": [
    "#### Create a dataframe with average per month to join with the data"
   ]
  },
  {
   "cell_type": "markdown",
   "metadata": {},
   "source": [
    "#  <span style=\"color:blue\"> Exploratory Data Analysis </span>"
   ]
  },
  {
   "cell_type": "markdown",
   "metadata": {},
   "source": [
    "On average, the Simpson's pulls in "
   ]
  },
  {
   "cell_type": "code",
   "execution_count": 18,
   "metadata": {
    "collapsed": false
   },
   "outputs": [
    {
     "data": {
      "text/plain": [
       "count    139442.000000\n",
       "mean          7.435032\n",
       "std           0.719229\n",
       "min           4.500000\n",
       "25%           6.900000\n",
       "50%           7.300000\n",
       "75%           8.000000\n",
       "max           9.200000\n",
       "Name: imdb_rating, dtype: float64"
      ]
     },
     "execution_count": 18,
     "metadata": {},
     "output_type": "execute_result"
    }
   ],
   "source": [
    "data['imdb_rating'].describe()"
   ]
  },
  {
   "cell_type": "code",
   "execution_count": 19,
   "metadata": {
    "collapsed": false
   },
   "outputs": [
    {
     "data": {
      "text/html": [
       "<div>\n",
       "<table border=\"1\" class=\"dataframe\">\n",
       "  <thead>\n",
       "    <tr style=\"text-align: right;\">\n",
       "      <th></th>\n",
       "      <th>id_x</th>\n",
       "      <th>season</th>\n",
       "      <th>number_in_season</th>\n",
       "      <th>number_in_series</th>\n",
       "      <th>us_viewers_in_millions</th>\n",
       "      <th>views</th>\n",
       "      <th>imdb_rating</th>\n",
       "      <th>imdb_votes</th>\n",
       "      <th>month</th>\n",
       "      <th>month_avg</th>\n",
       "      <th>...</th>\n",
       "      <th>word_count</th>\n",
       "      <th>id</th>\n",
       "      <th>main_character</th>\n",
       "      <th>secondary_character</th>\n",
       "      <th>tertiary_character</th>\n",
       "      <th>main_location</th>\n",
       "      <th>secondary_location</th>\n",
       "      <th>tertiary_location</th>\n",
       "      <th>f</th>\n",
       "      <th>m</th>\n",
       "    </tr>\n",
       "  </thead>\n",
       "  <tbody>\n",
       "    <tr>\n",
       "      <th>id_x</th>\n",
       "      <td>1.000000</td>\n",
       "      <td>0.998960</td>\n",
       "      <td>0.002504</td>\n",
       "      <td>1.000000</td>\n",
       "      <td>-0.823155</td>\n",
       "      <td>-0.512901</td>\n",
       "      <td>-0.759658</td>\n",
       "      <td>-0.830190</td>\n",
       "      <td>-0.019300</td>\n",
       "      <td>-0.167226</td>\n",
       "      <td>...</td>\n",
       "      <td>-0.003170</td>\n",
       "      <td>0.256910</td>\n",
       "      <td>-0.034650</td>\n",
       "      <td>0.001354</td>\n",
       "      <td>0.034522</td>\n",
       "      <td>-0.047839</td>\n",
       "      <td>0.022323</td>\n",
       "      <td>0.027906</td>\n",
       "      <td>0.006107</td>\n",
       "      <td>-0.037784</td>\n",
       "    </tr>\n",
       "    <tr>\n",
       "      <th>season</th>\n",
       "      <td>0.998960</td>\n",
       "      <td>1.000000</td>\n",
       "      <td>-0.036477</td>\n",
       "      <td>0.998960</td>\n",
       "      <td>-0.813028</td>\n",
       "      <td>-0.507215</td>\n",
       "      <td>-0.754975</td>\n",
       "      <td>-0.821288</td>\n",
       "      <td>0.005884</td>\n",
       "      <td>-0.142312</td>\n",
       "      <td>...</td>\n",
       "      <td>-0.003292</td>\n",
       "      <td>0.256997</td>\n",
       "      <td>-0.033633</td>\n",
       "      <td>0.000642</td>\n",
       "      <td>0.033926</td>\n",
       "      <td>-0.046145</td>\n",
       "      <td>0.022852</td>\n",
       "      <td>0.026052</td>\n",
       "      <td>0.006130</td>\n",
       "      <td>-0.037529</td>\n",
       "    </tr>\n",
       "    <tr>\n",
       "      <th>number_in_season</th>\n",
       "      <td>0.002504</td>\n",
       "      <td>-0.036477</td>\n",
       "      <td>1.000000</td>\n",
       "      <td>0.002504</td>\n",
       "      <td>-0.145487</td>\n",
       "      <td>-0.032632</td>\n",
       "      <td>0.007428</td>\n",
       "      <td>-0.099944</td>\n",
       "      <td>-0.591725</td>\n",
       "      <td>-0.581327</td>\n",
       "      <td>...</td>\n",
       "      <td>0.001047</td>\n",
       "      <td>-0.005314</td>\n",
       "      <td>-0.033302</td>\n",
       "      <td>0.034753</td>\n",
       "      <td>0.012419</td>\n",
       "      <td>-0.021872</td>\n",
       "      <td>0.010889</td>\n",
       "      <td>0.012311</td>\n",
       "      <td>0.001684</td>\n",
       "      <td>-0.000848</td>\n",
       "    </tr>\n",
       "    <tr>\n",
       "      <th>number_in_series</th>\n",
       "      <td>1.000000</td>\n",
       "      <td>0.998960</td>\n",
       "      <td>0.002504</td>\n",
       "      <td>1.000000</td>\n",
       "      <td>-0.823155</td>\n",
       "      <td>-0.512901</td>\n",
       "      <td>-0.759658</td>\n",
       "      <td>-0.830190</td>\n",
       "      <td>-0.019300</td>\n",
       "      <td>-0.167226</td>\n",
       "      <td>...</td>\n",
       "      <td>-0.003170</td>\n",
       "      <td>0.256910</td>\n",
       "      <td>-0.034650</td>\n",
       "      <td>0.001354</td>\n",
       "      <td>0.034522</td>\n",
       "      <td>-0.047839</td>\n",
       "      <td>0.022323</td>\n",
       "      <td>0.027906</td>\n",
       "      <td>0.006107</td>\n",
       "      <td>-0.037784</td>\n",
       "    </tr>\n",
       "    <tr>\n",
       "      <th>us_viewers_in_millions</th>\n",
       "      <td>-0.823155</td>\n",
       "      <td>-0.813028</td>\n",
       "      <td>-0.145487</td>\n",
       "      <td>-0.823155</td>\n",
       "      <td>1.000000</td>\n",
       "      <td>0.499566</td>\n",
       "      <td>0.593620</td>\n",
       "      <td>0.751314</td>\n",
       "      <td>0.019442</td>\n",
       "      <td>0.253331</td>\n",
       "      <td>...</td>\n",
       "      <td>0.005145</td>\n",
       "      <td>-0.203702</td>\n",
       "      <td>0.036266</td>\n",
       "      <td>-0.013477</td>\n",
       "      <td>-0.028647</td>\n",
       "      <td>0.047612</td>\n",
       "      <td>-0.016499</td>\n",
       "      <td>-0.031523</td>\n",
       "      <td>-0.008754</td>\n",
       "      <td>0.030112</td>\n",
       "    </tr>\n",
       "    <tr>\n",
       "      <th>views</th>\n",
       "      <td>-0.512901</td>\n",
       "      <td>-0.507215</td>\n",
       "      <td>-0.032632</td>\n",
       "      <td>-0.512901</td>\n",
       "      <td>0.499566</td>\n",
       "      <td>1.000000</td>\n",
       "      <td>0.570778</td>\n",
       "      <td>0.665030</td>\n",
       "      <td>0.044973</td>\n",
       "      <td>0.121771</td>\n",
       "      <td>...</td>\n",
       "      <td>0.003349</td>\n",
       "      <td>-0.122902</td>\n",
       "      <td>0.015689</td>\n",
       "      <td>0.004652</td>\n",
       "      <td>-0.018898</td>\n",
       "      <td>0.013688</td>\n",
       "      <td>-0.006255</td>\n",
       "      <td>-0.008071</td>\n",
       "      <td>-0.014364</td>\n",
       "      <td>0.016339</td>\n",
       "    </tr>\n",
       "    <tr>\n",
       "      <th>imdb_rating</th>\n",
       "      <td>-0.759658</td>\n",
       "      <td>-0.754975</td>\n",
       "      <td>0.007428</td>\n",
       "      <td>-0.759658</td>\n",
       "      <td>0.593620</td>\n",
       "      <td>0.570778</td>\n",
       "      <td>1.000000</td>\n",
       "      <td>0.777908</td>\n",
       "      <td>0.078969</td>\n",
       "      <td>0.156451</td>\n",
       "      <td>...</td>\n",
       "      <td>0.000170</td>\n",
       "      <td>-0.209615</td>\n",
       "      <td>0.021363</td>\n",
       "      <td>0.016088</td>\n",
       "      <td>-0.031786</td>\n",
       "      <td>0.046107</td>\n",
       "      <td>0.019823</td>\n",
       "      <td>-0.054004</td>\n",
       "      <td>-0.038261</td>\n",
       "      <td>0.057424</td>\n",
       "    </tr>\n",
       "    <tr>\n",
       "      <th>imdb_votes</th>\n",
       "      <td>-0.830190</td>\n",
       "      <td>-0.821288</td>\n",
       "      <td>-0.099944</td>\n",
       "      <td>-0.830190</td>\n",
       "      <td>0.751314</td>\n",
       "      <td>0.665030</td>\n",
       "      <td>0.777908</td>\n",
       "      <td>1.000000</td>\n",
       "      <td>0.072298</td>\n",
       "      <td>0.183157</td>\n",
       "      <td>...</td>\n",
       "      <td>0.001781</td>\n",
       "      <td>-0.196822</td>\n",
       "      <td>0.031894</td>\n",
       "      <td>-0.007422</td>\n",
       "      <td>-0.027943</td>\n",
       "      <td>0.037755</td>\n",
       "      <td>-0.000696</td>\n",
       "      <td>-0.033120</td>\n",
       "      <td>-0.018530</td>\n",
       "      <td>0.042130</td>\n",
       "    </tr>\n",
       "    <tr>\n",
       "      <th>month</th>\n",
       "      <td>-0.019300</td>\n",
       "      <td>0.005884</td>\n",
       "      <td>-0.591725</td>\n",
       "      <td>-0.019300</td>\n",
       "      <td>0.019442</td>\n",
       "      <td>0.044973</td>\n",
       "      <td>0.078969</td>\n",
       "      <td>0.072298</td>\n",
       "      <td>1.000000</td>\n",
       "      <td>0.076744</td>\n",
       "      <td>...</td>\n",
       "      <td>-0.001010</td>\n",
       "      <td>-0.014716</td>\n",
       "      <td>0.017547</td>\n",
       "      <td>-0.002807</td>\n",
       "      <td>-0.016166</td>\n",
       "      <td>0.038369</td>\n",
       "      <td>0.002600</td>\n",
       "      <td>-0.035828</td>\n",
       "      <td>0.007265</td>\n",
       "      <td>0.002676</td>\n",
       "    </tr>\n",
       "    <tr>\n",
       "      <th>month_avg</th>\n",
       "      <td>-0.167226</td>\n",
       "      <td>-0.142312</td>\n",
       "      <td>-0.581327</td>\n",
       "      <td>-0.167226</td>\n",
       "      <td>0.253331</td>\n",
       "      <td>0.121771</td>\n",
       "      <td>0.156451</td>\n",
       "      <td>0.183157</td>\n",
       "      <td>0.076744</td>\n",
       "      <td>1.000000</td>\n",
       "      <td>...</td>\n",
       "      <td>-0.001276</td>\n",
       "      <td>-0.024181</td>\n",
       "      <td>0.011955</td>\n",
       "      <td>-0.029564</td>\n",
       "      <td>0.006147</td>\n",
       "      <td>0.030652</td>\n",
       "      <td>-0.007455</td>\n",
       "      <td>-0.022371</td>\n",
       "      <td>-0.017962</td>\n",
       "      <td>0.009712</td>\n",
       "    </tr>\n",
       "    <tr>\n",
       "      <th>id_y</th>\n",
       "      <td>0.999775</td>\n",
       "      <td>0.998478</td>\n",
       "      <td>0.002541</td>\n",
       "      <td>0.999775</td>\n",
       "      <td>-0.822651</td>\n",
       "      <td>-0.514250</td>\n",
       "      <td>-0.762932</td>\n",
       "      <td>-0.835182</td>\n",
       "      <td>-0.019438</td>\n",
       "      <td>-0.169183</td>\n",
       "      <td>...</td>\n",
       "      <td>-0.003135</td>\n",
       "      <td>0.256913</td>\n",
       "      <td>-0.034953</td>\n",
       "      <td>0.001254</td>\n",
       "      <td>0.034892</td>\n",
       "      <td>-0.048041</td>\n",
       "      <td>0.021172</td>\n",
       "      <td>0.028840</td>\n",
       "      <td>0.006145</td>\n",
       "      <td>-0.038165</td>\n",
       "    </tr>\n",
       "    <tr>\n",
       "      <th>episode_id</th>\n",
       "      <td>1.000000</td>\n",
       "      <td>0.998960</td>\n",
       "      <td>0.002504</td>\n",
       "      <td>1.000000</td>\n",
       "      <td>-0.823155</td>\n",
       "      <td>-0.512901</td>\n",
       "      <td>-0.759658</td>\n",
       "      <td>-0.830190</td>\n",
       "      <td>-0.019300</td>\n",
       "      <td>-0.167226</td>\n",
       "      <td>...</td>\n",
       "      <td>-0.003170</td>\n",
       "      <td>0.256910</td>\n",
       "      <td>-0.034650</td>\n",
       "      <td>0.001354</td>\n",
       "      <td>0.034522</td>\n",
       "      <td>-0.047839</td>\n",
       "      <td>0.022323</td>\n",
       "      <td>0.027906</td>\n",
       "      <td>0.006107</td>\n",
       "      <td>-0.037784</td>\n",
       "    </tr>\n",
       "    <tr>\n",
       "      <th>number</th>\n",
       "      <td>-0.053083</td>\n",
       "      <td>-0.053765</td>\n",
       "      <td>-0.008625</td>\n",
       "      <td>-0.053083</td>\n",
       "      <td>0.045218</td>\n",
       "      <td>0.009799</td>\n",
       "      <td>0.032717</td>\n",
       "      <td>0.038287</td>\n",
       "      <td>0.007611</td>\n",
       "      <td>0.006303</td>\n",
       "      <td>...</td>\n",
       "      <td>0.003818</td>\n",
       "      <td>0.028907</td>\n",
       "      <td>-0.017586</td>\n",
       "      <td>0.003898</td>\n",
       "      <td>0.015528</td>\n",
       "      <td>-0.070756</td>\n",
       "      <td>-0.070063</td>\n",
       "      <td>0.108872</td>\n",
       "      <td>-0.009487</td>\n",
       "      <td>-0.006760</td>\n",
       "    </tr>\n",
       "    <tr>\n",
       "      <th>location_id</th>\n",
       "      <td>0.319470</td>\n",
       "      <td>0.318032</td>\n",
       "      <td>0.008688</td>\n",
       "      <td>0.319470</td>\n",
       "      <td>-0.280225</td>\n",
       "      <td>-0.163208</td>\n",
       "      <td>-0.249775</td>\n",
       "      <td>-0.264606</td>\n",
       "      <td>-0.018330</td>\n",
       "      <td>-0.053303</td>\n",
       "      <td>...</td>\n",
       "      <td>-0.000144</td>\n",
       "      <td>0.248242</td>\n",
       "      <td>-0.105092</td>\n",
       "      <td>-0.044388</td>\n",
       "      <td>0.134858</td>\n",
       "      <td>-0.377366</td>\n",
       "      <td>-0.236125</td>\n",
       "      <td>0.490644</td>\n",
       "      <td>-0.048435</td>\n",
       "      <td>-0.067757</td>\n",
       "    </tr>\n",
       "    <tr>\n",
       "      <th>word_count</th>\n",
       "      <td>-0.003170</td>\n",
       "      <td>-0.003292</td>\n",
       "      <td>0.001047</td>\n",
       "      <td>-0.003170</td>\n",
       "      <td>0.005145</td>\n",
       "      <td>0.003349</td>\n",
       "      <td>0.000170</td>\n",
       "      <td>0.001781</td>\n",
       "      <td>-0.001010</td>\n",
       "      <td>-0.001276</td>\n",
       "      <td>...</td>\n",
       "      <td>1.000000</td>\n",
       "      <td>0.001368</td>\n",
       "      <td>-0.000738</td>\n",
       "      <td>-0.002082</td>\n",
       "      <td>0.002064</td>\n",
       "      <td>-0.002527</td>\n",
       "      <td>-0.000258</td>\n",
       "      <td>0.002415</td>\n",
       "      <td>0.001519</td>\n",
       "      <td>-0.006542</td>\n",
       "    </tr>\n",
       "    <tr>\n",
       "      <th>id</th>\n",
       "      <td>0.256910</td>\n",
       "      <td>0.256997</td>\n",
       "      <td>-0.005314</td>\n",
       "      <td>0.256910</td>\n",
       "      <td>-0.203702</td>\n",
       "      <td>-0.122902</td>\n",
       "      <td>-0.209615</td>\n",
       "      <td>-0.196822</td>\n",
       "      <td>-0.014716</td>\n",
       "      <td>-0.024181</td>\n",
       "      <td>...</td>\n",
       "      <td>0.001368</td>\n",
       "      <td>1.000000</td>\n",
       "      <td>-0.439579</td>\n",
       "      <td>-0.147260</td>\n",
       "      <td>0.539999</td>\n",
       "      <td>-0.120993</td>\n",
       "      <td>-0.045301</td>\n",
       "      <td>0.137311</td>\n",
       "      <td>-0.158454</td>\n",
       "      <td>-0.355922</td>\n",
       "    </tr>\n",
       "    <tr>\n",
       "      <th>main_character</th>\n",
       "      <td>-0.034650</td>\n",
       "      <td>-0.033633</td>\n",
       "      <td>-0.033302</td>\n",
       "      <td>-0.034650</td>\n",
       "      <td>0.036266</td>\n",
       "      <td>0.015689</td>\n",
       "      <td>0.021363</td>\n",
       "      <td>0.031894</td>\n",
       "      <td>0.017547</td>\n",
       "      <td>0.011955</td>\n",
       "      <td>...</td>\n",
       "      <td>-0.000738</td>\n",
       "      <td>-0.439579</td>\n",
       "      <td>1.000000</td>\n",
       "      <td>-0.336821</td>\n",
       "      <td>-0.811522</td>\n",
       "      <td>0.275613</td>\n",
       "      <td>-0.124114</td>\n",
       "      <td>-0.163718</td>\n",
       "      <td>0.355767</td>\n",
       "      <td>0.022579</td>\n",
       "    </tr>\n",
       "    <tr>\n",
       "      <th>secondary_character</th>\n",
       "      <td>0.001354</td>\n",
       "      <td>0.000642</td>\n",
       "      <td>0.034753</td>\n",
       "      <td>0.001354</td>\n",
       "      <td>-0.013477</td>\n",
       "      <td>0.004652</td>\n",
       "      <td>0.016088</td>\n",
       "      <td>-0.007422</td>\n",
       "      <td>-0.002807</td>\n",
       "      <td>-0.029564</td>\n",
       "      <td>...</td>\n",
       "      <td>-0.002082</td>\n",
       "      <td>-0.147260</td>\n",
       "      <td>-0.336821</td>\n",
       "      <td>1.000000</td>\n",
       "      <td>-0.276841</td>\n",
       "      <td>-0.091327</td>\n",
       "      <td>0.143643</td>\n",
       "      <td>-0.012980</td>\n",
       "      <td>-0.180903</td>\n",
       "      <td>0.266184</td>\n",
       "    </tr>\n",
       "    <tr>\n",
       "      <th>tertiary_character</th>\n",
       "      <td>0.034522</td>\n",
       "      <td>0.033926</td>\n",
       "      <td>0.012419</td>\n",
       "      <td>0.034522</td>\n",
       "      <td>-0.028647</td>\n",
       "      <td>-0.018898</td>\n",
       "      <td>-0.031786</td>\n",
       "      <td>-0.027943</td>\n",
       "      <td>-0.016166</td>\n",
       "      <td>0.006147</td>\n",
       "      <td>...</td>\n",
       "      <td>0.002064</td>\n",
       "      <td>0.539999</td>\n",
       "      <td>-0.811522</td>\n",
       "      <td>-0.276841</td>\n",
       "      <td>1.000000</td>\n",
       "      <td>-0.224600</td>\n",
       "      <td>0.037522</td>\n",
       "      <td>0.175138</td>\n",
       "      <td>-0.250812</td>\n",
       "      <td>-0.188232</td>\n",
       "    </tr>\n",
       "    <tr>\n",
       "      <th>main_location</th>\n",
       "      <td>-0.047839</td>\n",
       "      <td>-0.046145</td>\n",
       "      <td>-0.021872</td>\n",
       "      <td>-0.047839</td>\n",
       "      <td>0.047612</td>\n",
       "      <td>0.013688</td>\n",
       "      <td>0.046107</td>\n",
       "      <td>0.037755</td>\n",
       "      <td>0.038369</td>\n",
       "      <td>0.030652</td>\n",
       "      <td>...</td>\n",
       "      <td>-0.002527</td>\n",
       "      <td>-0.120993</td>\n",
       "      <td>0.275613</td>\n",
       "      <td>-0.091327</td>\n",
       "      <td>-0.224600</td>\n",
       "      <td>1.000000</td>\n",
       "      <td>-0.189446</td>\n",
       "      <td>-0.765095</td>\n",
       "      <td>0.152983</td>\n",
       "      <td>-0.045754</td>\n",
       "    </tr>\n",
       "    <tr>\n",
       "      <th>secondary_location</th>\n",
       "      <td>0.022323</td>\n",
       "      <td>0.022852</td>\n",
       "      <td>0.010889</td>\n",
       "      <td>0.022323</td>\n",
       "      <td>-0.016499</td>\n",
       "      <td>-0.006255</td>\n",
       "      <td>0.019823</td>\n",
       "      <td>-0.000696</td>\n",
       "      <td>0.002600</td>\n",
       "      <td>-0.007455</td>\n",
       "      <td>...</td>\n",
       "      <td>-0.000258</td>\n",
       "      <td>-0.045301</td>\n",
       "      <td>-0.124114</td>\n",
       "      <td>0.143643</td>\n",
       "      <td>0.037522</td>\n",
       "      <td>-0.189446</td>\n",
       "      <td>1.000000</td>\n",
       "      <td>-0.487312</td>\n",
       "      <td>-0.078161</td>\n",
       "      <td>0.100781</td>\n",
       "    </tr>\n",
       "    <tr>\n",
       "      <th>tertiary_location</th>\n",
       "      <td>0.027906</td>\n",
       "      <td>0.026052</td>\n",
       "      <td>0.012311</td>\n",
       "      <td>0.027906</td>\n",
       "      <td>-0.031523</td>\n",
       "      <td>-0.008071</td>\n",
       "      <td>-0.054004</td>\n",
       "      <td>-0.033120</td>\n",
       "      <td>-0.035828</td>\n",
       "      <td>-0.022371</td>\n",
       "      <td>...</td>\n",
       "      <td>0.002415</td>\n",
       "      <td>0.137311</td>\n",
       "      <td>-0.163718</td>\n",
       "      <td>-0.012980</td>\n",
       "      <td>0.175138</td>\n",
       "      <td>-0.765095</td>\n",
       "      <td>-0.487312</td>\n",
       "      <td>1.000000</td>\n",
       "      <td>-0.084796</td>\n",
       "      <td>-0.025400</td>\n",
       "    </tr>\n",
       "    <tr>\n",
       "      <th>f</th>\n",
       "      <td>0.006107</td>\n",
       "      <td>0.006130</td>\n",
       "      <td>0.001684</td>\n",
       "      <td>0.006107</td>\n",
       "      <td>-0.008754</td>\n",
       "      <td>-0.014364</td>\n",
       "      <td>-0.038261</td>\n",
       "      <td>-0.018530</td>\n",
       "      <td>0.007265</td>\n",
       "      <td>-0.017962</td>\n",
       "      <td>...</td>\n",
       "      <td>0.001519</td>\n",
       "      <td>-0.158454</td>\n",
       "      <td>0.355767</td>\n",
       "      <td>-0.180903</td>\n",
       "      <td>-0.250812</td>\n",
       "      <td>0.152983</td>\n",
       "      <td>-0.078161</td>\n",
       "      <td>-0.084796</td>\n",
       "      <td>1.000000</td>\n",
       "      <td>-0.679614</td>\n",
       "    </tr>\n",
       "    <tr>\n",
       "      <th>m</th>\n",
       "      <td>-0.037784</td>\n",
       "      <td>-0.037529</td>\n",
       "      <td>-0.000848</td>\n",
       "      <td>-0.037784</td>\n",
       "      <td>0.030112</td>\n",
       "      <td>0.016339</td>\n",
       "      <td>0.057424</td>\n",
       "      <td>0.042130</td>\n",
       "      <td>0.002676</td>\n",
       "      <td>0.009712</td>\n",
       "      <td>...</td>\n",
       "      <td>-0.006542</td>\n",
       "      <td>-0.355922</td>\n",
       "      <td>0.022579</td>\n",
       "      <td>0.266184</td>\n",
       "      <td>-0.188232</td>\n",
       "      <td>-0.045754</td>\n",
       "      <td>0.100781</td>\n",
       "      <td>-0.025400</td>\n",
       "      <td>-0.679614</td>\n",
       "      <td>1.000000</td>\n",
       "    </tr>\n",
       "  </tbody>\n",
       "</table>\n",
       "<p>24 rows × 24 columns</p>\n",
       "</div>"
      ],
      "text/plain": [
       "                            id_x    season  number_in_season  \\\n",
       "id_x                    1.000000  0.998960          0.002504   \n",
       "season                  0.998960  1.000000         -0.036477   \n",
       "number_in_season        0.002504 -0.036477          1.000000   \n",
       "number_in_series        1.000000  0.998960          0.002504   \n",
       "us_viewers_in_millions -0.823155 -0.813028         -0.145487   \n",
       "views                  -0.512901 -0.507215         -0.032632   \n",
       "imdb_rating            -0.759658 -0.754975          0.007428   \n",
       "imdb_votes             -0.830190 -0.821288         -0.099944   \n",
       "month                  -0.019300  0.005884         -0.591725   \n",
       "month_avg              -0.167226 -0.142312         -0.581327   \n",
       "id_y                    0.999775  0.998478          0.002541   \n",
       "episode_id              1.000000  0.998960          0.002504   \n",
       "number                 -0.053083 -0.053765         -0.008625   \n",
       "location_id             0.319470  0.318032          0.008688   \n",
       "word_count             -0.003170 -0.003292          0.001047   \n",
       "id                      0.256910  0.256997         -0.005314   \n",
       "main_character         -0.034650 -0.033633         -0.033302   \n",
       "secondary_character     0.001354  0.000642          0.034753   \n",
       "tertiary_character      0.034522  0.033926          0.012419   \n",
       "main_location          -0.047839 -0.046145         -0.021872   \n",
       "secondary_location      0.022323  0.022852          0.010889   \n",
       "tertiary_location       0.027906  0.026052          0.012311   \n",
       "f                       0.006107  0.006130          0.001684   \n",
       "m                      -0.037784 -0.037529         -0.000848   \n",
       "\n",
       "                        number_in_series  us_viewers_in_millions     views  \\\n",
       "id_x                            1.000000               -0.823155 -0.512901   \n",
       "season                          0.998960               -0.813028 -0.507215   \n",
       "number_in_season                0.002504               -0.145487 -0.032632   \n",
       "number_in_series                1.000000               -0.823155 -0.512901   \n",
       "us_viewers_in_millions         -0.823155                1.000000  0.499566   \n",
       "views                          -0.512901                0.499566  1.000000   \n",
       "imdb_rating                    -0.759658                0.593620  0.570778   \n",
       "imdb_votes                     -0.830190                0.751314  0.665030   \n",
       "month                          -0.019300                0.019442  0.044973   \n",
       "month_avg                      -0.167226                0.253331  0.121771   \n",
       "id_y                            0.999775               -0.822651 -0.514250   \n",
       "episode_id                      1.000000               -0.823155 -0.512901   \n",
       "number                         -0.053083                0.045218  0.009799   \n",
       "location_id                     0.319470               -0.280225 -0.163208   \n",
       "word_count                     -0.003170                0.005145  0.003349   \n",
       "id                              0.256910               -0.203702 -0.122902   \n",
       "main_character                 -0.034650                0.036266  0.015689   \n",
       "secondary_character             0.001354               -0.013477  0.004652   \n",
       "tertiary_character              0.034522               -0.028647 -0.018898   \n",
       "main_location                  -0.047839                0.047612  0.013688   \n",
       "secondary_location              0.022323               -0.016499 -0.006255   \n",
       "tertiary_location               0.027906               -0.031523 -0.008071   \n",
       "f                               0.006107               -0.008754 -0.014364   \n",
       "m                              -0.037784                0.030112  0.016339   \n",
       "\n",
       "                        imdb_rating  imdb_votes     month  month_avg  \\\n",
       "id_x                      -0.759658   -0.830190 -0.019300  -0.167226   \n",
       "season                    -0.754975   -0.821288  0.005884  -0.142312   \n",
       "number_in_season           0.007428   -0.099944 -0.591725  -0.581327   \n",
       "number_in_series          -0.759658   -0.830190 -0.019300  -0.167226   \n",
       "us_viewers_in_millions     0.593620    0.751314  0.019442   0.253331   \n",
       "views                      0.570778    0.665030  0.044973   0.121771   \n",
       "imdb_rating                1.000000    0.777908  0.078969   0.156451   \n",
       "imdb_votes                 0.777908    1.000000  0.072298   0.183157   \n",
       "month                      0.078969    0.072298  1.000000   0.076744   \n",
       "month_avg                  0.156451    0.183157  0.076744   1.000000   \n",
       "id_y                      -0.762932   -0.835182 -0.019438  -0.169183   \n",
       "episode_id                -0.759658   -0.830190 -0.019300  -0.167226   \n",
       "number                     0.032717    0.038287  0.007611   0.006303   \n",
       "location_id               -0.249775   -0.264606 -0.018330  -0.053303   \n",
       "word_count                 0.000170    0.001781 -0.001010  -0.001276   \n",
       "id                        -0.209615   -0.196822 -0.014716  -0.024181   \n",
       "main_character             0.021363    0.031894  0.017547   0.011955   \n",
       "secondary_character        0.016088   -0.007422 -0.002807  -0.029564   \n",
       "tertiary_character        -0.031786   -0.027943 -0.016166   0.006147   \n",
       "main_location              0.046107    0.037755  0.038369   0.030652   \n",
       "secondary_location         0.019823   -0.000696  0.002600  -0.007455   \n",
       "tertiary_location         -0.054004   -0.033120 -0.035828  -0.022371   \n",
       "f                         -0.038261   -0.018530  0.007265  -0.017962   \n",
       "m                          0.057424    0.042130  0.002676   0.009712   \n",
       "\n",
       "                          ...     word_count        id  main_character  \\\n",
       "id_x                      ...      -0.003170  0.256910       -0.034650   \n",
       "season                    ...      -0.003292  0.256997       -0.033633   \n",
       "number_in_season          ...       0.001047 -0.005314       -0.033302   \n",
       "number_in_series          ...      -0.003170  0.256910       -0.034650   \n",
       "us_viewers_in_millions    ...       0.005145 -0.203702        0.036266   \n",
       "views                     ...       0.003349 -0.122902        0.015689   \n",
       "imdb_rating               ...       0.000170 -0.209615        0.021363   \n",
       "imdb_votes                ...       0.001781 -0.196822        0.031894   \n",
       "month                     ...      -0.001010 -0.014716        0.017547   \n",
       "month_avg                 ...      -0.001276 -0.024181        0.011955   \n",
       "id_y                      ...      -0.003135  0.256913       -0.034953   \n",
       "episode_id                ...      -0.003170  0.256910       -0.034650   \n",
       "number                    ...       0.003818  0.028907       -0.017586   \n",
       "location_id               ...      -0.000144  0.248242       -0.105092   \n",
       "word_count                ...       1.000000  0.001368       -0.000738   \n",
       "id                        ...       0.001368  1.000000       -0.439579   \n",
       "main_character            ...      -0.000738 -0.439579        1.000000   \n",
       "secondary_character       ...      -0.002082 -0.147260       -0.336821   \n",
       "tertiary_character        ...       0.002064  0.539999       -0.811522   \n",
       "main_location             ...      -0.002527 -0.120993        0.275613   \n",
       "secondary_location        ...      -0.000258 -0.045301       -0.124114   \n",
       "tertiary_location         ...       0.002415  0.137311       -0.163718   \n",
       "f                         ...       0.001519 -0.158454        0.355767   \n",
       "m                         ...      -0.006542 -0.355922        0.022579   \n",
       "\n",
       "                        secondary_character  tertiary_character  \\\n",
       "id_x                               0.001354            0.034522   \n",
       "season                             0.000642            0.033926   \n",
       "number_in_season                   0.034753            0.012419   \n",
       "number_in_series                   0.001354            0.034522   \n",
       "us_viewers_in_millions            -0.013477           -0.028647   \n",
       "views                              0.004652           -0.018898   \n",
       "imdb_rating                        0.016088           -0.031786   \n",
       "imdb_votes                        -0.007422           -0.027943   \n",
       "month                             -0.002807           -0.016166   \n",
       "month_avg                         -0.029564            0.006147   \n",
       "id_y                               0.001254            0.034892   \n",
       "episode_id                         0.001354            0.034522   \n",
       "number                             0.003898            0.015528   \n",
       "location_id                       -0.044388            0.134858   \n",
       "word_count                        -0.002082            0.002064   \n",
       "id                                -0.147260            0.539999   \n",
       "main_character                    -0.336821           -0.811522   \n",
       "secondary_character                1.000000           -0.276841   \n",
       "tertiary_character                -0.276841            1.000000   \n",
       "main_location                     -0.091327           -0.224600   \n",
       "secondary_location                 0.143643            0.037522   \n",
       "tertiary_location                 -0.012980            0.175138   \n",
       "f                                 -0.180903           -0.250812   \n",
       "m                                  0.266184           -0.188232   \n",
       "\n",
       "                        main_location  secondary_location  tertiary_location  \\\n",
       "id_x                        -0.047839            0.022323           0.027906   \n",
       "season                      -0.046145            0.022852           0.026052   \n",
       "number_in_season            -0.021872            0.010889           0.012311   \n",
       "number_in_series            -0.047839            0.022323           0.027906   \n",
       "us_viewers_in_millions       0.047612           -0.016499          -0.031523   \n",
       "views                        0.013688           -0.006255          -0.008071   \n",
       "imdb_rating                  0.046107            0.019823          -0.054004   \n",
       "imdb_votes                   0.037755           -0.000696          -0.033120   \n",
       "month                        0.038369            0.002600          -0.035828   \n",
       "month_avg                    0.030652           -0.007455          -0.022371   \n",
       "id_y                        -0.048041            0.021172           0.028840   \n",
       "episode_id                  -0.047839            0.022323           0.027906   \n",
       "number                      -0.070756           -0.070063           0.108872   \n",
       "location_id                 -0.377366           -0.236125           0.490644   \n",
       "word_count                  -0.002527           -0.000258           0.002415   \n",
       "id                          -0.120993           -0.045301           0.137311   \n",
       "main_character               0.275613           -0.124114          -0.163718   \n",
       "secondary_character         -0.091327            0.143643          -0.012980   \n",
       "tertiary_character          -0.224600            0.037522           0.175138   \n",
       "main_location                1.000000           -0.189446          -0.765095   \n",
       "secondary_location          -0.189446            1.000000          -0.487312   \n",
       "tertiary_location           -0.765095           -0.487312           1.000000   \n",
       "f                            0.152983           -0.078161          -0.084796   \n",
       "m                           -0.045754            0.100781          -0.025400   \n",
       "\n",
       "                               f         m  \n",
       "id_x                    0.006107 -0.037784  \n",
       "season                  0.006130 -0.037529  \n",
       "number_in_season        0.001684 -0.000848  \n",
       "number_in_series        0.006107 -0.037784  \n",
       "us_viewers_in_millions -0.008754  0.030112  \n",
       "views                  -0.014364  0.016339  \n",
       "imdb_rating            -0.038261  0.057424  \n",
       "imdb_votes             -0.018530  0.042130  \n",
       "month                   0.007265  0.002676  \n",
       "month_avg              -0.017962  0.009712  \n",
       "id_y                    0.006145 -0.038165  \n",
       "episode_id              0.006107 -0.037784  \n",
       "number                 -0.009487 -0.006760  \n",
       "location_id            -0.048435 -0.067757  \n",
       "word_count              0.001519 -0.006542  \n",
       "id                     -0.158454 -0.355922  \n",
       "main_character          0.355767  0.022579  \n",
       "secondary_character    -0.180903  0.266184  \n",
       "tertiary_character     -0.250812 -0.188232  \n",
       "main_location           0.152983 -0.045754  \n",
       "secondary_location     -0.078161  0.100781  \n",
       "tertiary_location      -0.084796 -0.025400  \n",
       "f                       1.000000 -0.679614  \n",
       "m                      -0.679614  1.000000  \n",
       "\n",
       "[24 rows x 24 columns]"
      ]
     },
     "execution_count": 19,
     "metadata": {},
     "output_type": "execute_result"
    }
   ],
   "source": [
    "data.corr()"
   ]
  },
  {
   "cell_type": "code",
   "execution_count": 20,
   "metadata": {
    "collapsed": false
   },
   "outputs": [],
   "source": [
    "data = data.drop(['imdb_rating','views','number_in_season','number_in_series'],axis=1)"
   ]
  },
  {
   "cell_type": "code",
   "execution_count": 21,
   "metadata": {
    "collapsed": false
   },
   "outputs": [],
   "source": [
    "data = data.drop(['image_url','video_url','production_code','imdb_votes'],axis=1)"
   ]
  },
  {
   "cell_type": "code",
   "execution_count": 22,
   "metadata": {
    "collapsed": false
   },
   "outputs": [
    {
     "data": {
      "text/plain": [
       "Index([                  u'id_x',                  u'title',\n",
       "            u'original_air_date',                 u'season',\n",
       "       u'us_viewers_in_millions',                  u'month',\n",
       "                    u'month_avg',                   u'id_y',\n",
       "                   u'episode_id',                 u'number',\n",
       "                     u'raw_text',        u'timestamp_in_ms',\n",
       "                u'speaking_line',           u'character_id',\n",
       "                  u'location_id',     u'raw_character_text',\n",
       "            u'raw_location_text',           u'spoken_words',\n",
       "              u'normalized_text',             u'word_count',\n",
       "                           u'id',                   u'name',\n",
       "              u'normalized_name',                 u'gender',\n",
       "                    u'char_tier',               u'loc_tier',\n",
       "               u'main_character',    u'secondary_character',\n",
       "           u'tertiary_character',          u'main_location',\n",
       "           u'secondary_location',      u'tertiary_location',\n",
       "                            u'f',                      u'm'],\n",
       "      dtype='object')"
      ]
     },
     "execution_count": 22,
     "metadata": {},
     "output_type": "execute_result"
    }
   ],
   "source": [
    "data.columns"
   ]
  },
  {
   "cell_type": "markdown",
   "metadata": {},
   "source": [
    "### The two outcome variables present in the dataset are IMDB_Ratings and Viewers (US Viewers in Millions). The two are correlated, so we will use US viewers to determine success of episodes of The Simpsons."
   ]
  },
  {
   "cell_type": "markdown",
   "metadata": {},
   "source": [
    "#### Correlation Coefficient =  0.5936203"
   ]
  },
  {
   "cell_type": "markdown",
   "metadata": {},
   "source": [
    "### Viewers of The Simpsons steadily declined constantly since the first season. We can attribute this decline to the organiz decline in TV viewing as viewers are going to additional sources (Video On Demand, Internet Connected Devices) to view programs that are no measured by sources like Nielsen"
   ]
  },
  {
   "cell_type": "code",
   "execution_count": 23,
   "metadata": {
    "collapsed": false
   },
   "outputs": [
    {
     "data": {
      "image/png": "[encoded data removed]",
      "text/plain": [
       "<matplotlib.figure.Figure at 0x2a3bd68>"
      ]
     },
     "metadata": {},
     "output_type": "display_data"
    }
   ],
   "source": [
    "eps.plot('season','us_viewers_in_millions',kind='scatter',title='Simpsons Ratings over the Seasons',\n",
    "         color='gold',marker='v',alpha=.5,edgecolor='None').set_ylabel('Rating');"
   ]
  },
  {
   "cell_type": "code",
   "execution_count": null,
   "metadata": {
    "collapsed": false
   },
   "outputs": [
    {
     "data": {
      "image/png": "[encoded data removed]",
      "text/plain": [
       "<matplotlib.figure.Figure at 0x1b2e8908>"
      ]
     },
     "metadata": {},
     "output_type": "display_data"
    }
   ],
   "source": [
    "eps.plot('season','imdb_rating',kind='scatter',title='Simpsons Ratings over the Seasons',\n",
    "         color='gold',marker='v',alpha=.5,edgecolor='None').set_ylabel('Rating');"
   ]
  },
  {
   "cell_type": "code",
   "execution_count": null,
   "metadata": {
    "collapsed": false
   },
   "outputs": [
    {
     "data": {
      "text/plain": [
       "<matplotlib.axes._subplots.AxesSubplot at 0x1b32cc88>"
      ]
     },
     "execution_count": 25,
     "metadata": {},
     "output_type": "execute_result"
    }
   ],
   "source": [
    "data.plot('month','us_viewers_in_millions',kind = 'bar')"
   ]
  },
  {
   "cell_type": "markdown",
   "metadata": {},
   "source": [
    "### Another important feature is gender. Since we have text of all of thel ines spoken, we can see how many lines were spoken by fmelaes and males.Females have significantly less lines than males, largely due to the fact that their are significantly less female characters than male."
   ]
  },
  {
   "cell_type": "code",
   "execution_count": null,
   "metadata": {
    "collapsed": false
   },
   "outputs": [],
   "source": [
    "data['gender'].value_counts().plot(kind='barh',color='gold',edgecolor='blue').set_ylabel('Gender')\n",
    "data['gender'].value_counts().plot(kind='barh',color='gold',edgecolor='blue').set_xlabel('Lines');"
   ]
  },
  {
   "cell_type": "markdown",
   "metadata": {},
   "source": [
    "### We can break character groups down by grouping and sorting based on the number of lines a character has per episode. All chracters who have at least 14 lines per episode are main characters. All characters who have at least 3 lines per episode are secondary characters. All others are \"other.\""
   ]
  },
  {
   "cell_type": "code",
   "execution_count": null,
   "metadata": {
    "collapsed": false
   },
   "outputs": [],
   "source": [
    "plt.subplot(1, 3, 1)\n",
    "(data.groupby(\"name\").count()[\"id\"].sort_values(ascending=False)[0:4]/600).plot(kind='bar',figsize=(15,5),title='Primary Characters').set_ylabel('Lines')\n",
    "plt.subplot(1, 3, 2)\n",
    "(data.groupby(\"name\").count()[\"id\"].sort_values(ascending=False)[5:11]/600).plot(kind='bar',title ='Secondary Characters').set_ylabel('Lines')\n",
    "plt.subplot(1, 3, 3)\n",
    "(data.groupby(\"name\").count()[\"id\"].sort_values(ascending=False)[12:20]/600).plot(kind='bar',title='Tertiary Characters').set_ylabel('Lines');"
   ]
  },
  {
   "cell_type": "code",
   "execution_count": null,
   "metadata": {
    "collapsed": false
   },
   "outputs": [],
   "source": [
    "plt.subplot(1, 3, 1)\n",
    "(data.groupby(\"raw_location_text\").count()[\"id\"].sort_values(ascending=False)[0:1]/600).plot(kind='bar',figsize=(15,5),title='Primary Location').set_ylabel('Lines')\n",
    "plt.subplot(1, 3, 2)\n",
    "(data.groupby(\"raw_location_text\").count()[\"id\"].sort_values(ascending=False)[1:5]/600).plot(kind='bar',figsize=(15,5),title='Secondary Locations').set_ylabel('Lines')\n",
    "plt.subplot(1, 3, 3)\n",
    "(data.groupby(\"raw_location_text\").count()[\"id\"].sort_values(ascending=False)[5:10]/600).plot(kind='bar',figsize=(15,5),title='All Other').set_ylabel('Lines')"
   ]
  },
  {
   "cell_type": "markdown",
   "metadata": {},
   "source": [
    "# <span style=\"color:blue\"> Topic Modeling by Genders/Characters/Locations </span>"
   ]
  },
  {
   "cell_type": "code",
   "execution_count": null,
   "metadata": {
    "collapsed": true
   },
   "outputs": [],
   "source": [
    "from sklearn.feature_extraction.text import TfidfVectorizer"
   ]
  },
  {
   "cell_type": "markdown",
   "metadata": {},
   "source": [
    "### Since we are using text to analyze The Simpson's dataset, we can use gensim to find topics from different groups of characters and locations withing episodes."
   ]
  },
  {
   "cell_type": "markdown",
   "metadata": {},
   "source": [
    "### Using Tfidf to convert text strings into an array of words while removing stop words"
   ]
  },
  {
   "cell_type": "code",
   "execution_count": null,
   "metadata": {
    "collapsed": false
   },
   "outputs": [],
   "source": [
    "cv = TfidfVectorizer(max_features = 600, \n",
    "                             ngram_range=(1, 2),\n",
    "                             #min_df = 5,\n",
    "                             #max_df = 0.99,\n",
    "                             stop_words='english')\n",
    "\n",
    "\n",
    "docsf = cv.fit_transform(data[data['gender']=='f']['spoken_words'].dropna())\n",
    "docsm = cv.fit_transform(data[data['gender']=='m']['spoken_words'].dropna())\n",
    "docshomer = cv.fit_transform(data[data['normalized_name']=='homer simpson']['spoken_words'].dropna())\n",
    "docsmarge = cv.fit_transform(data[data['normalized_name']=='marge simpson']['spoken_words'].dropna())\n",
    "docsmain = cv.fit_transform(data[data['char_tier']=='main_character']['spoken_words'].dropna())\n",
    "docssec = cv.fit_transform(data[data['char_tier']=='secondary_character']['spoken_words'].dropna())\n",
    "docsloc = cv.fit_transform(data[data['raw_location_text']==\"Moe's Tavern\"]['spoken_words'].dropna())\n",
    "\n",
    "\n",
    "\n",
    "id2word = dict(enumerate(cv.get_feature_names()))"
   ]
  },
  {
   "cell_type": "code",
   "execution_count": null,
   "metadata": {
    "collapsed": false
   },
   "outputs": [],
   "source": [
    "# converting transofrm text to gensim's supported layout\n",
    "corpusf = Sparse2Corpus(docsf, documents_columns = False)\n",
    "corpusm = Sparse2Corpus(docsm, documents_columns = False)\n",
    "corpushomer = Sparse2Corpus(docshomer, documents_columns = False)\n",
    "corpusmarge = Sparse2Corpus(docsmarge, documents_columns = False)\n",
    "corpusmain = Sparse2Corpus(docsmain, documents_columns = False)\n",
    "corpussec = Sparse2Corpus(docssec, documents_columns = False)\n",
    "corpusloc = Sparse2Corpus(docsloc, documents_columns = False)\n",
    "\n",
    "\n",
    "lda_modelf = LdaModel(corpus=corpusf, id2word=id2word, num_topics=10)\n",
    "lda_modelm = LdaModel(corpus=corpusm, id2word=id2word, num_topics=10)\n",
    "lda_modelhomer = LdaModel(corpus=corpushomer, id2word=id2word, num_topics=10)\n",
    "lda_modelmarge = LdaModel(corpus=corpusmarge, id2word=id2word, num_topics=10)\n",
    "lda_modelmain = LdaModel(corpus=corpusmain, id2word=id2word, num_topics=10)\n",
    "lda_modelsec = LdaModel(corpus=corpussec, id2word=id2word, num_topics=10)\n",
    "lda_modelloc = LdaModel(corpus=corpusloc, id2word=id2word, num_topics=10)"
   ]
  },
  {
   "cell_type": "markdown",
   "metadata": {},
   "source": [
    "# Female Topics"
   ]
  },
  {
   "cell_type": "markdown",
   "metadata": {},
   "source": [
    "#### Although each of the words within each topics are not directly related, there is a clear difference in topics by gender. Female characters tend to reference words like \"heart\" and \"pretty\" while mentioning male characters like Moe, Homer, and Barney. They also tend to use the term \"losers\" although unclear who the term is directed toward. The ability to choose a target in topic modeling can help with that. Males use \"glass,\" likely referring to a drink they'd be receciving at Moe's Tavern. They also mention Homer and use phrases like \"lousy\" and \"yeah yeah.\""
   ]
  },
  {
   "cell_type": "code",
   "execution_count": null,
   "metadata": {
    "collapsed": false
   },
   "outputs": [],
   "source": [
    "num_topics = 5\n",
    "num_words_per_topic = 5\n",
    "\n",
    "for ti, topic in enumerate(lda_modelf.show_topics(num_topics = num_topics, \n",
    "num_words = num_words_per_topic)):\n",
    "    print(\"Topic: %d\" % (ti))\n",
    "    print (topic)\n",
    "    print()"
   ]
  },
  {
   "cell_type": "markdown",
   "metadata": {},
   "source": [
    "# Male Topics"
   ]
  },
  {
   "cell_type": "code",
   "execution_count": 137,
   "metadata": {
    "collapsed": false
   },
   "outputs": [
    {
     "name": "stdout",
     "output_type": "stream",
     "text": [
      "Topic: 0\n",
      "(0, u'0.061*\"young\" + 0.030*\"yeah right\" + 0.027*\"stop\" + 0.027*\"moe ve\" + 0.026*\"sounds\"')\n",
      "()\n",
      "Topic: 1\n",
      "(1, u'0.045*\"live\" + 0.030*\"girls\" + 0.029*\"didn say\" + 0.026*\"thirty\" + 0.023*\"glass\"')\n",
      "()\n",
      "Topic: 2\n",
      "(2, u'0.036*\"don wanna\" + 0.032*\"hey\" + 0.030*\"wants\" + 0.029*\"ve got\" + 0.028*\"join\"')\n",
      "()\n",
      "Topic: 3\n",
      "(3, u'0.064*\"numbers\" + 0.057*\"homer\" + 0.039*\"round\" + 0.035*\"sorry homer\" + 0.030*\"oh right\"')\n",
      "()\n",
      "Topic: 4\n",
      "(4, u'0.057*\"lenny\" + 0.040*\"maggie\" + 0.028*\"uh huh\" + 0.019*\"make\" + 0.017*\"oh wait\"')\n",
      "()\n"
     ]
    }
   ],
   "source": [
    "num_topics = 5\n",
    "num_words_per_topic = 5\n",
    "\n",
    "for ti, topic in enumerate(lda_modelm.show_topics(num_topics = num_topics, \n",
    "num_words = num_words_per_topic)):\n",
    "    print(\"Topic: %d\" % (ti))\n",
    "    print (topic)\n",
    "    print()"
   ]
  },
  {
   "cell_type": "markdown",
   "metadata": {},
   "source": [
    "# Homer Topics"
   ]
  },
  {
   "cell_type": "code",
   "execution_count": 138,
   "metadata": {
    "collapsed": false
   },
   "outputs": [
    {
     "name": "stdout",
     "output_type": "stream",
     "text": [
      "Topic: 0\n",
      "(0, u'0.055*\"real\" + 0.037*\"machine\" + 0.035*\"letter\" + 0.035*\"oh god\" + 0.030*\"yeah right\" + 0.024*\"getting\" + 0.020*\"ve got\"')\n",
      "()\n",
      "Topic: 1\n",
      "(1, u'0.037*\"kiddin\" + 0.033*\"use\" + 0.026*\"ll just\" + 0.025*\"left\" + 0.022*\"losers\" + 0.021*\"gentlemen\" + 0.020*\"thank\"')\n",
      "()\n",
      "Topic: 2\n",
      "(2, u'0.029*\"don wanna\" + 0.027*\"young\" + 0.026*\"woo hoo\" + 0.025*\"homer know\" + 0.024*\"word\" + 0.022*\"mon\" + 0.020*\"hours\"')\n",
      "()\n",
      "Topic: 3\n",
      "(3, u'0.050*\"need\" + 0.030*\"listen\" + 0.029*\"joey\" + 0.029*\"ma\" + 0.024*\"didn\" + 0.021*\"talking\" + 0.021*\"super\"')\n",
      "()\n",
      "Topic: 4\n",
      "(4, u'0.044*\"hey\" + 0.022*\"saw\" + 0.022*\"girls\" + 0.020*\"watch\" + 0.020*\"sounds like\" + 0.019*\"men\" + 0.018*\"feeling\"')\n",
      "()\n"
     ]
    }
   ],
   "source": [
    "num_topics = 5\n",
    "num_words_per_topic = 7\n",
    "\n",
    "for ti, topic in enumerate(lda_modelhomer.show_topics(num_topics = num_topics, \n",
    "num_words = num_words_per_topic)):\n",
    "    print(\"Topic: %d\" % (ti))\n",
    "    print (topic)\n",
    "    print()"
   ]
  },
  {
   "cell_type": "markdown",
   "metadata": {},
   "source": [
    "# Marge Topics"
   ]
  },
  {
   "cell_type": "code",
   "execution_count": 139,
   "metadata": {
    "collapsed": false
   },
   "outputs": [
    {
     "name": "stdout",
     "output_type": "stream",
     "text": [
      "Topic: 0\n",
      "(0, u'0.033*\"moron\" + 0.032*\"lady\" + 0.024*\"lucky\" + 0.022*\"thing\" + 0.022*\"kiss\" + 0.022*\"looks like\" + 0.022*\"dangerous\"')\n",
      "()\n",
      "Topic: 1\n",
      "(1, u'0.088*\"heart\" + 0.040*\"bad\" + 0.022*\"christmas\" + 0.020*\"thought\" + 0.017*\"deal\" + 0.014*\"talk\" + 0.013*\"lenny\"')\n",
      "()\n",
      "Topic: 2\n",
      "(2, u'0.030*\"funny\" + 0.030*\"light\" + 0.029*\"numbers\" + 0.027*\"did\" + 0.022*\"sweet\" + 0.021*\"loser\" + 0.020*\"straight\"')\n",
      "()\n",
      "Topic: 3\n",
      "(3, u'0.039*\"didn say\" + 0.031*\"hurt\" + 0.027*\"knows\" + 0.024*\"lenny\" + 0.023*\"just\" + 0.020*\"young\" + 0.019*\"ll just\"')\n",
      "()\n",
      "Topic: 4\n",
      "(4, u'0.073*\"hey homer\" + 0.035*\"ready\" + 0.028*\"wait\" + 0.028*\"president\" + 0.025*\"wasn\" + 0.018*\"home\" + 0.015*\"test\"')\n",
      "()\n"
     ]
    }
   ],
   "source": [
    "num_topics = 5\n",
    "num_words_per_topic = 7\n",
    "\n",
    "for ti, topic in enumerate(lda_modelmarge.show_topics(num_topics = num_topics, \n",
    "num_words = num_words_per_topic)):\n",
    "    print(\"Topic: %d\" % (ti))\n",
    "    print (topic)\n",
    "    print()"
   ]
  },
  {
   "cell_type": "markdown",
   "metadata": {},
   "source": [
    "## Main Character Topics"
   ]
  },
  {
   "cell_type": "code",
   "execution_count": 140,
   "metadata": {
    "collapsed": false
   },
   "outputs": [
    {
     "name": "stdout",
     "output_type": "stream",
     "text": [
      "Topic: 0\n",
      "(0, u'0.147*\"damn\" + 0.044*\"did\" + 0.035*\"year\" + 0.033*\"live\" + 0.031*\"real\" + 0.029*\"wanted\" + 0.024*\"yeah\"')\n",
      "()\n",
      "Topic: 1\n",
      "(1, u'0.087*\"mean\" + 0.045*\"using\" + 0.038*\"glad\" + 0.035*\"moron\" + 0.028*\"clown\" + 0.028*\"learn\" + 0.027*\"thanks moe\"')\n",
      "()\n",
      "Topic: 2\n",
      "(2, u'0.031*\"young\" + 0.023*\"seen\" + 0.022*\"minute\" + 0.021*\"thank\" + 0.020*\"dollars\" + 0.017*\"rummy\" + 0.016*\"think ll\"')\n",
      "()\n",
      "Topic: 3\n",
      "(3, u'0.048*\"don tell\" + 0.047*\"kid\" + 0.033*\"joe\" + 0.031*\"problem\" + 0.030*\"like\" + 0.029*\"let\" + 0.023*\"mad\"')\n",
      "()\n",
      "Topic: 4\n",
      "(4, u'0.066*\"barn\" + 0.051*\"hell\" + 0.037*\"nice\" + 0.025*\"tv\" + 0.022*\"gimme\" + 0.021*\"stand\" + 0.021*\"lady\"')\n",
      "()\n"
     ]
    }
   ],
   "source": [
    "num_topics = 5\n",
    "num_words_per_topic = 7\n",
    "\n",
    "for ti, topic in enumerate(lda_modelmain.show_topics(num_topics = num_topics, \n",
    "num_words = num_words_per_topic)):\n",
    "    print(\"Topic: %d\" % (ti))\n",
    "    print (topic)\n",
    "    print()"
   ]
  },
  {
   "cell_type": "markdown",
   "metadata": {},
   "source": [
    "## Secondary Character Topics"
   ]
  },
  {
   "cell_type": "code",
   "execution_count": 141,
   "metadata": {
    "collapsed": false
   },
   "outputs": [
    {
     "name": "stdout",
     "output_type": "stream",
     "text": [
      "Topic: 0\n",
      "(0, u'0.065*\"homer know\" + 0.038*\"doin\" + 0.018*\"goes\" + 0.018*\"learn\" + 0.017*\"sir\" + 0.016*\"tv\" + 0.016*\"smithers\"')\n",
      "()\n",
      "Topic: 1\n",
      "(1, u'0.051*\"nice\" + 0.036*\"help\" + 0.023*\"homer know\" + 0.020*\"said\" + 0.017*\"love\" + 0.017*\"getting\" + 0.015*\"yeah\"')\n",
      "()\n",
      "Topic: 2\n",
      "(2, u'0.030*\"jerks\" + 0.024*\"late\" + 0.021*\"look\" + 0.021*\"blame\" + 0.019*\"using\" + 0.018*\"problem\" + 0.017*\"thank\"')\n",
      "()\n",
      "Topic: 3\n",
      "(3, u'0.040*\"read\" + 0.032*\"sorry homer\" + 0.025*\"years\" + 0.022*\"afraid\" + 0.020*\"little\" + 0.019*\"oh don\" + 0.016*\"story\"')\n",
      "()\n",
      "Topic: 4\n",
      "(4, u'0.039*\"like\" + 0.029*\"tab\" + 0.025*\"ya\" + 0.023*\"kiddin\" + 0.021*\"going\" + 0.021*\"city\" + 0.019*\"minutes\"')\n",
      "()\n"
     ]
    }
   ],
   "source": [
    "num_topics = 7\n",
    "num_words_per_topic = 7\n",
    "\n",
    "for ti, topic in enumerate(lda_modelsec.show_topics(num_topics = num_topics, \n",
    "num_words = num_words_per_topic)):\n",
    "    print(\"Topic: %d\" % (ti))\n",
    "    print (topic)\n",
    "    print()"
   ]
  },
  {
   "cell_type": "markdown",
   "metadata": {},
   "source": [
    "## Moe's Tavern Topics"
   ]
  },
  {
   "cell_type": "code",
   "execution_count": 142,
   "metadata": {
    "collapsed": false
   },
   "outputs": [
    {
     "name": "stdout",
     "output_type": "stream",
     "text": [
      "Topic: 0\n",
      "(0, u'0.048*\"yeah\" + 0.025*\"just\" + 0.019*\"come\" + 0.016*\"like\" + 0.015*\"hey\" + 0.014*\"good\" + 0.014*\"oh\"')\n",
      "()\n",
      "Topic: 1\n",
      "(1, u'0.029*\"uh\" + 0.022*\"moe\" + 0.021*\"don\" + 0.020*\"hey\" + 0.019*\"want\" + 0.016*\"sure\" + 0.015*\"tell\"')\n",
      "()\n",
      "Topic: 2\n",
      "(2, u'0.023*\"okay\" + 0.023*\"like\" + 0.022*\"know\" + 0.018*\"man\" + 0.017*\"really\" + 0.015*\"yes\" + 0.015*\"moe\"')\n",
      "()\n",
      "Topic: 3\n",
      "(3, u'0.036*\"homer\" + 0.018*\"beer\" + 0.018*\"hey\" + 0.017*\"got\" + 0.017*\"oh\" + 0.015*\"barney\" + 0.015*\"ve\"')\n",
      "()\n",
      "Topic: 4\n",
      "(4, u'0.040*\"oh\" + 0.028*\"ll\" + 0.025*\"right\" + 0.019*\"let\" + 0.017*\"eh\" + 0.015*\"shut\" + 0.012*\"way\"')\n",
      "()\n"
     ]
    }
   ],
   "source": [
    "num_topics = 5\n",
    "num_words_per_topic = 7\n",
    "\n",
    "for ti, topic in enumerate(lda_modelloc.show_topics(num_topics = num_topics, \n",
    "num_words = num_words_per_topic)):\n",
    "    print(\"Topic: %d\" % (ti))\n",
    "    print (topic)\n",
    "    print()"
   ]
  },
  {
   "cell_type": "markdown",
   "metadata": {},
   "source": [
    "# Sentiment Analysis"
   ]
  },
  {
   "cell_type": "markdown",
   "metadata": {},
   "source": [
    "### Using sentiment analysis, we can take a closer look into the text of the characters' lines and who is most positive, who is most negative, where characters tend to be positive, and how these factors contribute to success"
   ]
  },
  {
   "cell_type": "code",
   "execution_count": 143,
   "metadata": {
    "collapsed": true
   },
   "outputs": [],
   "source": [
    "def extract_features(document):\n",
    "    document_words = set(document)\n",
    "    features = {}\n",
    "    for word in word_features:\n",
    "        features['contains(%s)' % word] = (word in document_words)\n",
    "        return features\n"
   ]
  },
  {
   "cell_type": "code",
   "execution_count": 144,
   "metadata": {
    "collapsed": false
   },
   "outputs": [
    {
     "ename": "TypeError",
     "evalue": "'TfidfVectorizer' object does not support indexing",
     "output_type": "error",
     "traceback": [
      "\u001b[0;31m---------------------------------------------------------------------------\u001b[0m",
      "\u001b[0;31mTypeError\u001b[0m                                 Traceback (most recent call last)",
      "\u001b[0;32m<ipython-input-144-17e5fda84611>\u001b[0m in \u001b[0;36m<module>\u001b[0;34m()\u001b[0m\n\u001b[0;32m----> 1\u001b[0;31m \u001b[0mtraining_set\u001b[0m \u001b[1;33m=\u001b[0m \u001b[0mnltk\u001b[0m\u001b[1;33m.\u001b[0m\u001b[0mclassify\u001b[0m\u001b[1;33m.\u001b[0m\u001b[0mapply_features\u001b[0m\u001b[1;33m(\u001b[0m\u001b[0mextract_features\u001b[0m\u001b[1;33m,\u001b[0m \u001b[0mcv\u001b[0m\u001b[1;33m)\u001b[0m\u001b[1;33m\u001b[0m\u001b[0m\n\u001b[0m",
      "\u001b[0;32mC:\\Users\\janel\\Anaconda2\\lib\\site-packages\\nltk\\classify\\util.pyc\u001b[0m in \u001b[0;36mapply_features\u001b[0;34m(feature_func, toks, labeled)\u001b[0m\n\u001b[1;32m     60\u001b[0m     \"\"\"\n\u001b[1;32m     61\u001b[0m     \u001b[1;32mif\u001b[0m \u001b[0mlabeled\u001b[0m \u001b[1;32mis\u001b[0m \u001b[0mNone\u001b[0m\u001b[1;33m:\u001b[0m\u001b[1;33m\u001b[0m\u001b[0m\n\u001b[0;32m---> 62\u001b[0;31m         \u001b[0mlabeled\u001b[0m \u001b[1;33m=\u001b[0m \u001b[0mtoks\u001b[0m \u001b[1;32mand\u001b[0m \u001b[0misinstance\u001b[0m\u001b[1;33m(\u001b[0m\u001b[0mtoks\u001b[0m\u001b[1;33m[\u001b[0m\u001b[1;36m0\u001b[0m\u001b[1;33m]\u001b[0m\u001b[1;33m,\u001b[0m \u001b[1;33m(\u001b[0m\u001b[0mtuple\u001b[0m\u001b[1;33m,\u001b[0m \u001b[0mlist\u001b[0m\u001b[1;33m)\u001b[0m\u001b[1;33m)\u001b[0m\u001b[1;33m\u001b[0m\u001b[0m\n\u001b[0m\u001b[1;32m     63\u001b[0m     \u001b[1;32mif\u001b[0m \u001b[0mlabeled\u001b[0m\u001b[1;33m:\u001b[0m\u001b[1;33m\u001b[0m\u001b[0m\n\u001b[1;32m     64\u001b[0m         \u001b[1;32mdef\u001b[0m \u001b[0mlazy_func\u001b[0m\u001b[1;33m(\u001b[0m\u001b[0mlabeled_token\u001b[0m\u001b[1;33m)\u001b[0m\u001b[1;33m:\u001b[0m\u001b[1;33m\u001b[0m\u001b[0m\n",
      "\u001b[0;31mTypeError\u001b[0m: 'TfidfVectorizer' object does not support indexing"
     ]
    }
   ],
   "source": [
    "training_set = nltk.classify.apply_features(extract_features, cv)"
   ]
  },
  {
   "cell_type": "markdown",
   "metadata": {
    "collapsed": true
   },
   "source": [
    "# <span style=\"color:blue\"> K-Means Clustering </span>"
   ]
  },
  {
   "cell_type": "markdown",
   "metadata": {},
   "source": [
    "### Finally, to find groups of episodes that are similar, we can use clustering. Clustering can be used on the quantitative data such as word count, viewers, season number (Which indicates older v newer episodes), and the amount of lines."
   ]
  },
  {
   "cell_type": "code",
   "execution_count": 20,
   "metadata": {
    "collapsed": false
   },
   "outputs": [],
   "source": [
    "scale = StandardScaler()"
   ]
  },
  {
   "cell_type": "code",
   "execution_count": 87,
   "metadata": {
    "collapsed": false
   },
   "outputs": [],
   "source": [
    "datanum = data[['season','word_count','month','main_character','secondary_character','tertiary_character','main_location','tertiary_location','us_viewers_in_millions']].fillna(0)"
   ]
  },
  {
   "cell_type": "code",
   "execution_count": 88,
   "metadata": {
    "collapsed": false
   },
   "outputs": [],
   "source": [
    "X_scale = scale.fit_transform(datanum)"
   ]
  },
  {
   "cell_type": "markdown",
   "metadata": {},
   "source": [
    "### Finding the \"Elbow\""
   ]
  },
  {
   "cell_type": "markdown",
   "metadata": {},
   "source": [
    "Although there is no clear way to determine the amount of clusters that will give you the \"best\" accuracy score, plotting inertia against different values of clusters can help. The largest slope change suggests the best value to use. The plot below displays how inertia changes as we increase k. When looking for the \"elbow,\" the best k seems to be 3."
   ]
  },
  {
   "cell_type": "code",
   "execution_count": 84,
   "metadata": {
    "collapsed": false
   },
   "outputs": [
    {
     "data": {
      "text/plain": [
       "[<matplotlib.lines.Line2D at 0x13c0a198>]"
      ]
     },
     "execution_count": 84,
     "metadata": {},
     "output_type": "execute_result"
    },
    {
     "data": {
      "image/png": "[encoded data removed]",
      "text/plain": [
       "<matplotlib.figure.Figure at 0x136628d0>"
      ]
     },
     "metadata": {},
     "output_type": "display_data"
    }
   ],
   "source": [
    "x = []\n",
    "y = []\n",
    "for n in range(2,11):\n",
    "    km = KMeans(n_clusters=n, random_state=0)\n",
    "    km.fit(X_scale)\n",
    "    x.append(n)\n",
    "    y.append(km.inertia_)\n",
    "plt.plot(x,y)"
   ]
  },
  {
   "cell_type": "code",
   "execution_count": 89,
   "metadata": {
    "collapsed": false
   },
   "outputs": [
    {
     "name": "stdout",
     "output_type": "stream",
     "text": [
      "Wall time: 3.03 s\n"
     ]
    }
   ],
   "source": [
    "%%time\n",
    "km = KMeans(n_clusters=9, n_init=5,random_state=10)\n",
    "km.fit(X_scale)"
   ]
  },
  {
   "cell_type": "markdown",
   "metadata": {},
   "source": [
    "### Inertia tells us how good our groups are by summing the distances of each data point to the cluster center."
   ]
  },
  {
   "cell_type": "code",
   "execution_count": 90,
   "metadata": {
    "collapsed": false
   },
   "outputs": [
    {
     "name": "stdout",
     "output_type": "stream",
     "text": [
      "359995.913473\n"
     ]
    }
   ],
   "source": [
    "print km.inertia_"
   ]
  },
  {
   "cell_type": "markdown",
   "metadata": {},
   "source": [
    "### K-Means identifies the kinds of clusters in our data. \n",
    "### Cluster 0: Many lines spoken, fewer viewers, newer episodes, and a few words spoken per line\n",
    "### Cluster 1: Few lines spoken, 16 million viewers, older episodes, and a few words spoke per line\n",
    "### Cluster 2: Few lines spoken, large amount of viewers, older episodes, and significantly more words spoken per line"
   ]
  },
  {
   "cell_type": "code",
   "execution_count": 91,
   "metadata": {
    "collapsed": false,
    "scrolled": true
   },
   "outputs": [],
   "source": [
    "columns = {str(x): scale.inverse_transform(km.cluster_centers_[x]) for x in range(0,len(km.cluster_centers_))}\n",
    "simpsons_clusters = pd.DataFrame(columns, index=datanum.columns)"
   ]
  },
  {
   "cell_type": "code",
   "execution_count": 92,
   "metadata": {
    "collapsed": false
   },
   "outputs": [
    {
     "data": {
      "text/html": [
       "<div>\n",
       "<table border=\"1\" class=\"dataframe\">\n",
       "  <thead>\n",
       "    <tr style=\"text-align: right;\">\n",
       "      <th></th>\n",
       "      <th>0</th>\n",
       "      <th>1</th>\n",
       "      <th>2</th>\n",
       "      <th>3</th>\n",
       "      <th>4</th>\n",
       "      <th>5</th>\n",
       "      <th>6</th>\n",
       "      <th>7</th>\n",
       "      <th>8</th>\n",
       "    </tr>\n",
       "  </thead>\n",
       "  <tbody>\n",
       "    <tr>\n",
       "      <th>season</th>\n",
       "      <td>1.693215e+01</td>\n",
       "      <td>5.417504e+00</td>\n",
       "      <td>1.688735e+01</td>\n",
       "      <td>1.707261e+01</td>\n",
       "      <td>1.309296e+01</td>\n",
       "      <td>5.222117e+00</td>\n",
       "      <td>5.037747e+00</td>\n",
       "      <td>9.0000</td>\n",
       "      <td>1.705130e+01</td>\n",
       "    </tr>\n",
       "    <tr>\n",
       "      <th>word_count</th>\n",
       "      <td>9.217250e+00</td>\n",
       "      <td>8.575927e+00</td>\n",
       "      <td>9.164442e+00</td>\n",
       "      <td>2.618809e+01</td>\n",
       "      <td>1.072765e+01</td>\n",
       "      <td>1.018834e+01</td>\n",
       "      <td>3.181398e+01</td>\n",
       "      <td>885500.0000</td>\n",
       "      <td>9.213330e+00</td>\n",
       "    </tr>\n",
       "    <tr>\n",
       "      <th>month</th>\n",
       "      <td>1.082606e+01</td>\n",
       "      <td>6.128864e+00</td>\n",
       "      <td>6.151573e+00</td>\n",
       "      <td>5.989258e+00</td>\n",
       "      <td>6.008281e+00</td>\n",
       "      <td>5.465108e+00</td>\n",
       "      <td>6.561219e+00</td>\n",
       "      <td>5.2500</td>\n",
       "      <td>3.147614e+00</td>\n",
       "    </tr>\n",
       "    <tr>\n",
       "      <th>main_character</th>\n",
       "      <td>-1.211808e-13</td>\n",
       "      <td>1.000000e+00</td>\n",
       "      <td>7.879462e-01</td>\n",
       "      <td>1.000000e+00</td>\n",
       "      <td>-1.431077e-13</td>\n",
       "      <td>-1.503242e-13</td>\n",
       "      <td>7.953232e-01</td>\n",
       "      <td>0.2500</td>\n",
       "      <td>-2.250422e-13</td>\n",
       "    </tr>\n",
       "    <tr>\n",
       "      <th>secondary_character</th>\n",
       "      <td>-1.261491e-14</td>\n",
       "      <td>2.470246e-15</td>\n",
       "      <td>1.769418e-14</td>\n",
       "      <td>4.352074e-14</td>\n",
       "      <td>1.000000e+00</td>\n",
       "      <td>-1.720846e-15</td>\n",
       "      <td>-2.034484e-14</td>\n",
       "      <td>0.0000</td>\n",
       "      <td>2.611800e-14</td>\n",
       "    </tr>\n",
       "    <tr>\n",
       "      <th>tertiary_character</th>\n",
       "      <td>1.000000e+00</td>\n",
       "      <td>1.141864e-13</td>\n",
       "      <td>2.120538e-01</td>\n",
       "      <td>-4.546363e-14</td>\n",
       "      <td>9.209300e-14</td>\n",
       "      <td>1.000000e+00</td>\n",
       "      <td>2.046768e-01</td>\n",
       "      <td>0.7500</td>\n",
       "      <td>1.000000e+00</td>\n",
       "    </tr>\n",
       "    <tr>\n",
       "      <th>main_location</th>\n",
       "      <td>4.066192e-14</td>\n",
       "      <td>4.388157e-14</td>\n",
       "      <td>1.000000e+00</td>\n",
       "      <td>5.273559e-14</td>\n",
       "      <td>1.159975e-01</td>\n",
       "      <td>4.304890e-14</td>\n",
       "      <td>1.000000e+00</td>\n",
       "      <td>0.0000</td>\n",
       "      <td>4.896084e-14</td>\n",
       "    </tr>\n",
       "    <tr>\n",
       "      <th>tertiary_location</th>\n",
       "      <td>8.727094e-01</td>\n",
       "      <td>8.893612e-01</td>\n",
       "      <td>-8.948398e-14</td>\n",
       "      <td>8.973111e-01</td>\n",
       "      <td>6.449795e-01</td>\n",
       "      <td>8.433426e-01</td>\n",
       "      <td>-8.415491e-14</td>\n",
       "      <td>1.0000</td>\n",
       "      <td>8.693158e-01</td>\n",
       "    </tr>\n",
       "    <tr>\n",
       "      <th>us_viewers_in_millions</th>\n",
       "      <td>9.618207e+00</td>\n",
       "      <td>1.981074e+01</td>\n",
       "      <td>8.713367e+00</td>\n",
       "      <td>8.603261e+00</td>\n",
       "      <td>1.213288e+01</td>\n",
       "      <td>1.954110e+01</td>\n",
       "      <td>2.001656e+01</td>\n",
       "      <td>17.2675</td>\n",
       "      <td>8.380142e+00</td>\n",
       "    </tr>\n",
       "  </tbody>\n",
       "</table>\n",
       "</div>"
      ],
      "text/plain": [
       "                                   0             1             2  \\\n",
       "season                  1.693215e+01  5.417504e+00  1.688735e+01   \n",
       "word_count              9.217250e+00  8.575927e+00  9.164442e+00   \n",
       "month                   1.082606e+01  6.128864e+00  6.151573e+00   \n",
       "main_character         -1.211808e-13  1.000000e+00  7.879462e-01   \n",
       "secondary_character    -1.261491e-14  2.470246e-15  1.769418e-14   \n",
       "tertiary_character      1.000000e+00  1.141864e-13  2.120538e-01   \n",
       "main_location           4.066192e-14  4.388157e-14  1.000000e+00   \n",
       "tertiary_location       8.727094e-01  8.893612e-01 -8.948398e-14   \n",
       "us_viewers_in_millions  9.618207e+00  1.981074e+01  8.713367e+00   \n",
       "\n",
       "                                   3             4             5  \\\n",
       "season                  1.707261e+01  1.309296e+01  5.222117e+00   \n",
       "word_count              2.618809e+01  1.072765e+01  1.018834e+01   \n",
       "month                   5.989258e+00  6.008281e+00  5.465108e+00   \n",
       "main_character          1.000000e+00 -1.431077e-13 -1.503242e-13   \n",
       "secondary_character     4.352074e-14  1.000000e+00 -1.720846e-15   \n",
       "tertiary_character     -4.546363e-14  9.209300e-14  1.000000e+00   \n",
       "main_location           5.273559e-14  1.159975e-01  4.304890e-14   \n",
       "tertiary_location       8.973111e-01  6.449795e-01  8.433426e-01   \n",
       "us_viewers_in_millions  8.603261e+00  1.213288e+01  1.954110e+01   \n",
       "\n",
       "                                   6            7             8  \n",
       "season                  5.037747e+00       9.0000  1.705130e+01  \n",
       "word_count              3.181398e+01  885500.0000  9.213330e+00  \n",
       "month                   6.561219e+00       5.2500  3.147614e+00  \n",
       "main_character          7.953232e-01       0.2500 -2.250422e-13  \n",
       "secondary_character    -2.034484e-14       0.0000  2.611800e-14  \n",
       "tertiary_character      2.046768e-01       0.7500  1.000000e+00  \n",
       "main_location           1.000000e+00       0.0000  4.896084e-14  \n",
       "tertiary_location      -8.415491e-14       1.0000  8.693158e-01  \n",
       "us_viewers_in_millions  2.001656e+01      17.2675  8.380142e+00  "
      ]
     },
     "execution_count": 92,
     "metadata": {},
     "output_type": "execute_result"
    }
   ],
   "source": [
    "simpsons_clusters"
   ]
  },
  {
   "cell_type": "code",
   "execution_count": 93,
   "metadata": {
    "collapsed": false
   },
   "outputs": [],
   "source": [
    "path = 'C:\\\\Users\\\\janel\\\\Documents\\\\DAT-NYC-45\\\\final-project\\\\4'"
   ]
  },
  {
   "cell_type": "code",
   "execution_count": 94,
   "metadata": {
    "collapsed": true
   },
   "outputs": [],
   "source": [
    "import os"
   ]
  },
  {
   "cell_type": "code",
   "execution_count": 95,
   "metadata": {
    "collapsed": false,
    "scrolled": true
   },
   "outputs": [],
   "source": [
    "simpsons_clusters.to_csv(os.path.join(path, 'simpsons_clusters.csv'))"
   ]
  },
  {
   "cell_type": "markdown",
   "metadata": {},
   "source": [
    "### In the future, I'd like to create more features that may be meaningful, like the number of characters per episode, the number of locations present within the episode, the average amount of viewers per month (to account for special holiday episodes), and episodes that involve topics listed above. In addition, I'd like to complete sentiment analysis for each of the lines, transform this into a binary variable to use when clustering. This way we can find information such as: \"Successful episodes often involve an angry conversational Homer Simpson at Moe's Tavern\""
   ]
  },
  {
   "cell_type": "code",
   "execution_count": null,
   "metadata": {
    "collapsed": true
   },
   "outputs": [],
   "source": []
  }
 ],
 "metadata": {
  "anaconda-cloud": {},
  "celltoolbar": "Raw Cell Format",
  "kernelspec": {
   "display_name": "Python [conda root]",
   "language": "python",
   "name": "conda-root-py"
  },
  "language_info": {
   "codemirror_mode": {
    "name": "ipython",
    "version": 2
   },
   "file_extension": ".py",
   "mimetype": "text/x-python",
   "name": "python",
   "nbconvert_exporter": "python",
   "pygments_lexer": "ipython2",
   "version": "2.7.12"
  }
 },
 "nbformat": 4,
 "nbformat_minor": 1
}
