{
 "cells": [
  {
   "cell_type": "markdown",
   "metadata": {},
   "source": [
    "# **The Simpsons Through the Data**"
   ]
  },
  {
   "cell_type": "markdown",
   "metadata": {},
   "source": [
    "#### There is much to be learned from the popular and timeless series, The Simpsons. When deviating from the standard quantitative metrics like ratings and reach, we can find meaningful groups and topics within the data looking at characters, locations, and spoken lines within all 600 episodes of the Simpsons."
   ]
  },
  {
   "cell_type": "markdown",
   "metadata": {},
   "source": [
    "#### Working in the world of television, the main attribute to determine the success of an episode is often a rating or reach. What if we took the innate creative features of a program that are closer to a viewer’s knowledge and more salient. “Which of my favorite characters are in this episode?” “I laugh whenever Bart gets in trouble at Springfield Elementary School.” Homer’s lines are iconic.” We can take these attributes to classify the kinds of episodes that come out of the Simpsons. With the episode clusters, how well are they voted for on IMDB? How are they viewed?"
   ]
  },
  {
   "cell_type": "markdown",
   "metadata": {},
   "source": [
    "#### Using a comprehensive dataset of 27 seasons of the Simpsons, what groups of episodes using creative attributes like characters, locations, and lines, can we find based on viewers, and which groups perform the best to inform creative content creators?"
   ]
  },
  {
   "cell_type": "markdown",
   "metadata": {},
   "source": [
    "#### I expect to see clusters each with similar information. I believe the episodes with the most imdb views will likely be seasonal episodes. These episodes may also have fewer characters, since they often focus on the main cast. Since The Treehouse of Horror episodes are more topical and often based on real-world horror stories, more unusual locations may be present. I expect older episodes with a greater amount of characters to have the highest amounts of views. Creating interesting segments of Simpsons episodes that are similar and adequately different from other groups of episodes will be a success. I expect to see differing imdb scores for each cluster. To help add features to my dataset that can better show the success of an episode, I can match Nielsen data with each of the episode numbers to see a better representation of the success of an episode using each of the features."
   ]
  },
  {
   "cell_type": "code",
   "execution_count": 37,
   "metadata": {
    "collapsed": false
   },
   "outputs": [],
   "source": [
    "# Unicode Handling\n",
    "from __future__ import unicode_literals\n",
    "\n",
    "import pandas as pd\n",
    "import json\n",
    "import numpy as np\n",
    "from sklearn.preprocessing import StandardScaler\n",
    "from sklearn.cluster import KMeans\n",
    "from sklearn.feature_extraction.text import TfidfVectorizer\n",
    "from gensim.models.ldamodel import LdaModel\n",
    "from gensim.matutils import Sparse2Corpus\n",
    "import nltk.classify.util\n",
    "from nltk.classify import NaiveBayesClassifier\n",
    "import matplotlib.pyplot as plt\n",
    "%matplotlib inline  \n",
    "\n",
    "lines = pd.read_csv('simpsons_script_lines.csv')\n",
    "eps = pd.read_csv('simpsons_episodes.csv').fillna(0)\n",
    "chars = pd.read_csv('simpsons_characters.csv')\n",
    "locs = pd.read_csv('simpsons_locations.csv')"
   ]
  },
  {
   "cell_type": "markdown",
   "metadata": {},
   "source": [
    "#  <span style=\"color:blue\"> Cleaning/Merging Datasets </span>"
   ]
  },
  {
   "cell_type": "code",
   "execution_count": 47,
   "metadata": {
    "collapsed": true
   },
   "outputs": [],
   "source": [
    "merged_df = pd.merge(eps, lines, left_on='id', right_on='episode_id')"
   ]
  },
  {
   "cell_type": "code",
   "execution_count": 48,
   "metadata": {
    "collapsed": true
   },
   "outputs": [],
   "source": [
    "epslineschars = pd.merge(merged_df, chars, left_on='raw_character_text', right_on='name')"
   ]
  },
  {
   "cell_type": "code",
   "execution_count": 49,
   "metadata": {
    "collapsed": true
   },
   "outputs": [],
   "source": [
    "data = epslineschars"
   ]
  },
  {
   "cell_type": "code",
   "execution_count": 50,
   "metadata": {
    "collapsed": false
   },
   "outputs": [
    {
     "data": {
      "text/html": [
       "<div>\n",
       "<table border=\"1\" class=\"dataframe\">\n",
       "  <thead>\n",
       "    <tr style=\"text-align: right;\">\n",
       "      <th></th>\n",
       "      <th>id_x</th>\n",
       "      <th>title</th>\n",
       "      <th>original_air_date</th>\n",
       "      <th>production_code</th>\n",
       "      <th>season</th>\n",
       "      <th>number_in_season</th>\n",
       "      <th>number_in_series</th>\n",
       "      <th>us_viewers_in_millions</th>\n",
       "      <th>views</th>\n",
       "      <th>imdb_rating</th>\n",
       "      <th>...</th>\n",
       "      <th>location_id</th>\n",
       "      <th>raw_character_text</th>\n",
       "      <th>raw_location_text</th>\n",
       "      <th>spoken_words</th>\n",
       "      <th>normalized_text</th>\n",
       "      <th>word_count</th>\n",
       "      <th>id</th>\n",
       "      <th>name</th>\n",
       "      <th>normalized_name</th>\n",
       "      <th>gender</th>\n",
       "    </tr>\n",
       "  </thead>\n",
       "  <tbody>\n",
       "    <tr>\n",
       "      <th>0</th>\n",
       "      <td>10</td>\n",
       "      <td>Homer's Night Out</td>\n",
       "      <td>1990-03-25</td>\n",
       "      <td>7G10</td>\n",
       "      <td>1</td>\n",
       "      <td>10</td>\n",
       "      <td>10</td>\n",
       "      <td>30.3</td>\n",
       "      <td>50816.0</td>\n",
       "      <td>7.4</td>\n",
       "      <td>...</td>\n",
       "      <td>154.0</td>\n",
       "      <td>Eugene Fisk</td>\n",
       "      <td>PARTY ROOM</td>\n",
       "      <td>I love you, Dad.</td>\n",
       "      <td>i love you dad</td>\n",
       "      <td>4.0</td>\n",
       "      <td>169</td>\n",
       "      <td>Eugene Fisk</td>\n",
       "      <td>eugene fisk</td>\n",
       "      <td>NaN</td>\n",
       "    </tr>\n",
       "    <tr>\n",
       "      <th>1</th>\n",
       "      <td>10</td>\n",
       "      <td>Homer's Night Out</td>\n",
       "      <td>1990-03-25</td>\n",
       "      <td>7G10</td>\n",
       "      <td>1</td>\n",
       "      <td>10</td>\n",
       "      <td>10</td>\n",
       "      <td>30.3</td>\n",
       "      <td>50816.0</td>\n",
       "      <td>7.4</td>\n",
       "      <td>...</td>\n",
       "      <td>154.0</td>\n",
       "      <td>Mr. Fisk</td>\n",
       "      <td>PARTY ROOM</td>\n",
       "      <td>I love you, son.</td>\n",
       "      <td>i love you son</td>\n",
       "      <td>4.0</td>\n",
       "      <td>168</td>\n",
       "      <td>Mr. Fisk</td>\n",
       "      <td>mr fisk</td>\n",
       "      <td>NaN</td>\n",
       "    </tr>\n",
       "    <tr>\n",
       "      <th>2</th>\n",
       "      <td>10</td>\n",
       "      <td>Homer's Night Out</td>\n",
       "      <td>1990-03-25</td>\n",
       "      <td>7G10</td>\n",
       "      <td>1</td>\n",
       "      <td>10</td>\n",
       "      <td>10</td>\n",
       "      <td>30.3</td>\n",
       "      <td>50816.0</td>\n",
       "      <td>7.4</td>\n",
       "      <td>...</td>\n",
       "      <td>154.0</td>\n",
       "      <td>Mr. Fisk</td>\n",
       "      <td>PARTY ROOM</td>\n",
       "      <td>And just as I was asking myself, \"Where did my...</td>\n",
       "      <td>and just as i was asking myself where did my s...</td>\n",
       "      <td>77.0</td>\n",
       "      <td>168</td>\n",
       "      <td>Mr. Fisk</td>\n",
       "      <td>mr fisk</td>\n",
       "      <td>NaN</td>\n",
       "    </tr>\n",
       "    <tr>\n",
       "      <th>3</th>\n",
       "      <td>10</td>\n",
       "      <td>Homer's Night Out</td>\n",
       "      <td>1990-03-25</td>\n",
       "      <td>7G10</td>\n",
       "      <td>1</td>\n",
       "      <td>10</td>\n",
       "      <td>10</td>\n",
       "      <td>30.3</td>\n",
       "      <td>50816.0</td>\n",
       "      <td>7.4</td>\n",
       "      <td>...</td>\n",
       "      <td>154.0</td>\n",
       "      <td>Mr. Fisk</td>\n",
       "      <td>PARTY ROOM</td>\n",
       "      <td>How do I tell you this, my boy? We're in hell.</td>\n",
       "      <td>how do i tell you this my boy were in hell</td>\n",
       "      <td>11.0</td>\n",
       "      <td>168</td>\n",
       "      <td>Mr. Fisk</td>\n",
       "      <td>mr fisk</td>\n",
       "      <td>NaN</td>\n",
       "    </tr>\n",
       "    <tr>\n",
       "      <th>4</th>\n",
       "      <td>10</td>\n",
       "      <td>Homer's Night Out</td>\n",
       "      <td>1990-03-25</td>\n",
       "      <td>7G10</td>\n",
       "      <td>1</td>\n",
       "      <td>10</td>\n",
       "      <td>10</td>\n",
       "      <td>30.3</td>\n",
       "      <td>50816.0</td>\n",
       "      <td>7.4</td>\n",
       "      <td>...</td>\n",
       "      <td>91.0</td>\n",
       "      <td>Marge Simpson</td>\n",
       "      <td>Simpson Bathroom</td>\n",
       "      <td>So how was the office birthday party?</td>\n",
       "      <td>so how was the office birthday party</td>\n",
       "      <td>7.0</td>\n",
       "      <td>1</td>\n",
       "      <td>Marge Simpson</td>\n",
       "      <td>marge simpson</td>\n",
       "      <td>f</td>\n",
       "    </tr>\n",
       "  </tbody>\n",
       "</table>\n",
       "<p>5 rows × 30 columns</p>\n",
       "</div>"
      ],
      "text/plain": [
       "   id_x              title original_air_date production_code  season  \\\n",
       "0    10  Homer's Night Out        1990-03-25            7G10       1   \n",
       "1    10  Homer's Night Out        1990-03-25            7G10       1   \n",
       "2    10  Homer's Night Out        1990-03-25            7G10       1   \n",
       "3    10  Homer's Night Out        1990-03-25            7G10       1   \n",
       "4    10  Homer's Night Out        1990-03-25            7G10       1   \n",
       "\n",
       "   number_in_season  number_in_series  us_viewers_in_millions    views  \\\n",
       "0                10                10                    30.3  50816.0   \n",
       "1                10                10                    30.3  50816.0   \n",
       "2                10                10                    30.3  50816.0   \n",
       "3                10                10                    30.3  50816.0   \n",
       "4                10                10                    30.3  50816.0   \n",
       "\n",
       "   imdb_rating  ...    location_id raw_character_text raw_location_text  \\\n",
       "0          7.4  ...          154.0        Eugene Fisk        PARTY ROOM   \n",
       "1          7.4  ...          154.0           Mr. Fisk        PARTY ROOM   \n",
       "2          7.4  ...          154.0           Mr. Fisk        PARTY ROOM   \n",
       "3          7.4  ...          154.0           Mr. Fisk        PARTY ROOM   \n",
       "4          7.4  ...           91.0      Marge Simpson  Simpson Bathroom   \n",
       "\n",
       "                                        spoken_words  \\\n",
       "0                                   I love you, Dad.   \n",
       "1                                   I love you, son.   \n",
       "2  And just as I was asking myself, \"Where did my...   \n",
       "3     How do I tell you this, my boy? We're in hell.   \n",
       "4              So how was the office birthday party?   \n",
       "\n",
       "                                     normalized_text  word_count   id  \\\n",
       "0                                     i love you dad         4.0  169   \n",
       "1                                     i love you son         4.0  168   \n",
       "2  and just as i was asking myself where did my s...        77.0  168   \n",
       "3         how do i tell you this my boy were in hell        11.0  168   \n",
       "4               so how was the office birthday party         7.0    1   \n",
       "\n",
       "            name normalized_name gender  \n",
       "0    Eugene Fisk     eugene fisk    NaN  \n",
       "1       Mr. Fisk         mr fisk    NaN  \n",
       "2       Mr. Fisk         mr fisk    NaN  \n",
       "3       Mr. Fisk         mr fisk    NaN  \n",
       "4  Marge Simpson   marge simpson      f  \n",
       "\n",
       "[5 rows x 30 columns]"
      ]
     },
     "execution_count": 50,
     "metadata": {},
     "output_type": "execute_result"
    }
   ],
   "source": [
    "data.head()"
   ]
  },
  {
   "cell_type": "markdown",
   "metadata": {},
   "source": [
    "#  <span style=\"color:blue\"> Feature Engineering </span>"
   ]
  },
  {
   "cell_type": "markdown",
   "metadata": {},
   "source": [
    "### Separate characters into primary and secondary characters based on number of lines per episode"
   ]
  },
  {
   "cell_type": "code",
   "execution_count": 66,
   "metadata": {
    "collapsed": false
   },
   "outputs": [],
   "source": [
    "main_chars = data.groupby(\"name\").count()[\"id\"].sort_values(ascending=False)[0:4]/600"
   ]
  },
  {
   "cell_type": "code",
   "execution_count": 67,
   "metadata": {
    "collapsed": false
   },
   "outputs": [],
   "source": [
    "sec_chars = data.groupby(\"name\").count()[\"id\"].sort_values(ascending=False)[4:10]/600"
   ]
  },
  {
   "cell_type": "code",
   "execution_count": 68,
   "metadata": {
    "collapsed": false
   },
   "outputs": [],
   "source": [
    "def char_tier(row):\n",
    "    if row['name'] in main_chars:\n",
    "        return 'main'\n",
    "    if row['name'] in sec_chars:\n",
    "        return 'secondary'\n",
    "    else:\n",
    "        'tertiary'\n",
    "\n",
    "data['char_tier'] = data.apply(lambda row: char_tier (row),axis=1)"
   ]
  },
  {
   "cell_type": "markdown",
   "metadata": {},
   "source": [
    "### Average views per month"
   ]
  },
  {
   "cell_type": "markdown",
   "metadata": {},
   "source": [
    "#### Episodes around Holiday months like December and October should have more viewers than other months. Annually, The Simpsons airs its Halloween Special: Treehouse of Horror, which grabs the attention of more viewers."
   ]
  },
  {
   "cell_type": "code",
   "execution_count": 103,
   "metadata": {
    "collapsed": false
   },
   "outputs": [],
   "source": [
    "data['air_month'] = pd.to_datetime(data[\"original_air_date\"]).dt.month"
   ]
  },
  {
   "cell_type": "code",
   "execution_count": 229,
   "metadata": {
    "collapsed": false
   },
   "outputs": [],
   "source": [
    "data['original_air_date'] = pd.to_datetime(data[\"original_air_date\"])"
   ]
  },
  {
   "cell_type": "code",
   "execution_count": 57,
   "metadata": {
    "collapsed": true
   },
   "outputs": [],
   "source": [
    "def month_avg(row):\n",
    "    for row['air_month'] in air_month_list:\n",
    "        print data[data['air_month']==row]['us_viewers_in_millions'].mean()"
   ]
  },
  {
   "cell_type": "code",
   "execution_count": 232,
   "metadata": {
    "collapsed": false,
    "scrolled": true
   },
   "outputs": [],
   "source": [
    "g = data.groupby('air_month')\n",
    "monthly_averages = g.aggregate({\"us_viewers_in_millions\":np.mean})"
   ]
  },
  {
   "cell_type": "code",
   "execution_count": 182,
   "metadata": {
    "collapsed": false
   },
   "outputs": [
    {
     "ename": "KeyboardInterrupt",
     "evalue": "",
     "output_type": "error",
     "traceback": [
      "\u001b[0;31m---------------------------------------------------------------------------\u001b[0m",
      "\u001b[0;31mKeyboardInterrupt\u001b[0m                         Traceback (most recent call last)",
      "\u001b[0;32m<ipython-input-182-d24b5bb894ef>\u001b[0m in \u001b[0;36m<module>\u001b[0;34m()\u001b[0m\n\u001b[1;32m      3\u001b[0m     \u001b[1;32mfor\u001b[0m \u001b[0mi\u001b[0m \u001b[1;32min\u001b[0m \u001b[0mrange\u001b[0m\u001b[1;33m(\u001b[0m\u001b[1;36m1\u001b[0m\u001b[1;33m,\u001b[0m\u001b[1;36m13\u001b[0m\u001b[1;33m)\u001b[0m\u001b[1;33m:\u001b[0m\u001b[1;33m\u001b[0m\u001b[0m\n\u001b[1;32m      4\u001b[0m         \u001b[1;32mif\u001b[0m \u001b[0mmonth\u001b[0m\u001b[1;33m==\u001b[0m\u001b[0mi\u001b[0m\u001b[1;33m:\u001b[0m\u001b[1;33m\u001b[0m\u001b[0m\n\u001b[0;32m----> 5\u001b[0;31m             \u001b[0mavgmonth\u001b[0m\u001b[1;33m.\u001b[0m\u001b[0mappend\u001b[0m\u001b[1;33m(\u001b[0m\u001b[0mdata\u001b[0m\u001b[1;33m[\u001b[0m\u001b[0mdata\u001b[0m\u001b[1;33m[\u001b[0m\u001b[1;34m'air_month'\u001b[0m\u001b[1;33m]\u001b[0m\u001b[1;33m==\u001b[0m\u001b[0mi\u001b[0m\u001b[1;33m]\u001b[0m\u001b[1;33m[\u001b[0m\u001b[1;34m'us_viewers_in_millions'\u001b[0m\u001b[1;33m]\u001b[0m\u001b[1;33m.\u001b[0m\u001b[0mmean\u001b[0m\u001b[1;33m(\u001b[0m\u001b[1;33m)\u001b[0m\u001b[1;33m)\u001b[0m\u001b[1;33m\u001b[0m\u001b[0m\n\u001b[0m",
      "\u001b[0;32mC:\\Users\\corderoja\\AppData\\Local\\Continuum\\Anaconda2\\lib\\site-packages\\pandas\\core\\generic.pyc\u001b[0m in \u001b[0;36mstat_func\u001b[0;34m(self, axis, skipna, level, numeric_only, **kwargs)\u001b[0m\n\u001b[1;32m   5308\u001b[0m                                       skipna=skipna)\n\u001b[1;32m   5309\u001b[0m         return self._reduce(f, name, axis=axis, skipna=skipna,\n\u001b[0;32m-> 5310\u001b[0;31m                             numeric_only=numeric_only)\n\u001b[0m\u001b[1;32m   5311\u001b[0m \u001b[1;33m\u001b[0m\u001b[0m\n\u001b[1;32m   5312\u001b[0m     \u001b[1;32mreturn\u001b[0m \u001b[0mset_function_name\u001b[0m\u001b[1;33m(\u001b[0m\u001b[0mstat_func\u001b[0m\u001b[1;33m,\u001b[0m \u001b[0mname\u001b[0m\u001b[1;33m,\u001b[0m \u001b[0mcls\u001b[0m\u001b[1;33m)\u001b[0m\u001b[1;33m\u001b[0m\u001b[0m\n",
      "\u001b[0;32mC:\\Users\\corderoja\\AppData\\Local\\Continuum\\Anaconda2\\lib\\site-packages\\pandas\\core\\series.pyc\u001b[0m in \u001b[0;36m_reduce\u001b[0;34m(self, op, name, axis, skipna, numeric_only, filter_type, **kwds)\u001b[0m\n\u001b[1;32m   2243\u001b[0m                 raise NotImplementedError('Series.{0} does not implement '\n\u001b[1;32m   2244\u001b[0m                                           'numeric_only.'.format(name))\n\u001b[0;32m-> 2245\u001b[0;31m             \u001b[1;32mreturn\u001b[0m \u001b[0mop\u001b[0m\u001b[1;33m(\u001b[0m\u001b[0mdelegate\u001b[0m\u001b[1;33m,\u001b[0m \u001b[0mskipna\u001b[0m\u001b[1;33m=\u001b[0m\u001b[0mskipna\u001b[0m\u001b[1;33m,\u001b[0m \u001b[1;33m**\u001b[0m\u001b[0mkwds\u001b[0m\u001b[1;33m)\u001b[0m\u001b[1;33m\u001b[0m\u001b[0m\n\u001b[0m\u001b[1;32m   2246\u001b[0m \u001b[1;33m\u001b[0m\u001b[0m\n\u001b[1;32m   2247\u001b[0m         return delegate._reduce(op=op, name=name, axis=axis, skipna=skipna,\n",
      "\u001b[0;32mC:\\Users\\corderoja\\AppData\\Local\\Continuum\\Anaconda2\\lib\\site-packages\\pandas\\core\\nanops.pyc\u001b[0m in \u001b[0;36m_f\u001b[0;34m(*args, **kwargs)\u001b[0m\n\u001b[1;32m     34\u001b[0m \u001b[1;33m\u001b[0m\u001b[0m\n\u001b[1;32m     35\u001b[0m     \u001b[1;32mdef\u001b[0m \u001b[0m__call__\u001b[0m\u001b[1;33m(\u001b[0m\u001b[0mself\u001b[0m\u001b[1;33m,\u001b[0m \u001b[0mf\u001b[0m\u001b[1;33m)\u001b[0m\u001b[1;33m:\u001b[0m\u001b[1;33m\u001b[0m\u001b[0m\n\u001b[0;32m---> 36\u001b[0;31m         \u001b[1;33m@\u001b[0m\u001b[0mfunctools\u001b[0m\u001b[1;33m.\u001b[0m\u001b[0mwraps\u001b[0m\u001b[1;33m(\u001b[0m\u001b[0mf\u001b[0m\u001b[1;33m)\u001b[0m\u001b[1;33m\u001b[0m\u001b[0m\n\u001b[0m\u001b[1;32m     37\u001b[0m         \u001b[1;32mdef\u001b[0m \u001b[0m_f\u001b[0m\u001b[1;33m(\u001b[0m\u001b[1;33m*\u001b[0m\u001b[0margs\u001b[0m\u001b[1;33m,\u001b[0m \u001b[1;33m**\u001b[0m\u001b[0mkwargs\u001b[0m\u001b[1;33m)\u001b[0m\u001b[1;33m:\u001b[0m\u001b[1;33m\u001b[0m\u001b[0m\n\u001b[1;32m     38\u001b[0m             \u001b[0mobj_iter\u001b[0m \u001b[1;33m=\u001b[0m \u001b[0mitertools\u001b[0m\u001b[1;33m.\u001b[0m\u001b[0mchain\u001b[0m\u001b[1;33m(\u001b[0m\u001b[0margs\u001b[0m\u001b[1;33m,\u001b[0m \u001b[0mcompat\u001b[0m\u001b[1;33m.\u001b[0m\u001b[0mitervalues\u001b[0m\u001b[1;33m(\u001b[0m\u001b[0mkwargs\u001b[0m\u001b[1;33m)\u001b[0m\u001b[1;33m)\u001b[0m\u001b[1;33m\u001b[0m\u001b[0m\n",
      "\u001b[0;31mKeyboardInterrupt\u001b[0m: "
     ]
    }
   ],
   "source": [
    "avgmonth = []\n",
    "for month in data['air_month']:\n",
    "    for i in range(1,13):\n",
    "        if month==i:\n",
    "            avgmonth.append(data[data['air_month']==i]['us_viewers_in_millions'].mean())"
   ]
  },
  {
   "cell_type": "markdown",
   "metadata": {},
   "source": [
    "#### Create a dataframe with average per month to join with the data"
   ]
  },
  {
   "cell_type": "code",
   "execution_count": 174,
   "metadata": {
    "collapsed": false,
    "scrolled": true
   },
   "outputs": [],
   "source": [
    "df = pd.Series({'month': [], 'avg': []})\n",
    "for i in range(1,13):\n",
    "    df['month'].append(i)\n",
    "    df['avg'].append(data[data['air_month']==i]['us_viewers_in_millions'].mean())"
   ]
  },
  {
   "cell_type": "code",
   "execution_count": 175,
   "metadata": {
    "collapsed": false
   },
   "outputs": [
    {
     "data": {
      "text/plain": [
       "avg      [13.3370609756, 14.7385274475, 11.0528667137, ...\n",
       "month              [1, 2, 3, 4, 5, 6, 7, 8, 9, 10, 11, 12]\n",
       "dtype: object"
      ]
     },
     "execution_count": 175,
     "metadata": {},
     "output_type": "execute_result"
    }
   ],
   "source": [
    "df"
   ]
  },
  {
   "cell_type": "markdown",
   "metadata": {},
   "source": [
    "#  <span style=\"color:blue\"> Exploratory Data Analysis </span>"
   ]
  },
  {
   "cell_type": "markdown",
   "metadata": {},
   "source": [
    "On average, the Simpson's pulls in "
   ]
  },
  {
   "cell_type": "code",
   "execution_count": 241,
   "metadata": {
    "collapsed": false,
    "scrolled": true
   },
   "outputs": [
    {
     "name": "stderr",
     "output_type": "stream",
     "text": [
      "C:\\Users\\corderoja\\AppData\\Local\\Continuum\\Anaconda2\\lib\\site-packages\\numpy\\lib\\function_base.py:3834: RuntimeWarning: Invalid value encountered in percentile\n",
      "  RuntimeWarning)\n"
     ]
    },
    {
     "data": {
      "text/html": [
       "<div>\n",
       "<table border=\"1\" class=\"dataframe\">\n",
       "  <thead>\n",
       "    <tr style=\"text-align: right;\">\n",
       "      <th></th>\n",
       "      <th>id_x</th>\n",
       "      <th>season</th>\n",
       "      <th>number_in_season</th>\n",
       "      <th>number_in_series</th>\n",
       "      <th>us_viewers_in_millions</th>\n",
       "      <th>views</th>\n",
       "      <th>imdb_rating</th>\n",
       "      <th>imdb_votes</th>\n",
       "      <th>id_y</th>\n",
       "      <th>episode_id</th>\n",
       "      <th>number</th>\n",
       "      <th>location_id</th>\n",
       "      <th>word_count</th>\n",
       "      <th>id</th>\n",
       "      <th>air_month</th>\n",
       "    </tr>\n",
       "  </thead>\n",
       "  <tbody>\n",
       "    <tr>\n",
       "      <th>count</th>\n",
       "      <td>139442.000000</td>\n",
       "      <td>139442.000000</td>\n",
       "      <td>139442.000000</td>\n",
       "      <td>139442.000000</td>\n",
       "      <td>139442.000000</td>\n",
       "      <td>139442.000000</td>\n",
       "      <td>139442.000000</td>\n",
       "      <td>139442.000000</td>\n",
       "      <td>139442.000000</td>\n",
       "      <td>139442.000000</td>\n",
       "      <td>139442.000000</td>\n",
       "      <td>139036.000000</td>\n",
       "      <td>1.308540e+05</td>\n",
       "      <td>139442.000000</td>\n",
       "      <td>139442.000000</td>\n",
       "    </tr>\n",
       "    <tr>\n",
       "      <th>mean</th>\n",
       "      <td>277.925309</td>\n",
       "      <td>13.079187</td>\n",
       "      <td>11.528076</td>\n",
       "      <td>277.925309</td>\n",
       "      <td>12.387750</td>\n",
       "      <td>50953.592755</td>\n",
       "      <td>7.435032</td>\n",
       "      <td>868.044685</td>\n",
       "      <td>79012.876945</td>\n",
       "      <td>277.925309</td>\n",
       "      <td>141.896875</td>\n",
       "      <td>833.440987</td>\n",
       "      <td>4.291676e+01</td>\n",
       "      <td>671.626217</td>\n",
       "      <td>6.041049</td>\n",
       "    </tr>\n",
       "    <tr>\n",
       "      <th>std</th>\n",
       "      <td>163.079281</td>\n",
       "      <td>7.278425</td>\n",
       "      <td>6.506858</td>\n",
       "      <td>163.079281</td>\n",
       "      <td>6.410426</td>\n",
       "      <td>15267.045400</td>\n",
       "      <td>0.719229</td>\n",
       "      <td>394.820363</td>\n",
       "      <td>45606.620804</td>\n",
       "      <td>163.079281</td>\n",
       "      <td>83.929256</td>\n",
       "      <td>1199.553993</td>\n",
       "      <td>5.270161e+03</td>\n",
       "      <td>1508.806883</td>\n",
       "      <td>3.957231</td>\n",
       "    </tr>\n",
       "    <tr>\n",
       "      <th>min</th>\n",
       "      <td>1.000000</td>\n",
       "      <td>1.000000</td>\n",
       "      <td>1.000000</td>\n",
       "      <td>1.000000</td>\n",
       "      <td>0.000000</td>\n",
       "      <td>15780.000000</td>\n",
       "      <td>4.500000</td>\n",
       "      <td>360.000000</td>\n",
       "      <td>3.000000</td>\n",
       "      <td>1.000000</td>\n",
       "      <td>0.000000</td>\n",
       "      <td>1.000000</td>\n",
       "      <td>0.000000e+00</td>\n",
       "      <td>1.000000</td>\n",
       "      <td>1.000000</td>\n",
       "    </tr>\n",
       "    <tr>\n",
       "      <th>25%</th>\n",
       "      <td>139.000000</td>\n",
       "      <td>7.000000</td>\n",
       "      <td>6.000000</td>\n",
       "      <td>139.000000</td>\n",
       "      <td>7.700000</td>\n",
       "      <td>42141.000000</td>\n",
       "      <td>6.900000</td>\n",
       "      <td>580.000000</td>\n",
       "      <td>39827.250000</td>\n",
       "      <td>139.000000</td>\n",
       "      <td>70.000000</td>\n",
       "      <td>NaN</td>\n",
       "      <td>NaN</td>\n",
       "      <td>2.000000</td>\n",
       "      <td>3.000000</td>\n",
       "    </tr>\n",
       "    <tr>\n",
       "      <th>50%</th>\n",
       "      <td>272.000000</td>\n",
       "      <td>13.000000</td>\n",
       "      <td>11.000000</td>\n",
       "      <td>272.000000</td>\n",
       "      <td>10.620000</td>\n",
       "      <td>47107.000000</td>\n",
       "      <td>7.300000</td>\n",
       "      <td>730.000000</td>\n",
       "      <td>78630.500000</td>\n",
       "      <td>272.000000</td>\n",
       "      <td>140.000000</td>\n",
       "      <td>NaN</td>\n",
       "      <td>NaN</td>\n",
       "      <td>9.000000</td>\n",
       "      <td>5.000000</td>\n",
       "    </tr>\n",
       "    <tr>\n",
       "      <th>75%</th>\n",
       "      <td>417.000000</td>\n",
       "      <td>19.000000</td>\n",
       "      <td>17.000000</td>\n",
       "      <td>417.000000</td>\n",
       "      <td>15.900000</td>\n",
       "      <td>57809.000000</td>\n",
       "      <td>8.000000</td>\n",
       "      <td>1119.000000</td>\n",
       "      <td>118599.750000</td>\n",
       "      <td>417.000000</td>\n",
       "      <td>211.000000</td>\n",
       "      <td>NaN</td>\n",
       "      <td>NaN</td>\n",
       "      <td>240.000000</td>\n",
       "      <td>11.000000</td>\n",
       "    </tr>\n",
       "    <tr>\n",
       "      <th>max</th>\n",
       "      <td>568.000000</td>\n",
       "      <td>26.000000</td>\n",
       "      <td>25.000000</td>\n",
       "      <td>568.000000</td>\n",
       "      <td>33.600000</td>\n",
       "      <td>171408.000000</td>\n",
       "      <td>9.200000</td>\n",
       "      <td>3734.000000</td>\n",
       "      <td>158315.000000</td>\n",
       "      <td>568.000000</td>\n",
       "      <td>394.000000</td>\n",
       "      <td>4458.000000</td>\n",
       "      <td>1.154000e+06</td>\n",
       "      <td>6749.000000</td>\n",
       "      <td>12.000000</td>\n",
       "    </tr>\n",
       "  </tbody>\n",
       "</table>\n",
       "</div>"
      ],
      "text/plain": [
       "                id_x         season  number_in_season  number_in_series  \\\n",
       "count  139442.000000  139442.000000     139442.000000     139442.000000   \n",
       "mean      277.925309      13.079187         11.528076        277.925309   \n",
       "std       163.079281       7.278425          6.506858        163.079281   \n",
       "min         1.000000       1.000000          1.000000          1.000000   \n",
       "25%       139.000000       7.000000          6.000000        139.000000   \n",
       "50%       272.000000      13.000000         11.000000        272.000000   \n",
       "75%       417.000000      19.000000         17.000000        417.000000   \n",
       "max       568.000000      26.000000         25.000000        568.000000   \n",
       "\n",
       "       us_viewers_in_millions          views    imdb_rating     imdb_votes  \\\n",
       "count           139442.000000  139442.000000  139442.000000  139442.000000   \n",
       "mean                12.387750   50953.592755       7.435032     868.044685   \n",
       "std                  6.410426   15267.045400       0.719229     394.820363   \n",
       "min                  0.000000   15780.000000       4.500000     360.000000   \n",
       "25%                  7.700000   42141.000000       6.900000     580.000000   \n",
       "50%                 10.620000   47107.000000       7.300000     730.000000   \n",
       "75%                 15.900000   57809.000000       8.000000    1119.000000   \n",
       "max                 33.600000  171408.000000       9.200000    3734.000000   \n",
       "\n",
       "                id_y     episode_id         number    location_id  \\\n",
       "count  139442.000000  139442.000000  139442.000000  139036.000000   \n",
       "mean    79012.876945     277.925309     141.896875     833.440987   \n",
       "std     45606.620804     163.079281      83.929256    1199.553993   \n",
       "min         3.000000       1.000000       0.000000       1.000000   \n",
       "25%     39827.250000     139.000000      70.000000            NaN   \n",
       "50%     78630.500000     272.000000     140.000000            NaN   \n",
       "75%    118599.750000     417.000000     211.000000            NaN   \n",
       "max    158315.000000     568.000000     394.000000    4458.000000   \n",
       "\n",
       "         word_count             id      air_month  \n",
       "count  1.308540e+05  139442.000000  139442.000000  \n",
       "mean   4.291676e+01     671.626217       6.041049  \n",
       "std    5.270161e+03    1508.806883       3.957231  \n",
       "min    0.000000e+00       1.000000       1.000000  \n",
       "25%             NaN       2.000000       3.000000  \n",
       "50%             NaN       9.000000       5.000000  \n",
       "75%             NaN     240.000000      11.000000  \n",
       "max    1.154000e+06    6749.000000      12.000000  "
      ]
     },
     "execution_count": 241,
     "metadata": {},
     "output_type": "execute_result"
    }
   ],
   "source": [
    "data.describe()"
   ]
  },
  {
   "cell_type": "markdown",
   "metadata": {},
   "source": [
    "### The two outcome variables present in the dataset are IMDB_Ratings and Viewers (US Viewers in Millions). The two are correlated, so we will use US viewers to determine success of episodes of The Simpsons."
   ]
  },
  {
   "cell_type": "code",
   "execution_count": 244,
   "metadata": {
    "collapsed": false,
    "scrolled": false
   },
   "outputs": [
    {
     "data": {
      "text/plain": [
       "<matplotlib.text.Text at 0x23aba630>"
      ]
     },
     "execution_count": 244,
     "metadata": {},
     "output_type": "execute_result"
    },
    {
     "data": {
      "image/png": "[encoded data removed]",
      "text/plain": [
       "<matplotlib.figure.Figure at 0x154a8a90>"
      ]
     },
     "metadata": {},
     "output_type": "display_data"
    }
   ],
   "source": [
    "x=pd.concat((eps['imdb_rating'],eps['us_viewers_in_millions']),axis = 1)\n",
    "x.plot(kind='hist',bins=20,color=('gold','lightblue'),edgecolor='blue',alpha=0.5).set_xlabel('Rating')"
   ]
  },
  {
   "cell_type": "markdown",
   "metadata": {},
   "source": [
    "#### Correlation Coefficient =  0.5936203"
   ]
  },
  {
   "cell_type": "code",
   "execution_count": 246,
   "metadata": {
    "collapsed": false,
    "scrolled": false
   },
   "outputs": [
    {
     "data": {
      "text/plain": [
       "array([[ 1.       ,  0.5936203],\n",
       "       [ 0.5936203,  1.       ]])"
      ]
     },
     "execution_count": 246,
     "metadata": {},
     "output_type": "execute_result"
    }
   ],
   "source": [
    "np.corrcoef([data['us_viewers_in_millions'],data['imdb_rating']])"
   ]
  },
  {
   "cell_type": "markdown",
   "metadata": {},
   "source": [
    "### Viewers of The Simpsons steadily declined constantly since the first season. We can attribute this decline to the organiz decline in TV viewing as viewers are going to additional sources (Video On Demand, Internet Connected Devices) to view programs that are no measured by sources like Nielsen"
   ]
  },
  {
   "cell_type": "code",
   "execution_count": 250,
   "metadata": {
    "collapsed": false,
    "scrolled": false
   },
   "outputs": [
    {
     "data": {
      "image/png": "[encoded data removed]",
      "text/plain": [
       "<matplotlib.figure.Figure at 0x21141198>"
      ]
     },
     "metadata": {},
     "output_type": "display_data"
    }
   ],
   "source": [
    "eps.plot('season','us_viewers_in_millions',kind='scatter',title='Simpsons Ratings over the Seasons',\n",
    "         color='gold',marker='v',alpha=.5,edgecolor='None').set_ylabel('Rating');"
   ]
  },
  {
   "cell_type": "markdown",
   "metadata": {},
   "source": [
    "### Another important feature is gender. Since we have text of all of thel ines spoken, we can see how many lines were spoken by fmelaes and males.Females have significantly less lines than males, largely due to the fact that their are significantly less female characters than male."
   ]
  },
  {
   "cell_type": "code",
   "execution_count": 253,
   "metadata": {
    "collapsed": false
   },
   "outputs": [
    {
     "data": {
      "image/png": "[encoded data removed]",
      "text/plain": [
       "<matplotlib.figure.Figure at 0x15b71550>"
      ]
     },
     "metadata": {},
     "output_type": "display_data"
    }
   ],
   "source": [
    "data['gender'].value_counts().plot(kind='barh',color='gold',edgecolor='blue').set_ylabel('Gender')\n",
    "data['gender'].value_counts().plot(kind='barh',color='gold',edgecolor='blue').set_xlabel('Lines');"
   ]
  },
  {
   "cell_type": "markdown",
   "metadata": {},
   "source": [
    "### We can break character groups down by grouping and sorting based on the number of lines a character has per episode. All chracters who have at least 14 lines per episode are main characters. All characters who have at least 3 lines per episode are secondary characters. All others are \"other.\""
   ]
  },
  {
   "cell_type": "code",
   "execution_count": 258,
   "metadata": {
    "collapsed": false,
    "scrolled": true
   },
   "outputs": [
    {
     "data": {
      "image/png": "[encoded data removed]",
      "text/plain": [
       "<matplotlib.figure.Figure at 0x2b12eac8>"
      ]
     },
     "metadata": {},
     "output_type": "display_data"
    }
   ],
   "source": [
    "plt.subplot(1, 3, 1)\n",
    "(data.groupby(\"name\").count()[\"id\"].sort_values(ascending=False)[0:4]/600).plot(kind='bar',figsize=(15,5),title='Primary Characters').set_ylabel('Lines')\n",
    "plt.subplot(1, 3, 2)\n",
    "(data.groupby(\"name\").count()[\"id\"].sort_values(ascending=False)[5:11]/600).plot(kind='bar',title ='Secondary Characters').set_ylabel('Lines')\n",
    "plt.subplot(1, 3, 3)\n",
    "(data.groupby(\"name\").count()[\"id\"].sort_values(ascending=False)[12:20]/600).plot(kind='bar',title='Tertiary Characters').set_ylabel('Lines');"
   ]
  },
  {
   "cell_type": "code",
   "execution_count": 46,
   "metadata": {
    "collapsed": false
   },
   "outputs": [
    {
     "data": {
      "text/plain": [
       "<matplotlib.text.Text at 0x23eef710>"
      ]
     },
     "execution_count": 46,
     "metadata": {},
     "output_type": "execute_result"
    },
    {
     "data": {
      "image/png": "[encoded data removed]",
      "text/plain": [
       "<matplotlib.figure.Figure at 0x230e3160>"
      ]
     },
     "metadata": {},
     "output_type": "display_data"
    }
   ],
   "source": [
    "plt.subplot(1, 3, 1)\n",
    "(data.groupby(\"raw_location_text\").count()[\"id\"].sort_values(ascending=False)[0:1]/600).plot(kind='bar',figsize=(15,5),title='Primary Location').set_ylabel('Lines')\n",
    "plt.subplot(1, 3, 2)\n",
    "(data.groupby(\"raw_location_text\").count()[\"id\"].sort_values(ascending=False)[1:5]/600).plot(kind='bar',figsize=(15,5),title='Secondary Locations').set_ylabel('Lines')\n",
    "plt.subplot(1, 3, 3)\n",
    "(data.groupby(\"raw_location_text\").count()[\"id\"].sort_values(ascending=False)[5:10]/600).plot(kind='bar',figsize=(15,5),title='All Other').set_ylabel('Lines')"
   ]
  },
  {
   "cell_type": "markdown",
   "metadata": {},
   "source": [
    "# <span style=\"color:blue\"> Topic Modeling by Genders/Characters/Locations </span>"
   ]
  },
  {
   "cell_type": "code",
   "execution_count": 235,
   "metadata": {
    "collapsed": true
   },
   "outputs": [],
   "source": [
    "from sklearn.feature_extraction.text import TfidfVectorizer"
   ]
  },
  {
   "cell_type": "markdown",
   "metadata": {},
   "source": [
    "### Since we are using text to analyze The Simpson's dataset, we can use gensim to find topics from different groups of characters and locations withing episodes."
   ]
  },
  {
   "cell_type": "markdown",
   "metadata": {},
   "source": [
    "### Using Tfidf to convert text strings into an array of words while removing stop words"
   ]
  },
  {
   "cell_type": "code",
   "execution_count": 54,
   "metadata": {
    "collapsed": false
   },
   "outputs": [],
   "source": [
    "cv = TfidfVectorizer(max_features = 600, \n",
    "                             ngram_range=(1, 2),\n",
    "                             min_df = 5,\n",
    "                             #max_df = 0.99,\n",
    "                             stop_words='english')\n",
    "\n",
    "\n",
    "docsf = cv.fit_transform(data[data['gender']=='f']['spoken_words'].dropna())\n",
    "docsm = cv.fit_transform(data[data['gender']=='m']['spoken_words'].dropna())\n",
    "docshomer = cv.fit_transform(data[data['normalized_name']=='homer simpson']['spoken_words'].dropna())\n",
    "docsmarge = cv.fit_transform(data[data['normalized_name']=='marge simpson']['spoken_words'].dropna())\n",
    "docsmain = cv.fit_transform(data[data['char_tier']=='main']['spoken_words'].dropna())\n",
    "docssec = cv.fit_transform(data[data['char_tier']=='secondary']['spoken_words'].dropna())\n",
    "docsloc = cv.fit_transform(data[data['raw_location_text']==\"Moe's Tavern\"]['spoken_words'].dropna())\n",
    "\n",
    "\n",
    "\n",
    "id2word = dict(enumerate(cv.get_feature_names()))"
   ]
  },
  {
   "cell_type": "code",
   "execution_count": 55,
   "metadata": {
    "collapsed": false
   },
   "outputs": [],
   "source": [
    "# converting transofrm text to gensim's supported layout\n",
    "corpusf = Sparse2Corpus(docsf, documents_columns = False)\n",
    "corpusm = Sparse2Corpus(docsm, documents_columns = False)\n",
    "corpushomer = Sparse2Corpus(docshomer, documents_columns = False)\n",
    "corpusmarge = Sparse2Corpus(docsmarge, documents_columns = False)\n",
    "corpusmain = Sparse2Corpus(docsmain, documents_columns = False)\n",
    "corpussec = Sparse2Corpus(docssec, documents_columns = False)\n",
    "corpusloc = Sparse2Corpus(docsloc, documents_columns = False)\n",
    "\n",
    "\n",
    "lda_modelf = LdaModel(corpus=corpusf, id2word=id2word, num_topics=5)\n",
    "lda_modelm = LdaModel(corpus=corpusm, id2word=id2word, num_topics=5)\n",
    "lda_modelhomer = LdaModel(corpus=corpushomer, id2word=id2word, num_topics=5)\n",
    "lda_modelmarge = LdaModel(corpus=corpusmarge, id2word=id2word, num_topics=5)\n",
    "lda_modelmain = LdaModel(corpus=corpusmain, id2word=id2word, num_topics=5)\n",
    "lda_modelsec = LdaModel(corpus=corpussec, id2word=id2word, num_topics=5)\n",
    "lda_modelloc = LdaModel(corpus=corpusloc, id2word=id2word, num_topics=5)"
   ]
  },
  {
   "cell_type": "markdown",
   "metadata": {},
   "source": [
    "# Female Topics"
   ]
  },
  {
   "cell_type": "markdown",
   "metadata": {},
   "source": [
    "#### Although each of the words within each topics are not directly related, there is a clear difference in topics by gender. Female characters tend to reference words like \"heart\" and \"pretty\" while mentioning male characters like Moe, Homer, and Barney. They also tend to use the term \"losers\" although unclear who the term is directed toward. The ability to choose a target in topic modeling can help with that. Males use \"glass,\" likely referring to a drink they'd be receciving at Moe's Tavern. They also mention Homer and use phrases like \"lousy\" and \"yeah yeah.\""
   ]
  },
  {
   "cell_type": "code",
   "execution_count": 177,
   "metadata": {
    "collapsed": false
   },
   "outputs": [
    {
     "name": "stdout",
     "output_type": "stream",
     "text": [
      "Topic: 0\n",
      "(0, u'0.049*\"don\" + 0.034*\"want\" + 0.032*\"getting\" + 0.030*\"girls\" + 0.027*\"hey moe\"')\n",
      "()\n",
      "Topic: 1\n",
      "(1, u'0.070*\"damn\" + 0.033*\"young\" + 0.030*\"long\" + 0.028*\"pretty\" + 0.027*\"matter homer\"')\n",
      "()\n",
      "Topic: 2\n",
      "(2, u'0.051*\"morning\" + 0.037*\"kent\" + 0.032*\"isn\" + 0.029*\"heart\" + 0.029*\"knew\"')\n",
      "()\n",
      "Topic: 3\n",
      "(3, u'0.038*\"news\" + 0.034*\"losers\" + 0.029*\"quick\" + 0.021*\"straight\" + 0.020*\"water\"')\n",
      "()\n",
      "Topic: 4\n",
      "(4, u'0.042*\"barney\" + 0.031*\"let\" + 0.031*\"did\" + 0.029*\"light\" + 0.026*\"laugh\"')\n",
      "()\n"
     ]
    }
   ],
   "source": [
    "num_topics = 5\n",
    "num_words_per_topic = 5\n",
    "\n",
    "for ti, topic in enumerate(lda_modelf.show_topics(num_topics = num_topics, \n",
    "num_words = num_words_per_topic)):\n",
    "    print(\"Topic: %d\" % (ti))\n",
    "    print (topic)\n",
    "    print()"
   ]
  },
  {
   "cell_type": "markdown",
   "metadata": {},
   "source": [
    "# Male Topics"
   ]
  },
  {
   "cell_type": "code",
   "execution_count": 178,
   "metadata": {
    "collapsed": false
   },
   "outputs": [
    {
     "name": "stdout",
     "output_type": "stream",
     "text": [
      "Topic: 0\n",
      "(0, u'0.051*\"round\" + 0.037*\"learned\" + 0.035*\"join\" + 0.033*\"oh right\" + 0.025*\"thank god\"')\n",
      "()\n",
      "Topic: 1\n",
      "(1, u'0.046*\"live\" + 0.042*\"glass\" + 0.030*\"ve got\" + 0.028*\"don wanna\" + 0.022*\"like\"')\n",
      "()\n",
      "Topic: 2\n",
      "(2, u'0.042*\"hey\" + 0.035*\"yeah yeah\" + 0.029*\"didn say\" + 0.028*\"lenny\" + 0.025*\"long\"')\n",
      "()\n",
      "Topic: 3\n",
      "(3, u'0.059*\"numbers\" + 0.051*\"young\" + 0.041*\"uh huh\" + 0.023*\"lousy\" + 0.023*\"barn\"')\n",
      "()\n",
      "Topic: 4\n",
      "(4, u'0.060*\"homer\" + 0.037*\"sorry homer\" + 0.035*\"maggie\" + 0.026*\"make\" + 0.023*\"mr\"')\n",
      "()\n"
     ]
    }
   ],
   "source": [
    "num_topics = 5\n",
    "num_words_per_topic = 5\n",
    "\n",
    "for ti, topic in enumerate(lda_modelm.show_topics(num_topics = num_topics, \n",
    "num_words = num_words_per_topic)):\n",
    "    print(\"Topic: %d\" % (ti))\n",
    "    print (topic)\n",
    "    print()"
   ]
  },
  {
   "cell_type": "markdown",
   "metadata": {},
   "source": [
    "# Homer Topics"
   ]
  },
  {
   "cell_type": "code",
   "execution_count": 75,
   "metadata": {
    "collapsed": false
   },
   "outputs": [
    {
     "name": "stdout",
     "output_type": "stream",
     "text": [
      "Topic: 0\n",
      "(0, u'0.055*\"hey\" + 0.046*\"real\" + 0.033*\"yeah right\" + 0.026*\"left\" + 0.020*\"ve got\" + 0.019*\"problem\" + 0.019*\"feeling\"')\n",
      "()\n",
      "Topic: 1\n",
      "(1, u'0.043*\"letter\" + 0.026*\"woo hoo\" + 0.026*\"homer know\" + 0.024*\"word\" + 0.023*\"turn\" + 0.022*\"saw\" + 0.022*\"thirty\"')\n",
      "()\n",
      "Topic: 2\n",
      "(2, u'0.041*\"machine\" + 0.041*\"oh god\" + 0.030*\"kiddin\" + 0.026*\"young\" + 0.025*\"thank\" + 0.024*\"ma\" + 0.019*\"pants\"')\n",
      "()\n",
      "Topic: 3\n",
      "(3, u'0.041*\"listen\" + 0.031*\"joey\" + 0.024*\"girls\" + 0.024*\"later\" + 0.019*\"loves\" + 0.019*\"sounds like\" + 0.018*\"men\"')\n",
      "()\n",
      "Topic: 4\n",
      "(4, u'0.055*\"need\" + 0.035*\"don wanna\" + 0.032*\"glass\" + 0.025*\"use\" + 0.024*\"walk\" + 0.023*\"gentlemen\" + 0.022*\"bar\"')\n",
      "()\n"
     ]
    }
   ],
   "source": [
    "num_topics = 5\n",
    "num_words_per_topic = 7\n",
    "\n",
    "for ti, topic in enumerate(lda_modelhomer.show_topics(num_topics = num_topics, \n",
    "num_words = num_words_per_topic)):\n",
    "    print(\"Topic: %d\" % (ti))\n",
    "    print (topic)\n",
    "    print()"
   ]
  },
  {
   "cell_type": "markdown",
   "metadata": {},
   "source": [
    "# Marge Topics"
   ]
  },
  {
   "cell_type": "code",
   "execution_count": 76,
   "metadata": {
    "collapsed": false,
    "scrolled": true
   },
   "outputs": [
    {
     "name": "stdout",
     "output_type": "stream",
     "text": [
      "Topic: 0\n",
      "(0, u'0.032*\"funny\" + 0.024*\"christmas\" + 0.024*\"laugh\" + 0.022*\"looks like\" + 0.018*\"oh\" + 0.017*\"gee\" + 0.017*\"date\"')\n",
      "()\n",
      "Topic: 1\n",
      "(1, u'0.055*\"hey homer\" + 0.034*\"kiss\" + 0.023*\"test\" + 0.020*\"hand\" + 0.020*\"moron\" + 0.018*\"moe ve\" + 0.015*\"heart\"')\n",
      "()\n",
      "Topic: 2\n",
      "(2, u'0.041*\"bad\" + 0.031*\"lady\" + 0.031*\"knows\" + 0.028*\"did\" + 0.020*\"sweet\" + 0.019*\"lucky\" + 0.018*\"ma\"')\n",
      "()\n",
      "Topic: 3\n",
      "(3, u'0.045*\"didn say\" + 0.040*\"moron\" + 0.033*\"hurt\" + 0.032*\"lenny\" + 0.029*\"just\" + 0.028*\"ready\" + 0.028*\"numbers\"')\n",
      "()\n",
      "Topic: 4\n",
      "(4, u'0.106*\"heart\" + 0.037*\"dangerous\" + 0.031*\"straight\" + 0.025*\"getting\" + 0.024*\"wait\" + 0.022*\"young\" + 0.022*\"president\"')\n",
      "()\n"
     ]
    }
   ],
   "source": [
    "num_topics = 5\n",
    "num_words_per_topic = 7\n",
    "\n",
    "for ti, topic in enumerate(lda_modelmarge.show_topics(num_topics = num_topics, \n",
    "num_words = num_words_per_topic)):\n",
    "    print(\"Topic: %d\" % (ti))\n",
    "    print (topic)\n",
    "    print()"
   ]
  },
  {
   "cell_type": "markdown",
   "metadata": {},
   "source": [
    "## Main Character Topics"
   ]
  },
  {
   "cell_type": "code",
   "execution_count": 179,
   "metadata": {
    "collapsed": false
   },
   "outputs": [
    {
     "name": "stdout",
     "output_type": "stream",
     "text": [
      "Topic: 0\n",
      "(0, u'0.083*\"mean\" + 0.053*\"hell\" + 0.038*\"glad\" + 0.037*\"real\" + 0.032*\"joe\" + 0.031*\"live\" + 0.029*\"using\"')\n",
      "()\n",
      "Topic: 1\n",
      "(1, u'0.040*\"don tell\" + 0.037*\"year\" + 0.033*\"kid\" + 0.033*\"wanted\" + 0.029*\"learn\" + 0.027*\"like\" + 0.023*\"mad\"')\n",
      "()\n",
      "Topic: 2\n",
      "(2, u'0.030*\"yeah\" + 0.027*\"girl\" + 0.026*\"street\" + 0.025*\"thank\" + 0.024*\"way\" + 0.023*\"ooh\" + 0.023*\"making\"')\n",
      "()\n",
      "Topic: 3\n",
      "(3, u'0.052*\"moron\" + 0.044*\"did\" + 0.033*\"nice\" + 0.024*\"stand\" + 0.023*\"maggie\" + 0.022*\"loser\" + 0.022*\"let\"')\n",
      "()\n",
      "Topic: 4\n",
      "(4, u'0.142*\"damn\" + 0.055*\"barn\" + 0.029*\"thanks moe\" + 0.024*\"young\" + 0.020*\"clown\" + 0.017*\"gimme\" + 0.016*\"thank god\"')\n",
      "()\n"
     ]
    }
   ],
   "source": [
    "num_topics = 5\n",
    "num_words_per_topic = 7\n",
    "\n",
    "for ti, topic in enumerate(lda_modelmain.show_topics(num_topics = num_topics, \n",
    "num_words = num_words_per_topic)):\n",
    "    print(\"Topic: %d\" % (ti))\n",
    "    print (topic)\n",
    "    print()"
   ]
  },
  {
   "cell_type": "markdown",
   "metadata": {},
   "source": [
    "## Secondary Character Topics"
   ]
  },
  {
   "cell_type": "code",
   "execution_count": 180,
   "metadata": {
    "collapsed": false
   },
   "outputs": [
    {
     "name": "stdout",
     "output_type": "stream",
     "text": [
      "Topic: 0\n",
      "(0, u'0.043*\"nice\" + 0.025*\"tv\" + 0.024*\"learn\" + 0.020*\"day\" + 0.020*\"sir\" + 0.017*\"oh don\" + 0.016*\"getting\"')\n",
      "()\n",
      "Topic: 1\n",
      "(1, u'0.038*\"jerks\" + 0.030*\"sorry homer\" + 0.025*\"late\" + 0.024*\"letter\" + 0.019*\"minutes\" + 0.018*\"nice\" + 0.016*\"ho\"')\n",
      "()\n",
      "Topic: 2\n",
      "(2, u'0.038*\"going\" + 0.027*\"using\" + 0.025*\"homer know\" + 0.020*\"blame\" + 0.020*\"problem\" + 0.018*\"black\" + 0.018*\"love\"')\n",
      "()\n",
      "Topic: 3\n",
      "(3, u'0.075*\"homer know\" + 0.029*\"read\" + 0.029*\"yeah\" + 0.027*\"goes\" + 0.027*\"city\" + 0.027*\"years\" + 0.023*\"look\"')\n",
      "()\n",
      "Topic: 4\n",
      "(4, u'0.032*\"like\" + 0.029*\"doin\" + 0.023*\"god\" + 0.022*\"tab\" + 0.022*\"help\" + 0.022*\"kiddin\" + 0.020*\"ya\"')\n",
      "()\n"
     ]
    }
   ],
   "source": [
    "num_topics = 7\n",
    "num_words_per_topic = 7\n",
    "\n",
    "for ti, topic in enumerate(lda_modelsec.show_topics(num_topics = num_topics, \n",
    "num_words = num_words_per_topic)):\n",
    "    print(\"Topic: %d\" % (ti))\n",
    "    print (topic)\n",
    "    print()"
   ]
  },
  {
   "cell_type": "markdown",
   "metadata": {},
   "source": [
    "## Moe's Tavern Topics"
   ]
  },
  {
   "cell_type": "code",
   "execution_count": 181,
   "metadata": {
    "collapsed": false
   },
   "outputs": [
    {
     "name": "stdout",
     "output_type": "stream",
     "text": [
      "Topic: 0\n",
      "(0, u'0.031*\"homer\" + 0.021*\"right\" + 0.019*\"like\" + 0.017*\"don\" + 0.017*\"look\" + 0.016*\"got\" + 0.015*\"ah\"')\n",
      "()\n",
      "Topic: 1\n",
      "(1, u'0.030*\"okay\" + 0.020*\"want\" + 0.019*\"love\" + 0.018*\"little\" + 0.015*\"whoa\" + 0.014*\"wow\" + 0.013*\"got\"')\n",
      "()\n",
      "Topic: 2\n",
      "(2, u'0.047*\"hey\" + 0.023*\"beer\" + 0.021*\"sorry\" + 0.020*\"just\" + 0.019*\"homer\" + 0.014*\"eh\" + 0.014*\"really\"')\n",
      "()\n",
      "Topic: 3\n",
      "(3, u'0.045*\"yeah\" + 0.038*\"oh\" + 0.034*\"moe\" + 0.024*\"ve\" + 0.020*\"know\" + 0.013*\"shut\" + 0.013*\"ll\"')\n",
      "()\n",
      "Topic: 4\n",
      "(4, u'0.039*\"uh\" + 0.025*\"ll\" + 0.018*\"huh\" + 0.017*\"just\" + 0.016*\"come\" + 0.013*\"like\" + 0.012*\"going\"')\n",
      "()\n"
     ]
    }
   ],
   "source": [
    "num_topics = 5\n",
    "num_words_per_topic = 7\n",
    "\n",
    "for ti, topic in enumerate(lda_modelloc.show_topics(num_topics = num_topics, \n",
    "num_words = num_words_per_topic)):\n",
    "    print(\"Topic: %d\" % (ti))\n",
    "    print (topic)\n",
    "    print()"
   ]
  },
  {
   "cell_type": "markdown",
   "metadata": {},
   "source": [
    "# Sentiment Analysis"
   ]
  },
  {
   "cell_type": "markdown",
   "metadata": {},
   "source": [
    "### Using sentiment analysis, we can take a closer look into the text of the characters' lines and who is most positive, who is most negative, where characters tend to be positive, and how these factors contribute to success"
   ]
  },
  {
   "cell_type": "code",
   "execution_count": 211,
   "metadata": {
    "collapsed": true
   },
   "outputs": [],
   "source": [
    "def extract_features(document):\n",
    "    document_words = set(document)\n",
    "    features = {}\n",
    "    for word in word_features:\n",
    "        features['contains(%s)' % word] = (word in document_words)\n",
    "        return features\n"
   ]
  },
  {
   "cell_type": "code",
   "execution_count": 212,
   "metadata": {
    "collapsed": false
   },
   "outputs": [
    {
     "ename": "TypeError",
     "evalue": "'TfidfVectorizer' object does not support indexing",
     "output_type": "error",
     "traceback": [
      "\u001b[0;31m---------------------------------------------------------------------------\u001b[0m",
      "\u001b[0;31mTypeError\u001b[0m                                 Traceback (most recent call last)",
      "\u001b[0;32m<ipython-input-212-17e5fda84611>\u001b[0m in \u001b[0;36m<module>\u001b[0;34m()\u001b[0m\n\u001b[0;32m----> 1\u001b[0;31m \u001b[0mtraining_set\u001b[0m \u001b[1;33m=\u001b[0m \u001b[0mnltk\u001b[0m\u001b[1;33m.\u001b[0m\u001b[0mclassify\u001b[0m\u001b[1;33m.\u001b[0m\u001b[0mapply_features\u001b[0m\u001b[1;33m(\u001b[0m\u001b[0mextract_features\u001b[0m\u001b[1;33m,\u001b[0m \u001b[0mcv\u001b[0m\u001b[1;33m)\u001b[0m\u001b[1;33m\u001b[0m\u001b[0m\n\u001b[0m",
      "\u001b[0;32mC:\\Users\\janel\\Anaconda2\\lib\\site-packages\\nltk\\classify\\util.py\u001b[0m in \u001b[0;36mapply_features\u001b[0;34m(feature_func, toks, labeled)\u001b[0m\n\u001b[1;32m     60\u001b[0m     \"\"\"\n\u001b[1;32m     61\u001b[0m     \u001b[1;32mif\u001b[0m \u001b[0mlabeled\u001b[0m \u001b[1;32mis\u001b[0m \u001b[0mNone\u001b[0m\u001b[1;33m:\u001b[0m\u001b[1;33m\u001b[0m\u001b[0m\n\u001b[0;32m---> 62\u001b[0;31m         \u001b[0mlabeled\u001b[0m \u001b[1;33m=\u001b[0m \u001b[0mtoks\u001b[0m \u001b[1;32mand\u001b[0m \u001b[0misinstance\u001b[0m\u001b[1;33m(\u001b[0m\u001b[0mtoks\u001b[0m\u001b[1;33m[\u001b[0m\u001b[1;36m0\u001b[0m\u001b[1;33m]\u001b[0m\u001b[1;33m,\u001b[0m \u001b[1;33m(\u001b[0m\u001b[0mtuple\u001b[0m\u001b[1;33m,\u001b[0m \u001b[0mlist\u001b[0m\u001b[1;33m)\u001b[0m\u001b[1;33m)\u001b[0m\u001b[1;33m\u001b[0m\u001b[0m\n\u001b[0m\u001b[1;32m     63\u001b[0m     \u001b[1;32mif\u001b[0m \u001b[0mlabeled\u001b[0m\u001b[1;33m:\u001b[0m\u001b[1;33m\u001b[0m\u001b[0m\n\u001b[1;32m     64\u001b[0m         \u001b[1;32mdef\u001b[0m \u001b[0mlazy_func\u001b[0m\u001b[1;33m(\u001b[0m\u001b[0mlabeled_token\u001b[0m\u001b[1;33m)\u001b[0m\u001b[1;33m:\u001b[0m\u001b[1;33m\u001b[0m\u001b[0m\n",
      "\u001b[0;31mTypeError\u001b[0m: 'TfidfVectorizer' object does not support indexing"
     ]
    }
   ],
   "source": [
    "training_set = nltk.classify.apply_features(extract_features, cv)"
   ]
  },
  {
   "cell_type": "markdown",
   "metadata": {
    "collapsed": true
   },
   "source": [
    "# <span style=\"color:blue\"> K-Means Clustering </span>"
   ]
  },
  {
   "cell_type": "markdown",
   "metadata": {},
   "source": [
    "### Finally, to find groups of episodes that are similar, we can use clustering. Clustering can be used on the quantitative data such as word count, viewers, season number (Which indicates older v newer episodes), and the amount of lines."
   ]
  },
  {
   "cell_type": "code",
   "execution_count": 145,
   "metadata": {
    "collapsed": false
   },
   "outputs": [],
   "source": [
    "scale = StandardScaler()"
   ]
  },
  {
   "cell_type": "code",
   "execution_count": 146,
   "metadata": {
    "collapsed": false
   },
   "outputs": [],
   "source": [
    "datanum = data[['id_x','us_viewers_in_millions','season','word_count']].fillna(0)"
   ]
  },
  {
   "cell_type": "code",
   "execution_count": 147,
   "metadata": {
    "collapsed": false
   },
   "outputs": [],
   "source": [
    "X_scale = scale.fit_transform(datanum)"
   ]
  },
  {
   "cell_type": "code",
   "execution_count": 169,
   "metadata": {
    "collapsed": false,
    "scrolled": true
   },
   "outputs": [
    {
     "name": "stdout",
     "output_type": "stream",
     "text": [
      "Wall time: 520 ms\n"
     ]
    }
   ],
   "source": [
    "%%time\n",
    "km = KMeans(n_clusters=3, n_init=5)\n",
    "km.fit(X_scale)"
   ]
  },
  {
   "cell_type": "markdown",
   "metadata": {},
   "source": [
    "### Inertia tells us how good our groups are by summing the distances of each data point to the cluster center."
   ]
  },
  {
   "cell_type": "code",
   "execution_count": 170,
   "metadata": {
    "collapsed": false
   },
   "outputs": [
    {
     "name": "stdout",
     "output_type": "stream",
     "text": [
      "174962.896175\n"
     ]
    }
   ],
   "source": [
    "print km.inertia_"
   ]
  },
  {
   "cell_type": "code",
   "execution_count": 171,
   "metadata": {
    "collapsed": false
   },
   "outputs": [
    {
     "data": {
      "text/plain": [
       "array([0, 0, 0, ..., 0, 0, 0])"
      ]
     },
     "execution_count": 171,
     "metadata": {},
     "output_type": "execute_result"
    }
   ],
   "source": [
    "cluster_labels"
   ]
  },
  {
   "cell_type": "markdown",
   "metadata": {},
   "source": [
    "### K-Means identifies the kinds of clusters in our data. \n",
    "### Cluster 0: Many lines spoken, fewer viewers, newer episodes, and a few words spoken per line\n",
    "### Cluster 1: Few lines spoken, 16 million viewers, older episodes, and a few words spoke per line\n",
    "### Cluster 2: Few lines spoken, large amount of viewers, older episodes, and significantly more words spoken per line"
   ]
  },
  {
   "cell_type": "code",
   "execution_count": 172,
   "metadata": {
    "collapsed": false,
    "scrolled": true
   },
   "outputs": [
    {
     "data": {
      "text/html": [
       "<div>\n",
       "<table border=\"1\" class=\"dataframe\">\n",
       "  <thead>\n",
       "    <tr style=\"text-align: right;\">\n",
       "      <th></th>\n",
       "      <th>0</th>\n",
       "      <th>1</th>\n",
       "      <th>2</th>\n",
       "    </tr>\n",
       "  </thead>\n",
       "  <tbody>\n",
       "    <tr>\n",
       "      <th>id_x</th>\n",
       "      <td>438.347322</td>\n",
       "      <td>156.754859</td>\n",
       "      <td>191.5000</td>\n",
       "    </tr>\n",
       "    <tr>\n",
       "      <th>us_viewers_in_millions</th>\n",
       "      <td>7.638823</td>\n",
       "      <td>15.974607</td>\n",
       "      <td>17.2675</td>\n",
       "    </tr>\n",
       "    <tr>\n",
       "      <th>season</th>\n",
       "      <td>20.268341</td>\n",
       "      <td>7.649063</td>\n",
       "      <td>9.0000</td>\n",
       "    </tr>\n",
       "    <tr>\n",
       "      <th>word_count</th>\n",
       "      <td>18.130762</td>\n",
       "      <td>12.411854</td>\n",
       "      <td>885500.0000</td>\n",
       "    </tr>\n",
       "  </tbody>\n",
       "</table>\n",
       "</div>"
      ],
      "text/plain": [
       "                                 0           1            2\n",
       "id_x                    438.347322  156.754859     191.5000\n",
       "us_viewers_in_millions    7.638823   15.974607      17.2675\n",
       "season                   20.268341    7.649063       9.0000\n",
       "word_count               18.130762   12.411854  885500.0000"
      ]
     },
     "execution_count": 172,
     "metadata": {},
     "output_type": "execute_result"
    }
   ],
   "source": [
    "columns = {str(x): scale.inverse_transform(km.cluster_centers_[x]) for x in range(0,len(km.cluster_centers_))}\n",
    "pd.DataFrame(columns, index=datanum.columns)"
   ]
  },
  {
   "cell_type": "markdown",
   "metadata": {},
   "source": [
    "### The plot below displays how inertia changes as we increase k. When looking for the \"elbow,\" the best k seems to be 3."
   ]
  },
  {
   "cell_type": "code",
   "execution_count": 127,
   "metadata": {
    "collapsed": false,
    "scrolled": true
   },
   "outputs": [
    {
     "data": {
      "text/plain": [
       "[<matplotlib.lines.Line2D at 0x188a3f98>]"
      ]
     },
     "execution_count": 127,
     "metadata": {},
     "output_type": "execute_result"
    },
    {
     "data": {
      "image/png": "[encoded data removed]",
      "text/plain": [
       "<matplotlib.figure.Figure at 0x1bcfd978>"
      ]
     },
     "metadata": {},
     "output_type": "display_data"
    }
   ],
   "source": [
    "import matplotlib.pyplot as plt\n",
    "%matplotlib inline\n",
    "\n",
    "x = []\n",
    "y = []\n",
    "for n in range(2,11):\n",
    "    km2 = KMeans(n_clusters=n, random_state=0)\n",
    "    km2.fit(X_scale)\n",
    "    x.append(n)\n",
    "    y.append(km2.inertia_)\n",
    "plt.scatter(x, y)\n",
    "plt.plot(x,y)"
   ]
  },
  {
   "cell_type": "markdown",
   "metadata": {},
   "source": [
    "### In the future, I'd like to create more features that may be meaningful, like the number of characters per episode, the number of locations present within the episode, the average amount of viewers per month (to account for special holiday episodes), and episodes that involve topics listed above. In addition, I'd like to complete sentiment analysis for each of the lines, transform this into a binary variable to use when clustering. This way we can find information such as: \"Successful episodes often involve an angry conversational Homer Simpson at Moe's Tavern\""
   ]
  },
  {
   "cell_type": "code",
   "execution_count": null,
   "metadata": {
    "collapsed": true
   },
   "outputs": [],
   "source": []
  }
 ],
 "metadata": {
  "anaconda-cloud": {},
  "kernelspec": {
   "display_name": "Python [conda root]",
   "language": "python",
   "name": "conda-root-py"
  },
  "language_info": {
   "codemirror_mode": {
    "name": "ipython",
    "version": 2
   },
   "file_extension": ".py",
   "mimetype": "text/x-python",
   "name": "python",
   "nbconvert_exporter": "python",
   "pygments_lexer": "ipython2",
   "version": "2.7.12"
  }
 },
 "nbformat": 4,
 "nbformat_minor": 1
}
