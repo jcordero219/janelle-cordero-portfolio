{
 "cells": [
  {
   "cell_type": "code",
   "execution_count": 1,
   "metadata": {
    "collapsed": false
   },
   "outputs": [],
   "source": [
    "import pandas as pd\n",
    "import numpy as np\n",
    "import matplotlib.pyplot as plt\n",
    "%matplotlib inline"
   ]
  },
  {
   "cell_type": "code",
   "execution_count": 36,
   "metadata": {
    "collapsed": false,
    "scrolled": true
   },
   "outputs": [],
   "source": [
    "eps = pd.read_csv('simpsons_episodes.csv')\n",
    "lines = pd.read_csv('simpsons_script_lines.csv')\n",
    "chars = pd.read_csv('simpsons_characters.csv')\n",
    "locs = pd.read_csv('simpsons_locations.csv')"
   ]
  },
  {
   "cell_type": "code",
   "execution_count": 37,
   "metadata": {
    "collapsed": false,
    "scrolled": true
   },
   "outputs": [
    {
     "data": {
      "text/html": [
       "<div>\n",
       "<table border=\"1\" class=\"dataframe\">\n",
       "  <thead>\n",
       "    <tr style=\"text-align: right;\">\n",
       "      <th></th>\n",
       "      <th>id</th>\n",
       "      <th>title</th>\n",
       "      <th>original_air_date</th>\n",
       "      <th>production_code</th>\n",
       "      <th>season</th>\n",
       "      <th>number_in_season</th>\n",
       "      <th>number_in_series</th>\n",
       "      <th>us_viewers_in_millions</th>\n",
       "      <th>views</th>\n",
       "      <th>imdb_rating</th>\n",
       "      <th>imdb_votes</th>\n",
       "      <th>image_url</th>\n",
       "      <th>video_url</th>\n",
       "    </tr>\n",
       "  </thead>\n",
       "  <tbody>\n",
       "    <tr>\n",
       "      <th>0</th>\n",
       "      <td>10</td>\n",
       "      <td>Homer's Night Out</td>\n",
       "      <td>1990-03-25</td>\n",
       "      <td>7G10</td>\n",
       "      <td>1</td>\n",
       "      <td>10</td>\n",
       "      <td>10</td>\n",
       "      <td>30.3</td>\n",
       "      <td>50816.0</td>\n",
       "      <td>7.4</td>\n",
       "      <td>1511.0</td>\n",
       "      <td>http://static-media.fxx.com/img/FX_Networks_-_...</td>\n",
       "      <td>http://www.simpsonsworld.com/video/275197507879</td>\n",
       "    </tr>\n",
       "    <tr>\n",
       "      <th>1</th>\n",
       "      <td>12</td>\n",
       "      <td>Krusty Gets Busted</td>\n",
       "      <td>1990-04-29</td>\n",
       "      <td>7G12</td>\n",
       "      <td>1</td>\n",
       "      <td>12</td>\n",
       "      <td>12</td>\n",
       "      <td>30.4</td>\n",
       "      <td>62561.0</td>\n",
       "      <td>8.3</td>\n",
       "      <td>1716.0</td>\n",
       "      <td>http://static-media.fxx.com/img/FX_Networks_-_...</td>\n",
       "      <td>http://www.simpsonsworld.com/video/288019523914</td>\n",
       "    </tr>\n",
       "    <tr>\n",
       "      <th>2</th>\n",
       "      <td>14</td>\n",
       "      <td>Bart Gets an \"F\"</td>\n",
       "      <td>1990-10-11</td>\n",
       "      <td>7F03</td>\n",
       "      <td>2</td>\n",
       "      <td>1</td>\n",
       "      <td>14</td>\n",
       "      <td>33.6</td>\n",
       "      <td>59575.0</td>\n",
       "      <td>8.2</td>\n",
       "      <td>1638.0</td>\n",
       "      <td>http://static-media.fxx.com/img/FX_Networks_-_...</td>\n",
       "      <td>http://www.simpsonsworld.com/video/260539459671</td>\n",
       "    </tr>\n",
       "    <tr>\n",
       "      <th>3</th>\n",
       "      <td>17</td>\n",
       "      <td>Two Cars in Every Garage and Three Eyes on Eve...</td>\n",
       "      <td>1990-11-01</td>\n",
       "      <td>7F01</td>\n",
       "      <td>2</td>\n",
       "      <td>4</td>\n",
       "      <td>17</td>\n",
       "      <td>26.1</td>\n",
       "      <td>64959.0</td>\n",
       "      <td>8.1</td>\n",
       "      <td>1457.0</td>\n",
       "      <td>http://static-media.fxx.com/img/FX_Networks_-_...</td>\n",
       "      <td>http://www.simpsonsworld.com/video/260537411822</td>\n",
       "    </tr>\n",
       "    <tr>\n",
       "      <th>4</th>\n",
       "      <td>19</td>\n",
       "      <td>Dead Putting Society</td>\n",
       "      <td>1990-11-15</td>\n",
       "      <td>7F08</td>\n",
       "      <td>2</td>\n",
       "      <td>6</td>\n",
       "      <td>19</td>\n",
       "      <td>25.4</td>\n",
       "      <td>50691.0</td>\n",
       "      <td>8.0</td>\n",
       "      <td>1366.0</td>\n",
       "      <td>http://static-media.fxx.com/img/FX_Networks_-_...</td>\n",
       "      <td>http://www.simpsonsworld.com/video/260539459670</td>\n",
       "    </tr>\n",
       "  </tbody>\n",
       "</table>\n",
       "</div>"
      ],
      "text/plain": [
       "   id                                              title original_air_date  \\\n",
       "0  10                                  Homer's Night Out        1990-03-25   \n",
       "1  12                                 Krusty Gets Busted        1990-04-29   \n",
       "2  14                                   Bart Gets an \"F\"        1990-10-11   \n",
       "3  17  Two Cars in Every Garage and Three Eyes on Eve...        1990-11-01   \n",
       "4  19                               Dead Putting Society        1990-11-15   \n",
       "\n",
       "  production_code  season  number_in_season  number_in_series  \\\n",
       "0            7G10       1                10                10   \n",
       "1            7G12       1                12                12   \n",
       "2            7F03       2                 1                14   \n",
       "3            7F01       2                 4                17   \n",
       "4            7F08       2                 6                19   \n",
       "\n",
       "   us_viewers_in_millions    views  imdb_rating  imdb_votes  \\\n",
       "0                    30.3  50816.0          7.4      1511.0   \n",
       "1                    30.4  62561.0          8.3      1716.0   \n",
       "2                    33.6  59575.0          8.2      1638.0   \n",
       "3                    26.1  64959.0          8.1      1457.0   \n",
       "4                    25.4  50691.0          8.0      1366.0   \n",
       "\n",
       "                                           image_url  \\\n",
       "0  http://static-media.fxx.com/img/FX_Networks_-_...   \n",
       "1  http://static-media.fxx.com/img/FX_Networks_-_...   \n",
       "2  http://static-media.fxx.com/img/FX_Networks_-_...   \n",
       "3  http://static-media.fxx.com/img/FX_Networks_-_...   \n",
       "4  http://static-media.fxx.com/img/FX_Networks_-_...   \n",
       "\n",
       "                                         video_url  \n",
       "0  http://www.simpsonsworld.com/video/275197507879  \n",
       "1  http://www.simpsonsworld.com/video/288019523914  \n",
       "2  http://www.simpsonsworld.com/video/260539459671  \n",
       "3  http://www.simpsonsworld.com/video/260537411822  \n",
       "4  http://www.simpsonsworld.com/video/260539459670  "
      ]
     },
     "execution_count": 37,
     "metadata": {},
     "output_type": "execute_result"
    }
   ],
   "source": [
    "eps.head(5)"
   ]
  },
  {
   "cell_type": "code",
   "execution_count": 47,
   "metadata": {
    "collapsed": false,
    "scrolled": true
   },
   "outputs": [
    {
     "data": {
      "text/html": [
       "<div>\n",
       "<table border=\"1\" class=\"dataframe\">\n",
       "  <thead>\n",
       "    <tr style=\"text-align: right;\">\n",
       "      <th></th>\n",
       "      <th>id</th>\n",
       "      <th>episode_id</th>\n",
       "      <th>number</th>\n",
       "      <th>raw_text</th>\n",
       "      <th>timestamp_in_ms</th>\n",
       "      <th>speaking_line</th>\n",
       "      <th>character_id</th>\n",
       "      <th>location_id</th>\n",
       "      <th>raw_character_text</th>\n",
       "      <th>raw_location_text</th>\n",
       "      <th>spoken_words</th>\n",
       "      <th>normalized_text</th>\n",
       "      <th>word_count</th>\n",
       "      <th>name_x</th>\n",
       "      <th>normalized_name_x</th>\n",
       "      <th>gender</th>\n",
       "      <th>name_y</th>\n",
       "      <th>normalized_name_y</th>\n",
       "    </tr>\n",
       "  </thead>\n",
       "  <tbody>\n",
       "    <tr>\n",
       "      <th>0</th>\n",
       "      <td>9549</td>\n",
       "      <td>32</td>\n",
       "      <td>209</td>\n",
       "      <td>Miss Hoover: No, actually, it was a little of ...</td>\n",
       "      <td>848000</td>\n",
       "      <td>True</td>\n",
       "      <td>464</td>\n",
       "      <td>3.0</td>\n",
       "      <td>Miss Hoover</td>\n",
       "      <td>Springfield Elementary School</td>\n",
       "      <td>No, actually, it was a little of both. Sometim...</td>\n",
       "      <td>no actually it was a little of both sometimes ...</td>\n",
       "      <td>31.0</td>\n",
       "      <td>Miss Hoover</td>\n",
       "      <td>miss hoover</td>\n",
       "      <td>f</td>\n",
       "      <td>Springfield Elementary School</td>\n",
       "      <td>springfield elementary school</td>\n",
       "    </tr>\n",
       "    <tr>\n",
       "      <th>1</th>\n",
       "      <td>9551</td>\n",
       "      <td>32</td>\n",
       "      <td>211</td>\n",
       "      <td>Miss Hoover: I don't know. Although I'd sure l...</td>\n",
       "      <td>856000</td>\n",
       "      <td>True</td>\n",
       "      <td>464</td>\n",
       "      <td>3.0</td>\n",
       "      <td>Miss Hoover</td>\n",
       "      <td>Springfield Elementary School</td>\n",
       "      <td>I don't know. Although I'd sure like to talk t...</td>\n",
       "      <td>i dont know although id sure like to talk to h...</td>\n",
       "      <td>22.0</td>\n",
       "      <td>Miss Hoover</td>\n",
       "      <td>miss hoover</td>\n",
       "      <td>f</td>\n",
       "      <td>Springfield Elementary School</td>\n",
       "      <td>springfield elementary school</td>\n",
       "    </tr>\n",
       "    <tr>\n",
       "      <th>2</th>\n",
       "      <td>14828</td>\n",
       "      <td>49</td>\n",
       "      <td>215</td>\n",
       "      <td>Miss Hoover: Thank you, Ralph. Very graphic. L...</td>\n",
       "      <td>784000</td>\n",
       "      <td>True</td>\n",
       "      <td>464</td>\n",
       "      <td>3.0</td>\n",
       "      <td>Miss Hoover</td>\n",
       "      <td>Springfield Elementary School</td>\n",
       "      <td>Thank you, Ralph. Very graphic. Lisa Simpson? ...</td>\n",
       "      <td>thank you ralph very graphic lisa simpson woul...</td>\n",
       "      <td>14.0</td>\n",
       "      <td>Miss Hoover</td>\n",
       "      <td>miss hoover</td>\n",
       "      <td>f</td>\n",
       "      <td>Springfield Elementary School</td>\n",
       "      <td>springfield elementary school</td>\n",
       "    </tr>\n",
       "    <tr>\n",
       "      <th>3</th>\n",
       "      <td>14830</td>\n",
       "      <td>49</td>\n",
       "      <td>217</td>\n",
       "      <td>Miss Hoover: Dear God!</td>\n",
       "      <td>803000</td>\n",
       "      <td>True</td>\n",
       "      <td>464</td>\n",
       "      <td>3.0</td>\n",
       "      <td>Miss Hoover</td>\n",
       "      <td>Springfield Elementary School</td>\n",
       "      <td>Dear God!</td>\n",
       "      <td>dear god</td>\n",
       "      <td>2.0</td>\n",
       "      <td>Miss Hoover</td>\n",
       "      <td>miss hoover</td>\n",
       "      <td>f</td>\n",
       "      <td>Springfield Elementary School</td>\n",
       "      <td>springfield elementary school</td>\n",
       "    </tr>\n",
       "    <tr>\n",
       "      <th>4</th>\n",
       "      <td>15284</td>\n",
       "      <td>51</td>\n",
       "      <td>35</td>\n",
       "      <td>Miss Hoover: I question the educational value ...</td>\n",
       "      <td>226000</td>\n",
       "      <td>True</td>\n",
       "      <td>464</td>\n",
       "      <td>3.0</td>\n",
       "      <td>Miss Hoover</td>\n",
       "      <td>Springfield Elementary School</td>\n",
       "      <td>I question the educational value of this assem...</td>\n",
       "      <td>i question the educational value of this assembly</td>\n",
       "      <td>8.0</td>\n",
       "      <td>Miss Hoover</td>\n",
       "      <td>miss hoover</td>\n",
       "      <td>f</td>\n",
       "      <td>Springfield Elementary School</td>\n",
       "      <td>springfield elementary school</td>\n",
       "    </tr>\n",
       "  </tbody>\n",
       "</table>\n",
       "</div>"
      ],
      "text/plain": [
       "      id  episode_id  number  \\\n",
       "0   9549          32     209   \n",
       "1   9551          32     211   \n",
       "2  14828          49     215   \n",
       "3  14830          49     217   \n",
       "4  15284          51      35   \n",
       "\n",
       "                                            raw_text timestamp_in_ms  \\\n",
       "0  Miss Hoover: No, actually, it was a little of ...          848000   \n",
       "1  Miss Hoover: I don't know. Although I'd sure l...          856000   \n",
       "2  Miss Hoover: Thank you, Ralph. Very graphic. L...          784000   \n",
       "3                             Miss Hoover: Dear God!          803000   \n",
       "4  Miss Hoover: I question the educational value ...          226000   \n",
       "\n",
       "  speaking_line character_id  location_id raw_character_text  \\\n",
       "0          True          464          3.0        Miss Hoover   \n",
       "1          True          464          3.0        Miss Hoover   \n",
       "2          True          464          3.0        Miss Hoover   \n",
       "3          True          464          3.0        Miss Hoover   \n",
       "4          True          464          3.0        Miss Hoover   \n",
       "\n",
       "               raw_location_text  \\\n",
       "0  Springfield Elementary School   \n",
       "1  Springfield Elementary School   \n",
       "2  Springfield Elementary School   \n",
       "3  Springfield Elementary School   \n",
       "4  Springfield Elementary School   \n",
       "\n",
       "                                        spoken_words  \\\n",
       "0  No, actually, it was a little of both. Sometim...   \n",
       "1  I don't know. Although I'd sure like to talk t...   \n",
       "2  Thank you, Ralph. Very graphic. Lisa Simpson? ...   \n",
       "3                                          Dear God!   \n",
       "4  I question the educational value of this assem...   \n",
       "\n",
       "                                     normalized_text  word_count       name_x  \\\n",
       "0  no actually it was a little of both sometimes ...        31.0  Miss Hoover   \n",
       "1  i dont know although id sure like to talk to h...        22.0  Miss Hoover   \n",
       "2  thank you ralph very graphic lisa simpson woul...        14.0  Miss Hoover   \n",
       "3                                           dear god         2.0  Miss Hoover   \n",
       "4  i question the educational value of this assembly         8.0  Miss Hoover   \n",
       "\n",
       "  normalized_name_x gender                         name_y  \\\n",
       "0       miss hoover      f  Springfield Elementary School   \n",
       "1       miss hoover      f  Springfield Elementary School   \n",
       "2       miss hoover      f  Springfield Elementary School   \n",
       "3       miss hoover      f  Springfield Elementary School   \n",
       "4       miss hoover      f  Springfield Elementary School   \n",
       "\n",
       "               normalized_name_y  \n",
       "0  springfield elementary school  \n",
       "1  springfield elementary school  \n",
       "2  springfield elementary school  \n",
       "3  springfield elementary school  \n",
       "4  springfield elementary school  "
      ]
     },
     "execution_count": 47,
     "metadata": {},
     "output_type": "execute_result"
    }
   ],
   "source": [
    "lines.head(5)"
   ]
  },
  {
   "cell_type": "code",
   "execution_count": 39,
   "metadata": {
    "collapsed": false,
    "scrolled": true
   },
   "outputs": [
    {
     "data": {
      "text/html": [
       "<div>\n",
       "<table border=\"1\" class=\"dataframe\">\n",
       "  <thead>\n",
       "    <tr style=\"text-align: right;\">\n",
       "      <th></th>\n",
       "      <th>id</th>\n",
       "      <th>name</th>\n",
       "      <th>normalized_name</th>\n",
       "      <th>gender</th>\n",
       "    </tr>\n",
       "  </thead>\n",
       "  <tbody>\n",
       "    <tr>\n",
       "      <th>0</th>\n",
       "      <td>7</td>\n",
       "      <td>Children</td>\n",
       "      <td>children</td>\n",
       "      <td>NaN</td>\n",
       "    </tr>\n",
       "    <tr>\n",
       "      <th>1</th>\n",
       "      <td>12</td>\n",
       "      <td>Mechanical Santa</td>\n",
       "      <td>mechanical santa</td>\n",
       "      <td>NaN</td>\n",
       "    </tr>\n",
       "    <tr>\n",
       "      <th>2</th>\n",
       "      <td>13</td>\n",
       "      <td>Tattoo Man</td>\n",
       "      <td>tattoo man</td>\n",
       "      <td>NaN</td>\n",
       "    </tr>\n",
       "    <tr>\n",
       "      <th>3</th>\n",
       "      <td>16</td>\n",
       "      <td>DOCTOR ZITSOFSKY</td>\n",
       "      <td>doctor zitsofsky</td>\n",
       "      <td>NaN</td>\n",
       "    </tr>\n",
       "    <tr>\n",
       "      <th>4</th>\n",
       "      <td>20</td>\n",
       "      <td>Students</td>\n",
       "      <td>students</td>\n",
       "      <td>NaN</td>\n",
       "    </tr>\n",
       "  </tbody>\n",
       "</table>\n",
       "</div>"
      ],
      "text/plain": [
       "   id              name   normalized_name gender\n",
       "0   7          Children          children    NaN\n",
       "1  12  Mechanical Santa  mechanical santa    NaN\n",
       "2  13        Tattoo Man        tattoo man    NaN\n",
       "3  16  DOCTOR ZITSOFSKY  doctor zitsofsky    NaN\n",
       "4  20          Students          students    NaN"
      ]
     },
     "execution_count": 39,
     "metadata": {},
     "output_type": "execute_result"
    }
   ],
   "source": [
    "chars.head(5)"
   ]
  },
  {
   "cell_type": "code",
   "execution_count": 40,
   "metadata": {
    "collapsed": false,
    "scrolled": false
   },
   "outputs": [
    {
     "data": {
      "text/html": [
       "<div>\n",
       "<table border=\"1\" class=\"dataframe\">\n",
       "  <thead>\n",
       "    <tr style=\"text-align: right;\">\n",
       "      <th></th>\n",
       "      <th>id</th>\n",
       "      <th>name</th>\n",
       "      <th>normalized_name</th>\n",
       "    </tr>\n",
       "  </thead>\n",
       "  <tbody>\n",
       "    <tr>\n",
       "      <th>0</th>\n",
       "      <td>1</td>\n",
       "      <td>Street</td>\n",
       "      <td>street</td>\n",
       "    </tr>\n",
       "    <tr>\n",
       "      <th>1</th>\n",
       "      <td>2</td>\n",
       "      <td>Car</td>\n",
       "      <td>car</td>\n",
       "    </tr>\n",
       "    <tr>\n",
       "      <th>2</th>\n",
       "      <td>3</td>\n",
       "      <td>Springfield Elementary School</td>\n",
       "      <td>springfield elementary school</td>\n",
       "    </tr>\n",
       "    <tr>\n",
       "      <th>3</th>\n",
       "      <td>4</td>\n",
       "      <td>Auditorium</td>\n",
       "      <td>auditorium</td>\n",
       "    </tr>\n",
       "    <tr>\n",
       "      <th>4</th>\n",
       "      <td>5</td>\n",
       "      <td>Simpson Home</td>\n",
       "      <td>simpson home</td>\n",
       "    </tr>\n",
       "  </tbody>\n",
       "</table>\n",
       "</div>"
      ],
      "text/plain": [
       "   id                           name                normalized_name\n",
       "0   1                         Street                         street\n",
       "1   2                            Car                            car\n",
       "2   3  Springfield Elementary School  springfield elementary school\n",
       "3   4                     Auditorium                     auditorium\n",
       "4   5                   Simpson Home                   simpson home"
      ]
     },
     "execution_count": 40,
     "metadata": {},
     "output_type": "execute_result"
    }
   ],
   "source": [
    "locs.head(5)"
   ]
  },
  {
   "cell_type": "code",
   "execution_count": 41,
   "metadata": {
    "collapsed": false
   },
   "outputs": [],
   "source": [
    "chars=chars.rename(columns = {'id':'character_id'})\n",
    "locs=locs.rename(columns = {'id':'location_id'})"
   ]
  },
  {
   "cell_type": "code",
   "execution_count": 42,
   "metadata": {
    "collapsed": false
   },
   "outputs": [],
   "source": [
    "lines2 = pd.merge(lines,chars,on='character_id')"
   ]
  },
  {
   "cell_type": "code",
   "execution_count": 43,
   "metadata": {
    "collapsed": false
   },
   "outputs": [],
   "source": [
    "lines = pd.merge(lines2,locs,on='location_id')"
   ]
  },
  {
   "cell_type": "code",
   "execution_count": 48,
   "metadata": {
    "collapsed": false
   },
   "outputs": [],
   "source": [
    "lines = lines.rename(columns = {'name_x':'char_name',\n",
    "                                'normalized_name_x':'char_name_norm',\n",
    "                                'name_y':'loc_name',\n",
    "                                'normalized_name_y':'loc_name_norm'})"
   ]
  },
  {
   "cell_type": "code",
   "execution_count": 225,
   "metadata": {
    "collapsed": false,
    "scrolled": true
   },
   "outputs": [
    {
     "name": "stderr",
     "output_type": "stream",
     "text": [
      "C:\\Users\\corderoja\\AppData\\Local\\Continuum\\Anaconda2\\lib\\site-packages\\numpy\\lib\\function_base.py:3834: RuntimeWarning: Invalid value encountered in percentile\n",
      "  RuntimeWarning)\n"
     ]
    },
    {
     "data": {
      "text/html": [
       "<div>\n",
       "<table border=\"1\" class=\"dataframe\">\n",
       "  <thead>\n",
       "    <tr style=\"text-align: right;\">\n",
       "      <th></th>\n",
       "      <th>id</th>\n",
       "      <th>season</th>\n",
       "      <th>number_in_season</th>\n",
       "      <th>number_in_series</th>\n",
       "      <th>us_viewers_in_millions</th>\n",
       "      <th>views</th>\n",
       "      <th>imdb_rating</th>\n",
       "      <th>imdb_votes</th>\n",
       "    </tr>\n",
       "  </thead>\n",
       "  <tbody>\n",
       "    <tr>\n",
       "      <th>count</th>\n",
       "      <td>600.000000</td>\n",
       "      <td>600.000000</td>\n",
       "      <td>600.000000</td>\n",
       "      <td>600.000000</td>\n",
       "      <td>594.000000</td>\n",
       "      <td>596.000000</td>\n",
       "      <td>597.000000</td>\n",
       "      <td>597.000000</td>\n",
       "    </tr>\n",
       "    <tr>\n",
       "      <th>mean</th>\n",
       "      <td>300.500000</td>\n",
       "      <td>14.100000</td>\n",
       "      <td>11.585000</td>\n",
       "      <td>300.500000</td>\n",
       "      <td>11.842795</td>\n",
       "      <td>48759.377517</td>\n",
       "      <td>7.386097</td>\n",
       "      <td>832.365159</td>\n",
       "    </tr>\n",
       "    <tr>\n",
       "      <th>std</th>\n",
       "      <td>173.349358</td>\n",
       "      <td>7.755444</td>\n",
       "      <td>6.549881</td>\n",
       "      <td>173.349358</td>\n",
       "      <td>6.414218</td>\n",
       "      <td>17751.308464</td>\n",
       "      <td>0.732439</td>\n",
       "      <td>396.117937</td>\n",
       "    </tr>\n",
       "    <tr>\n",
       "      <th>min</th>\n",
       "      <td>1.000000</td>\n",
       "      <td>1.000000</td>\n",
       "      <td>1.000000</td>\n",
       "      <td>1.000000</td>\n",
       "      <td>2.320000</td>\n",
       "      <td>144.000000</td>\n",
       "      <td>4.500000</td>\n",
       "      <td>104.000000</td>\n",
       "    </tr>\n",
       "    <tr>\n",
       "      <th>25%</th>\n",
       "      <td>150.750000</td>\n",
       "      <td>7.000000</td>\n",
       "      <td>6.000000</td>\n",
       "      <td>150.750000</td>\n",
       "      <td>NaN</td>\n",
       "      <td>NaN</td>\n",
       "      <td>NaN</td>\n",
       "      <td>NaN</td>\n",
       "    </tr>\n",
       "    <tr>\n",
       "      <th>50%</th>\n",
       "      <td>300.500000</td>\n",
       "      <td>14.000000</td>\n",
       "      <td>11.000000</td>\n",
       "      <td>300.500000</td>\n",
       "      <td>NaN</td>\n",
       "      <td>NaN</td>\n",
       "      <td>NaN</td>\n",
       "      <td>NaN</td>\n",
       "    </tr>\n",
       "    <tr>\n",
       "      <th>75%</th>\n",
       "      <td>450.250000</td>\n",
       "      <td>21.000000</td>\n",
       "      <td>17.000000</td>\n",
       "      <td>450.250000</td>\n",
       "      <td>NaN</td>\n",
       "      <td>NaN</td>\n",
       "      <td>NaN</td>\n",
       "      <td>NaN</td>\n",
       "    </tr>\n",
       "    <tr>\n",
       "      <th>max</th>\n",
       "      <td>600.000000</td>\n",
       "      <td>28.000000</td>\n",
       "      <td>25.000000</td>\n",
       "      <td>600.000000</td>\n",
       "      <td>33.600000</td>\n",
       "      <td>171408.000000</td>\n",
       "      <td>9.200000</td>\n",
       "      <td>3734.000000</td>\n",
       "    </tr>\n",
       "  </tbody>\n",
       "</table>\n",
       "</div>"
      ],
      "text/plain": [
       "               id      season  number_in_season  number_in_series  \\\n",
       "count  600.000000  600.000000        600.000000        600.000000   \n",
       "mean   300.500000   14.100000         11.585000        300.500000   \n",
       "std    173.349358    7.755444          6.549881        173.349358   \n",
       "min      1.000000    1.000000          1.000000          1.000000   \n",
       "25%    150.750000    7.000000          6.000000        150.750000   \n",
       "50%    300.500000   14.000000         11.000000        300.500000   \n",
       "75%    450.250000   21.000000         17.000000        450.250000   \n",
       "max    600.000000   28.000000         25.000000        600.000000   \n",
       "\n",
       "       us_viewers_in_millions          views  imdb_rating   imdb_votes  \n",
       "count              594.000000     596.000000   597.000000   597.000000  \n",
       "mean                11.842795   48759.377517     7.386097   832.365159  \n",
       "std                  6.414218   17751.308464     0.732439   396.117937  \n",
       "min                  2.320000     144.000000     4.500000   104.000000  \n",
       "25%                       NaN            NaN          NaN          NaN  \n",
       "50%                       NaN            NaN          NaN          NaN  \n",
       "75%                       NaN            NaN          NaN          NaN  \n",
       "max                 33.600000  171408.000000     9.200000  3734.000000  "
      ]
     },
     "execution_count": 225,
     "metadata": {},
     "output_type": "execute_result"
    }
   ],
   "source": [
    "eps.describe()"
   ]
  },
  {
   "cell_type": "code",
   "execution_count": 227,
   "metadata": {
    "collapsed": false,
    "scrolled": false
   },
   "outputs": [
    {
     "data": {
      "text/html": [
       "<div>\n",
       "<table border=\"1\" class=\"dataframe\">\n",
       "  <thead>\n",
       "    <tr style=\"text-align: right;\">\n",
       "      <th></th>\n",
       "      <th>id</th>\n",
       "      <th>episode_id</th>\n",
       "      <th>number</th>\n",
       "      <th>location_id</th>\n",
       "      <th>word_count</th>\n",
       "    </tr>\n",
       "  </thead>\n",
       "  <tbody>\n",
       "    <tr>\n",
       "      <th>count</th>\n",
       "      <td>116039.000000</td>\n",
       "      <td>116039.000000</td>\n",
       "      <td>116039.000000</td>\n",
       "      <td>116039.000000</td>\n",
       "      <td>1.086930e+05</td>\n",
       "    </tr>\n",
       "    <tr>\n",
       "      <th>mean</th>\n",
       "      <td>75436.809237</td>\n",
       "      <td>264.236352</td>\n",
       "      <td>142.437792</td>\n",
       "      <td>830.780557</td>\n",
       "      <td>3.802013e+01</td>\n",
       "    </tr>\n",
       "    <tr>\n",
       "      <th>std</th>\n",
       "      <td>37926.452333</td>\n",
       "      <td>134.877621</td>\n",
       "      <td>83.705997</td>\n",
       "      <td>1124.321648</td>\n",
       "      <td>4.591158e+03</td>\n",
       "    </tr>\n",
       "    <tr>\n",
       "      <th>min</th>\n",
       "      <td>9549.000000</td>\n",
       "      <td>32.000000</td>\n",
       "      <td>1.000000</td>\n",
       "      <td>1.000000</td>\n",
       "      <td>0.000000e+00</td>\n",
       "    </tr>\n",
       "    <tr>\n",
       "      <th>25%</th>\n",
       "      <td>42995.000000</td>\n",
       "      <td>151.000000</td>\n",
       "      <td>71.000000</td>\n",
       "      <td>5.000000</td>\n",
       "      <td>NaN</td>\n",
       "    </tr>\n",
       "    <tr>\n",
       "      <th>50%</th>\n",
       "      <td>75174.000000</td>\n",
       "      <td>261.000000</td>\n",
       "      <td>141.000000</td>\n",
       "      <td>216.000000</td>\n",
       "      <td>NaN</td>\n",
       "    </tr>\n",
       "    <tr>\n",
       "      <th>75%</th>\n",
       "      <td>108218.500000</td>\n",
       "      <td>378.000000</td>\n",
       "      <td>211.000000</td>\n",
       "      <td>1400.000000</td>\n",
       "      <td>NaN</td>\n",
       "    </tr>\n",
       "    <tr>\n",
       "      <th>max</th>\n",
       "      <td>141768.000000</td>\n",
       "      <td>506.000000</td>\n",
       "      <td>394.000000</td>\n",
       "      <td>4065.000000</td>\n",
       "      <td>1.145000e+06</td>\n",
       "    </tr>\n",
       "  </tbody>\n",
       "</table>\n",
       "</div>"
      ],
      "text/plain": [
       "                  id     episode_id         number    location_id  \\\n",
       "count  116039.000000  116039.000000  116039.000000  116039.000000   \n",
       "mean    75436.809237     264.236352     142.437792     830.780557   \n",
       "std     37926.452333     134.877621      83.705997    1124.321648   \n",
       "min      9549.000000      32.000000       1.000000       1.000000   \n",
       "25%     42995.000000     151.000000      71.000000       5.000000   \n",
       "50%     75174.000000     261.000000     141.000000     216.000000   \n",
       "75%    108218.500000     378.000000     211.000000    1400.000000   \n",
       "max    141768.000000     506.000000     394.000000    4065.000000   \n",
       "\n",
       "         word_count  \n",
       "count  1.086930e+05  \n",
       "mean   3.802013e+01  \n",
       "std    4.591158e+03  \n",
       "min    0.000000e+00  \n",
       "25%             NaN  \n",
       "50%             NaN  \n",
       "75%             NaN  \n",
       "max    1.145000e+06  "
      ]
     },
     "execution_count": 227,
     "metadata": {},
     "output_type": "execute_result"
    }
   ],
   "source": [
    "lines.describe()"
   ]
  },
  {
   "cell_type": "markdown",
   "metadata": {},
   "source": [
    "## The average rating for all episodes of the Simpsons is 11.84."
   ]
  },
  {
   "cell_type": "code",
   "execution_count": 238,
   "metadata": {
    "collapsed": false,
    "scrolled": false
   },
   "outputs": [
    {
     "data": {
      "text/plain": [
       "<matplotlib.text.Text at 0x410de828>"
      ]
     },
     "execution_count": 238,
     "metadata": {},
     "output_type": "execute_result"
    },
    {
     "data": {
      "image/png": "[encoded data removed]",
      "text/plain": [
       "<matplotlib.figure.Figure at 0x40cbd1d0>"
      ]
     },
     "metadata": {},
     "output_type": "display_data"
    }
   ],
   "source": [
    "eps['us_viewers_in_millions'].plot(kind='hist',bins=30,color='gold',edgecolor='blue',stacked=True,title='Ratings Distibution').set_axis_bgcolor('aliceblue')\n",
    "eps['us_viewers_in_millions'].plot(kind='hist',bins=30,color='gold',edgecolor='blue',stacked=True,title='Ratings Distibution').set_xlabel('Ratings')"
   ]
  },
  {
   "cell_type": "markdown",
   "metadata": {},
   "source": [
    "## The Simpson gets an average 7.2 rating on IMDB. Since Ratings are used to determine the success of a program, I will be using the ratings metric in the project."
   ]
  },
  {
   "cell_type": "code",
   "execution_count": 261,
   "metadata": {
    "collapsed": true
   },
   "outputs": [],
   "source": [
    "x=pd.concat((eps['imdb_rating'],eps['us_viewers_in_millions']),axis = 1)"
   ]
  },
  {
   "cell_type": "code",
   "execution_count": 273,
   "metadata": {
    "collapsed": false
   },
   "outputs": [
    {
     "data": {
      "text/plain": [
       "<matplotlib.text.Text at 0x63bc6400>"
      ]
     },
     "execution_count": 273,
     "metadata": {},
     "output_type": "execute_result"
    },
    {
     "data": {
      "image/png": "[encoded data removed]",
      "text/plain": [
       "<matplotlib.figure.Figure at 0x63c5a5c0>"
      ]
     },
     "metadata": {},
     "output_type": "display_data"
    }
   ],
   "source": [
    "x.plot(kind='hist',bins=20,color=('gold','lightblue'),edgecolor='blue',alpha=0.5).set_xlabel('Rating')"
   ]
  },
  {
   "cell_type": "markdown",
   "metadata": {},
   "source": [
    "## Over time, ratings for seasons of the episodes see a steady decline up until season 12 where ratings projections jump from 8 million to 15 million."
   ]
  },
  {
   "cell_type": "code",
   "execution_count": 274,
   "metadata": {
    "collapsed": false,
    "scrolled": false
   },
   "outputs": [
    {
     "data": {
      "image/png": "[encoded data removed]",
      "text/plain": [
       "<matplotlib.figure.Figure at 0x638c5ef0>"
      ]
     },
     "metadata": {},
     "output_type": "display_data"
    }
   ],
   "source": [
    "eps.plot('season','us_viewers_in_millions',kind='scatter',title='Simpsons Ratings over the Seasons',\n",
    "         color='gold',marker='v',alpha=.5,edgecolor='None').set_ylabel('Rating');"
   ]
  },
  {
   "cell_type": "code",
   "execution_count": 265,
   "metadata": {
    "collapsed": false,
    "scrolled": true
   },
   "outputs": [
    {
     "data": {
      "text/plain": [
       "8.772272727272728"
      ]
     },
     "execution_count": 265,
     "metadata": {},
     "output_type": "execute_result"
    }
   ],
   "source": [
    "np.mean(eps['us_viewers_in_millions'].where(eps['season']==11))"
   ]
  },
  {
   "cell_type": "code",
   "execution_count": 266,
   "metadata": {
    "collapsed": false
   },
   "outputs": [
    {
     "data": {
      "text/plain": [
       "15.485714285714286"
      ]
     },
     "execution_count": 266,
     "metadata": {},
     "output_type": "execute_result"
    }
   ],
   "source": [
    "np.mean(eps['us_viewers_in_millions'].where(eps['season']==12))"
   ]
  },
  {
   "cell_type": "markdown",
   "metadata": {},
   "source": [
    "## Female characters tend to have significantly less lines in an episode than male characters of The Simpsons"
   ]
  },
  {
   "cell_type": "code",
   "execution_count": 268,
   "metadata": {
    "collapsed": false,
    "scrolled": true
   },
   "outputs": [
    {
     "data": {
      "image/png": "[encoded data removed]",
      "text/plain": [
       "<matplotlib.figure.Figure at 0x64c836a0>"
      ]
     },
     "metadata": {},
     "output_type": "display_data"
    }
   ],
   "source": [
    "lines['gender'].value_counts().plot(kind='barh',color='gold',edgecolor='blue').set_ylabel('Gender')\n",
    "lines['gender'].value_counts().plot(kind='barh',color='gold',edgecolor='blue').set_xlabel('Lines');"
   ]
  },
  {
   "cell_type": "markdown",
   "metadata": {},
   "source": [
    "## Based on thresholds, we can group different groups of characters based on the amount of lines each character had per episode of The Simpsons"
   ]
  },
  {
   "cell_type": "code",
   "execution_count": 270,
   "metadata": {
    "collapsed": false,
    "scrolled": true
   },
   "outputs": [
    {
     "data": {
      "image/png": "[encoded data removed]",
      "text/plain": [
       "<matplotlib.figure.Figure at 0x63de9f28>"
      ]
     },
     "metadata": {},
     "output_type": "display_data"
    }
   ],
   "source": [
    "plt.subplot(1, 3, 1)\n",
    "(lines.groupby(\"char_name\").count()[\"id\"].sort_values(ascending=False)[0:4]/600).plot(kind='bar',figsize=(15,5),title='Primary Characters').set_ylabel('Lines')\n",
    "plt.subplot(1, 3, 2)\n",
    "(lines.groupby(\"char_name\").count()[\"id\"].sort_values(ascending=False)[5:11]/600).plot(kind='bar',title ='Secondary Characters').set_ylabel('Lines')\n",
    "plt.subplot(1, 3, 3)\n",
    "(lines.groupby(\"char_name\").count()[\"id\"].sort_values(ascending=False)[12:20]/600).plot(kind='bar',title='Tertiary Characters').set_ylabel('Lines');"
   ]
  },
  {
   "cell_type": "markdown",
   "metadata": {},
   "source": [
    "## The same can be done when looking at location. Based on the top locations, the Simpson home seems to trump all other locations. A few locations are even a part of the Simpson home (i.e. Simpson Living Room), which will increase the count even more."
   ]
  },
  {
   "cell_type": "code",
   "execution_count": 271,
   "metadata": {
    "collapsed": false,
    "scrolled": false
   },
   "outputs": [
    {
     "data": {
      "text/plain": [
       "loc_name\n",
       "Simpson Home                       26893\n",
       "Springfield Elementary School       5176\n",
       "Moe's Tavern                        3401\n",
       "Springfield Nuclear Power Plant     2421\n",
       "Kwik-E-Mart                         1149\n",
       "First Church of Springfield          970\n",
       "Springfield Street                   955\n",
       "Springfield Town Hall                947\n",
       "Simpson Living Room                  936\n",
       "Simpson Car                          924\n",
       "Flanders Home                        890\n",
       "Springfield                          852\n",
       "Street                               832\n",
       "Burns Manor                          711\n",
       "Springfield Retirement Castle        673\n",
       "Courtroom                            650\n",
       "Springfield Mall                     621\n",
       "Simpson Kitchen                      584\n",
       "Bart's Treehouse                     546\n",
       "Springfield Convention Center        510\n",
       "Name: id, dtype: int64"
      ]
     },
     "execution_count": 271,
     "metadata": {},
     "output_type": "execute_result"
    }
   ],
   "source": [
    "lines.groupby(\"loc_name\").count()[\"id\"].sort_values(ascending=False)[0:20]"
   ]
  }
 ],
 "metadata": {
  "anaconda-cloud": {},
  "kernelspec": {
   "display_name": "Python [conda root]",
   "language": "python",
   "name": "conda-root-py"
  },
  "language_info": {
   "codemirror_mode": {
    "name": "ipython",
    "version": 2
   },
   "file_extension": ".py",
   "mimetype": "text/x-python",
   "name": "python",
   "nbconvert_exporter": "python",
   "pygments_lexer": "ipython2",
   "version": "2.7.12"
  }
 },
 "nbformat": 4,
 "nbformat_minor": 1
}
